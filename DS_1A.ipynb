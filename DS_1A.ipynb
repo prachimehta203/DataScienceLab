{
  "nbformat": 4,
  "nbformat_minor": 0,
  "metadata": {
    "colab": {
      "name": "DS_1A.ipynb",
      "provenance": [],
      "collapsed_sections": []
    },
    "kernelspec": {
      "name": "python3",
      "display_name": "Python 3"
    },
    "language_info": {
      "name": "python"
    }
  },
  "cells": [
    {
      "cell_type": "markdown",
      "source": [
        "Name: Prachi Mehta\n",
        "\n",
        "Batch: A\n",
        "\n",
        "UID: 2018130025\n",
        "\n",
        "Roll No: 17\n",
        "\n",
        "BE COMPS \n"
      ],
      "metadata": {
        "id": "yLAfEzm2JreI"
      }
    },
    {
      "cell_type": "code",
      "execution_count": 162,
      "metadata": {
        "id": "g9UWfLfFM8KR"
      },
      "outputs": [],
      "source": [
        "#importing pandas,math,numpy library\n",
        "import pandas as pd\n",
        "import math\n",
        "import numpy as np\n",
        "import matplotlib\n",
        "import matplotlib.pyplot as plt\n",
        "import seaborn as sns"
      ]
    },
    {
      "cell_type": "code",
      "source": [
        "df = pd.read_csv('/content/sample_data/horse.csv',encoding='latin-1')\n",
        "print(df)"
      ],
      "metadata": {
        "colab": {
          "base_uri": "https://localhost:8080/"
        },
        "id": "JUFUsas1NNEk",
        "outputId": "136500bb-48f6-48ce-b117-6eda00ec00b1"
      },
      "execution_count": 163,
      "outputs": [
        {
          "output_type": "stream",
          "name": "stdout",
          "text": [
            "    surgery    age  hospital_number  ...  lesion_2  lesion_3  cp_data\n",
            "0        no  adult           530101  ...         0         0       no\n",
            "1       yes  adult           534817  ...         0         0       no\n",
            "2        no  adult           530334  ...         0         0      yes\n",
            "3       yes  young          5290409  ...         0         0      yes\n",
            "4        no  adult           530255  ...         0         0       no\n",
            "..      ...    ...              ...  ...       ...       ...      ...\n",
            "294     yes  adult           533886  ...         0         0       no\n",
            "295      no  adult           527702  ...         0         0      yes\n",
            "296     yes  adult           529386  ...         0         0       no\n",
            "297     yes  adult           530612  ...         0         0      yes\n",
            "298     yes  adult           534618  ...         0         0       no\n",
            "\n",
            "[299 rows x 28 columns]\n"
          ]
        }
      ]
    },
    {
      "cell_type": "markdown",
      "source": [
        "Reading the csv file and storing it in dataframe it consists of 28 features and 299 enteries for each features\n"
      ],
      "metadata": {
        "id": "WSis883iipaj"
      }
    },
    {
      "cell_type": "code",
      "source": [
        "df.head()\n"
      ],
      "metadata": {
        "colab": {
          "base_uri": "https://localhost:8080/",
          "height": 270
        },
        "id": "x9kVDxdkRcWq",
        "outputId": "44574dae-6191-40dc-ccd7-75b838c345c7"
      },
      "execution_count": 164,
      "outputs": [
        {
          "output_type": "execute_result",
          "data": {
            "text/html": [
              "\n",
              "  <div id=\"df-8823fc2c-f5ad-4465-930c-4a6da3917033\">\n",
              "    <div class=\"colab-df-container\">\n",
              "      <div>\n",
              "<style scoped>\n",
              "    .dataframe tbody tr th:only-of-type {\n",
              "        vertical-align: middle;\n",
              "    }\n",
              "\n",
              "    .dataframe tbody tr th {\n",
              "        vertical-align: top;\n",
              "    }\n",
              "\n",
              "    .dataframe thead th {\n",
              "        text-align: right;\n",
              "    }\n",
              "</style>\n",
              "<table border=\"1\" class=\"dataframe\">\n",
              "  <thead>\n",
              "    <tr style=\"text-align: right;\">\n",
              "      <th></th>\n",
              "      <th>surgery</th>\n",
              "      <th>age</th>\n",
              "      <th>hospital_number</th>\n",
              "      <th>rectal_temp</th>\n",
              "      <th>pulse</th>\n",
              "      <th>respiratory_rate</th>\n",
              "      <th>temp_of_extremities</th>\n",
              "      <th>peripheral_pulse</th>\n",
              "      <th>mucous_membrane</th>\n",
              "      <th>capillary_refill_time</th>\n",
              "      <th>pain</th>\n",
              "      <th>peristalsis</th>\n",
              "      <th>abdominal_distention</th>\n",
              "      <th>nasogastric_tube</th>\n",
              "      <th>nasogastric_reflux</th>\n",
              "      <th>nasogastric_reflux_ph</th>\n",
              "      <th>rectal_exam_feces</th>\n",
              "      <th>abdomen</th>\n",
              "      <th>packed_cell_volume</th>\n",
              "      <th>total_protein</th>\n",
              "      <th>abdomo_appearance</th>\n",
              "      <th>abdomo_protein</th>\n",
              "      <th>outcome</th>\n",
              "      <th>surgical_lesion</th>\n",
              "      <th>lesion_1</th>\n",
              "      <th>lesion_2</th>\n",
              "      <th>lesion_3</th>\n",
              "      <th>cp_data</th>\n",
              "    </tr>\n",
              "  </thead>\n",
              "  <tbody>\n",
              "    <tr>\n",
              "      <th>0</th>\n",
              "      <td>no</td>\n",
              "      <td>adult</td>\n",
              "      <td>530101</td>\n",
              "      <td>38.5</td>\n",
              "      <td>66.0</td>\n",
              "      <td>28.0</td>\n",
              "      <td>cool</td>\n",
              "      <td>reduced</td>\n",
              "      <td>NaN</td>\n",
              "      <td>more_3_sec</td>\n",
              "      <td>extreme_pain</td>\n",
              "      <td>absent</td>\n",
              "      <td>severe</td>\n",
              "      <td>NaN</td>\n",
              "      <td>NaN</td>\n",
              "      <td>NaN</td>\n",
              "      <td>decreased</td>\n",
              "      <td>distend_large</td>\n",
              "      <td>45.0</td>\n",
              "      <td>8.4</td>\n",
              "      <td>NaN</td>\n",
              "      <td>NaN</td>\n",
              "      <td>died</td>\n",
              "      <td>no</td>\n",
              "      <td>11300</td>\n",
              "      <td>0</td>\n",
              "      <td>0</td>\n",
              "      <td>no</td>\n",
              "    </tr>\n",
              "    <tr>\n",
              "      <th>1</th>\n",
              "      <td>yes</td>\n",
              "      <td>adult</td>\n",
              "      <td>534817</td>\n",
              "      <td>39.2</td>\n",
              "      <td>88.0</td>\n",
              "      <td>20.0</td>\n",
              "      <td>NaN</td>\n",
              "      <td>NaN</td>\n",
              "      <td>pale_cyanotic</td>\n",
              "      <td>less_3_sec</td>\n",
              "      <td>mild_pain</td>\n",
              "      <td>absent</td>\n",
              "      <td>slight</td>\n",
              "      <td>NaN</td>\n",
              "      <td>NaN</td>\n",
              "      <td>NaN</td>\n",
              "      <td>absent</td>\n",
              "      <td>other</td>\n",
              "      <td>50.0</td>\n",
              "      <td>85.0</td>\n",
              "      <td>cloudy</td>\n",
              "      <td>2.0</td>\n",
              "      <td>euthanized</td>\n",
              "      <td>no</td>\n",
              "      <td>2208</td>\n",
              "      <td>0</td>\n",
              "      <td>0</td>\n",
              "      <td>no</td>\n",
              "    </tr>\n",
              "    <tr>\n",
              "      <th>2</th>\n",
              "      <td>no</td>\n",
              "      <td>adult</td>\n",
              "      <td>530334</td>\n",
              "      <td>38.3</td>\n",
              "      <td>40.0</td>\n",
              "      <td>24.0</td>\n",
              "      <td>normal</td>\n",
              "      <td>normal</td>\n",
              "      <td>pale_pink</td>\n",
              "      <td>less_3_sec</td>\n",
              "      <td>mild_pain</td>\n",
              "      <td>hypomotile</td>\n",
              "      <td>none</td>\n",
              "      <td>NaN</td>\n",
              "      <td>NaN</td>\n",
              "      <td>NaN</td>\n",
              "      <td>normal</td>\n",
              "      <td>normal</td>\n",
              "      <td>33.0</td>\n",
              "      <td>6.7</td>\n",
              "      <td>NaN</td>\n",
              "      <td>NaN</td>\n",
              "      <td>lived</td>\n",
              "      <td>no</td>\n",
              "      <td>0</td>\n",
              "      <td>0</td>\n",
              "      <td>0</td>\n",
              "      <td>yes</td>\n",
              "    </tr>\n",
              "    <tr>\n",
              "      <th>3</th>\n",
              "      <td>yes</td>\n",
              "      <td>young</td>\n",
              "      <td>5290409</td>\n",
              "      <td>39.1</td>\n",
              "      <td>164.0</td>\n",
              "      <td>84.0</td>\n",
              "      <td>cold</td>\n",
              "      <td>normal</td>\n",
              "      <td>dark_cyanotic</td>\n",
              "      <td>more_3_sec</td>\n",
              "      <td>depressed</td>\n",
              "      <td>absent</td>\n",
              "      <td>severe</td>\n",
              "      <td>none</td>\n",
              "      <td>less_1_liter</td>\n",
              "      <td>5.0</td>\n",
              "      <td>decreased</td>\n",
              "      <td>NaN</td>\n",
              "      <td>48.0</td>\n",
              "      <td>7.2</td>\n",
              "      <td>serosanguious</td>\n",
              "      <td>5.3</td>\n",
              "      <td>died</td>\n",
              "      <td>yes</td>\n",
              "      <td>2208</td>\n",
              "      <td>0</td>\n",
              "      <td>0</td>\n",
              "      <td>yes</td>\n",
              "    </tr>\n",
              "    <tr>\n",
              "      <th>4</th>\n",
              "      <td>no</td>\n",
              "      <td>adult</td>\n",
              "      <td>530255</td>\n",
              "      <td>37.3</td>\n",
              "      <td>104.0</td>\n",
              "      <td>35.0</td>\n",
              "      <td>NaN</td>\n",
              "      <td>NaN</td>\n",
              "      <td>dark_cyanotic</td>\n",
              "      <td>more_3_sec</td>\n",
              "      <td>NaN</td>\n",
              "      <td>NaN</td>\n",
              "      <td>NaN</td>\n",
              "      <td>NaN</td>\n",
              "      <td>NaN</td>\n",
              "      <td>NaN</td>\n",
              "      <td>NaN</td>\n",
              "      <td>NaN</td>\n",
              "      <td>74.0</td>\n",
              "      <td>7.4</td>\n",
              "      <td>NaN</td>\n",
              "      <td>NaN</td>\n",
              "      <td>died</td>\n",
              "      <td>no</td>\n",
              "      <td>4300</td>\n",
              "      <td>0</td>\n",
              "      <td>0</td>\n",
              "      <td>no</td>\n",
              "    </tr>\n",
              "  </tbody>\n",
              "</table>\n",
              "</div>\n",
              "      <button class=\"colab-df-convert\" onclick=\"convertToInteractive('df-8823fc2c-f5ad-4465-930c-4a6da3917033')\"\n",
              "              title=\"Convert this dataframe to an interactive table.\"\n",
              "              style=\"display:none;\">\n",
              "        \n",
              "  <svg xmlns=\"http://www.w3.org/2000/svg\" height=\"24px\"viewBox=\"0 0 24 24\"\n",
              "       width=\"24px\">\n",
              "    <path d=\"M0 0h24v24H0V0z\" fill=\"none\"/>\n",
              "    <path d=\"M18.56 5.44l.94 2.06.94-2.06 2.06-.94-2.06-.94-.94-2.06-.94 2.06-2.06.94zm-11 1L8.5 8.5l.94-2.06 2.06-.94-2.06-.94L8.5 2.5l-.94 2.06-2.06.94zm10 10l.94 2.06.94-2.06 2.06-.94-2.06-.94-.94-2.06-.94 2.06-2.06.94z\"/><path d=\"M17.41 7.96l-1.37-1.37c-.4-.4-.92-.59-1.43-.59-.52 0-1.04.2-1.43.59L10.3 9.45l-7.72 7.72c-.78.78-.78 2.05 0 2.83L4 21.41c.39.39.9.59 1.41.59.51 0 1.02-.2 1.41-.59l7.78-7.78 2.81-2.81c.8-.78.8-2.07 0-2.86zM5.41 20L4 18.59l7.72-7.72 1.47 1.35L5.41 20z\"/>\n",
              "  </svg>\n",
              "      </button>\n",
              "      \n",
              "  <style>\n",
              "    .colab-df-container {\n",
              "      display:flex;\n",
              "      flex-wrap:wrap;\n",
              "      gap: 12px;\n",
              "    }\n",
              "\n",
              "    .colab-df-convert {\n",
              "      background-color: #E8F0FE;\n",
              "      border: none;\n",
              "      border-radius: 50%;\n",
              "      cursor: pointer;\n",
              "      display: none;\n",
              "      fill: #1967D2;\n",
              "      height: 32px;\n",
              "      padding: 0 0 0 0;\n",
              "      width: 32px;\n",
              "    }\n",
              "\n",
              "    .colab-df-convert:hover {\n",
              "      background-color: #E2EBFA;\n",
              "      box-shadow: 0px 1px 2px rgba(60, 64, 67, 0.3), 0px 1px 3px 1px rgba(60, 64, 67, 0.15);\n",
              "      fill: #174EA6;\n",
              "    }\n",
              "\n",
              "    [theme=dark] .colab-df-convert {\n",
              "      background-color: #3B4455;\n",
              "      fill: #D2E3FC;\n",
              "    }\n",
              "\n",
              "    [theme=dark] .colab-df-convert:hover {\n",
              "      background-color: #434B5C;\n",
              "      box-shadow: 0px 1px 3px 1px rgba(0, 0, 0, 0.15);\n",
              "      filter: drop-shadow(0px 1px 2px rgba(0, 0, 0, 0.3));\n",
              "      fill: #FFFFFF;\n",
              "    }\n",
              "  </style>\n",
              "\n",
              "      <script>\n",
              "        const buttonEl =\n",
              "          document.querySelector('#df-8823fc2c-f5ad-4465-930c-4a6da3917033 button.colab-df-convert');\n",
              "        buttonEl.style.display =\n",
              "          google.colab.kernel.accessAllowed ? 'block' : 'none';\n",
              "\n",
              "        async function convertToInteractive(key) {\n",
              "          const element = document.querySelector('#df-8823fc2c-f5ad-4465-930c-4a6da3917033');\n",
              "          const dataTable =\n",
              "            await google.colab.kernel.invokeFunction('convertToInteractive',\n",
              "                                                     [key], {});\n",
              "          if (!dataTable) return;\n",
              "\n",
              "          const docLinkHtml = 'Like what you see? Visit the ' +\n",
              "            '<a target=\"_blank\" href=https://colab.research.google.com/notebooks/data_table.ipynb>data table notebook</a>'\n",
              "            + ' to learn more about interactive tables.';\n",
              "          element.innerHTML = '';\n",
              "          dataTable['output_type'] = 'display_data';\n",
              "          await google.colab.output.renderOutput(dataTable, element);\n",
              "          const docLink = document.createElement('div');\n",
              "          docLink.innerHTML = docLinkHtml;\n",
              "          element.appendChild(docLink);\n",
              "        }\n",
              "      </script>\n",
              "    </div>\n",
              "  </div>\n",
              "  "
            ],
            "text/plain": [
              "  surgery    age  hospital_number  ...  lesion_2  lesion_3  cp_data\n",
              "0      no  adult           530101  ...         0         0       no\n",
              "1     yes  adult           534817  ...         0         0       no\n",
              "2      no  adult           530334  ...         0         0      yes\n",
              "3     yes  young          5290409  ...         0         0      yes\n",
              "4      no  adult           530255  ...         0         0       no\n",
              "\n",
              "[5 rows x 28 columns]"
            ]
          },
          "metadata": {},
          "execution_count": 164
        }
      ]
    },
    {
      "cell_type": "markdown",
      "source": [
        "printing the top 5 enteries in the dataframe"
      ],
      "metadata": {
        "id": "yVta3s9YjJfW"
      }
    },
    {
      "cell_type": "code",
      "source": [
        "df.shape"
      ],
      "metadata": {
        "colab": {
          "base_uri": "https://localhost:8080/"
        },
        "id": "6Gu0G865RkFg",
        "outputId": "e33c5dce-046b-487f-9a30-ed6fb2ec9a67"
      },
      "execution_count": 165,
      "outputs": [
        {
          "output_type": "execute_result",
          "data": {
            "text/plain": [
              "(299, 28)"
            ]
          },
          "metadata": {},
          "execution_count": 165
        }
      ]
    },
    {
      "cell_type": "code",
      "source": [
        "df.info()"
      ],
      "metadata": {
        "colab": {
          "base_uri": "https://localhost:8080/"
        },
        "id": "P9SWNQYQRn13",
        "outputId": "3c0faa9f-81b1-480a-d9a3-122f1d6015b9"
      },
      "execution_count": 166,
      "outputs": [
        {
          "output_type": "stream",
          "name": "stdout",
          "text": [
            "<class 'pandas.core.frame.DataFrame'>\n",
            "RangeIndex: 299 entries, 0 to 298\n",
            "Data columns (total 28 columns):\n",
            " #   Column                 Non-Null Count  Dtype  \n",
            "---  ------                 --------------  -----  \n",
            " 0   surgery                299 non-null    object \n",
            " 1   age                    299 non-null    object \n",
            " 2   hospital_number        299 non-null    int64  \n",
            " 3   rectal_temp            239 non-null    float64\n",
            " 4   pulse                  275 non-null    float64\n",
            " 5   respiratory_rate       241 non-null    float64\n",
            " 6   temp_of_extremities    243 non-null    object \n",
            " 7   peripheral_pulse       230 non-null    object \n",
            " 8   mucous_membrane        252 non-null    object \n",
            " 9   capillary_refill_time  267 non-null    object \n",
            " 10  pain                   244 non-null    object \n",
            " 11  peristalsis            255 non-null    object \n",
            " 12  abdominal_distention   243 non-null    object \n",
            " 13  nasogastric_tube       195 non-null    object \n",
            " 14  nasogastric_reflux     193 non-null    object \n",
            " 15  nasogastric_reflux_ph  53 non-null     float64\n",
            " 16  rectal_exam_feces      197 non-null    object \n",
            " 17  abdomen                181 non-null    object \n",
            " 18  packed_cell_volume     270 non-null    float64\n",
            " 19  total_protein          266 non-null    float64\n",
            " 20  abdomo_appearance      134 non-null    object \n",
            " 21  abdomo_protein         101 non-null    float64\n",
            " 22  outcome                299 non-null    object \n",
            " 23  surgical_lesion        299 non-null    object \n",
            " 24  lesion_1               299 non-null    int64  \n",
            " 25  lesion_2               299 non-null    int64  \n",
            " 26  lesion_3               299 non-null    int64  \n",
            " 27  cp_data                299 non-null    object \n",
            "dtypes: float64(7), int64(4), object(17)\n",
            "memory usage: 65.5+ KB\n"
          ]
        }
      ]
    },
    {
      "cell_type": "markdown",
      "source": [
        "dataframe info gives information about number of non null values and its datatype"
      ],
      "metadata": {
        "id": "gzAv3221jaEc"
      }
    },
    {
      "cell_type": "code",
      "source": [
        "df.describe()"
      ],
      "metadata": {
        "colab": {
          "base_uri": "https://localhost:8080/",
          "height": 364
        },
        "id": "TYhjhI70SNzu",
        "outputId": "21f3f41b-8b66-4e54-a66b-6cc8caa5bf28"
      },
      "execution_count": 167,
      "outputs": [
        {
          "output_type": "execute_result",
          "data": {
            "text/html": [
              "\n",
              "  <div id=\"df-909f0462-2cde-4629-a86a-a76073717b31\">\n",
              "    <div class=\"colab-df-container\">\n",
              "      <div>\n",
              "<style scoped>\n",
              "    .dataframe tbody tr th:only-of-type {\n",
              "        vertical-align: middle;\n",
              "    }\n",
              "\n",
              "    .dataframe tbody tr th {\n",
              "        vertical-align: top;\n",
              "    }\n",
              "\n",
              "    .dataframe thead th {\n",
              "        text-align: right;\n",
              "    }\n",
              "</style>\n",
              "<table border=\"1\" class=\"dataframe\">\n",
              "  <thead>\n",
              "    <tr style=\"text-align: right;\">\n",
              "      <th></th>\n",
              "      <th>hospital_number</th>\n",
              "      <th>rectal_temp</th>\n",
              "      <th>pulse</th>\n",
              "      <th>respiratory_rate</th>\n",
              "      <th>nasogastric_reflux_ph</th>\n",
              "      <th>packed_cell_volume</th>\n",
              "      <th>total_protein</th>\n",
              "      <th>abdomo_protein</th>\n",
              "      <th>lesion_1</th>\n",
              "      <th>lesion_2</th>\n",
              "      <th>lesion_3</th>\n",
              "    </tr>\n",
              "  </thead>\n",
              "  <tbody>\n",
              "    <tr>\n",
              "      <th>count</th>\n",
              "      <td>2.990000e+02</td>\n",
              "      <td>239.000000</td>\n",
              "      <td>275.000000</td>\n",
              "      <td>241.000000</td>\n",
              "      <td>53.000000</td>\n",
              "      <td>270.000000</td>\n",
              "      <td>266.000000</td>\n",
              "      <td>101.000000</td>\n",
              "      <td>299.000000</td>\n",
              "      <td>299.000000</td>\n",
              "      <td>299.000000</td>\n",
              "    </tr>\n",
              "    <tr>\n",
              "      <th>mean</th>\n",
              "      <td>1.087733e+06</td>\n",
              "      <td>38.168619</td>\n",
              "      <td>72.000000</td>\n",
              "      <td>30.460581</td>\n",
              "      <td>4.707547</td>\n",
              "      <td>46.307407</td>\n",
              "      <td>24.274436</td>\n",
              "      <td>3.039604</td>\n",
              "      <td>3659.709030</td>\n",
              "      <td>90.528428</td>\n",
              "      <td>7.387960</td>\n",
              "    </tr>\n",
              "    <tr>\n",
              "      <th>std</th>\n",
              "      <td>1.532032e+06</td>\n",
              "      <td>0.733744</td>\n",
              "      <td>28.646219</td>\n",
              "      <td>17.666102</td>\n",
              "      <td>1.982311</td>\n",
              "      <td>10.436743</td>\n",
              "      <td>27.364194</td>\n",
              "      <td>1.967947</td>\n",
              "      <td>5408.472421</td>\n",
              "      <td>650.637139</td>\n",
              "      <td>127.749768</td>\n",
              "    </tr>\n",
              "    <tr>\n",
              "      <th>min</th>\n",
              "      <td>5.184760e+05</td>\n",
              "      <td>35.400000</td>\n",
              "      <td>30.000000</td>\n",
              "      <td>8.000000</td>\n",
              "      <td>1.000000</td>\n",
              "      <td>23.000000</td>\n",
              "      <td>3.300000</td>\n",
              "      <td>0.100000</td>\n",
              "      <td>0.000000</td>\n",
              "      <td>0.000000</td>\n",
              "      <td>0.000000</td>\n",
              "    </tr>\n",
              "    <tr>\n",
              "      <th>25%</th>\n",
              "      <td>5.289040e+05</td>\n",
              "      <td>37.800000</td>\n",
              "      <td>48.000000</td>\n",
              "      <td>18.000000</td>\n",
              "      <td>3.000000</td>\n",
              "      <td>38.000000</td>\n",
              "      <td>6.500000</td>\n",
              "      <td>2.000000</td>\n",
              "      <td>2111.500000</td>\n",
              "      <td>0.000000</td>\n",
              "      <td>0.000000</td>\n",
              "    </tr>\n",
              "    <tr>\n",
              "      <th>50%</th>\n",
              "      <td>5.303010e+05</td>\n",
              "      <td>38.200000</td>\n",
              "      <td>64.000000</td>\n",
              "      <td>25.000000</td>\n",
              "      <td>5.000000</td>\n",
              "      <td>45.000000</td>\n",
              "      <td>7.500000</td>\n",
              "      <td>2.300000</td>\n",
              "      <td>2322.000000</td>\n",
              "      <td>0.000000</td>\n",
              "      <td>0.000000</td>\n",
              "    </tr>\n",
              "    <tr>\n",
              "      <th>75%</th>\n",
              "      <td>5.347360e+05</td>\n",
              "      <td>38.500000</td>\n",
              "      <td>88.000000</td>\n",
              "      <td>36.000000</td>\n",
              "      <td>6.500000</td>\n",
              "      <td>52.000000</td>\n",
              "      <td>56.750000</td>\n",
              "      <td>3.900000</td>\n",
              "      <td>3209.000000</td>\n",
              "      <td>0.000000</td>\n",
              "      <td>0.000000</td>\n",
              "    </tr>\n",
              "    <tr>\n",
              "      <th>max</th>\n",
              "      <td>5.305629e+06</td>\n",
              "      <td>40.800000</td>\n",
              "      <td>184.000000</td>\n",
              "      <td>96.000000</td>\n",
              "      <td>7.500000</td>\n",
              "      <td>75.000000</td>\n",
              "      <td>89.000000</td>\n",
              "      <td>10.100000</td>\n",
              "      <td>41110.000000</td>\n",
              "      <td>7111.000000</td>\n",
              "      <td>2209.000000</td>\n",
              "    </tr>\n",
              "  </tbody>\n",
              "</table>\n",
              "</div>\n",
              "      <button class=\"colab-df-convert\" onclick=\"convertToInteractive('df-909f0462-2cde-4629-a86a-a76073717b31')\"\n",
              "              title=\"Convert this dataframe to an interactive table.\"\n",
              "              style=\"display:none;\">\n",
              "        \n",
              "  <svg xmlns=\"http://www.w3.org/2000/svg\" height=\"24px\"viewBox=\"0 0 24 24\"\n",
              "       width=\"24px\">\n",
              "    <path d=\"M0 0h24v24H0V0z\" fill=\"none\"/>\n",
              "    <path d=\"M18.56 5.44l.94 2.06.94-2.06 2.06-.94-2.06-.94-.94-2.06-.94 2.06-2.06.94zm-11 1L8.5 8.5l.94-2.06 2.06-.94-2.06-.94L8.5 2.5l-.94 2.06-2.06.94zm10 10l.94 2.06.94-2.06 2.06-.94-2.06-.94-.94-2.06-.94 2.06-2.06.94z\"/><path d=\"M17.41 7.96l-1.37-1.37c-.4-.4-.92-.59-1.43-.59-.52 0-1.04.2-1.43.59L10.3 9.45l-7.72 7.72c-.78.78-.78 2.05 0 2.83L4 21.41c.39.39.9.59 1.41.59.51 0 1.02-.2 1.41-.59l7.78-7.78 2.81-2.81c.8-.78.8-2.07 0-2.86zM5.41 20L4 18.59l7.72-7.72 1.47 1.35L5.41 20z\"/>\n",
              "  </svg>\n",
              "      </button>\n",
              "      \n",
              "  <style>\n",
              "    .colab-df-container {\n",
              "      display:flex;\n",
              "      flex-wrap:wrap;\n",
              "      gap: 12px;\n",
              "    }\n",
              "\n",
              "    .colab-df-convert {\n",
              "      background-color: #E8F0FE;\n",
              "      border: none;\n",
              "      border-radius: 50%;\n",
              "      cursor: pointer;\n",
              "      display: none;\n",
              "      fill: #1967D2;\n",
              "      height: 32px;\n",
              "      padding: 0 0 0 0;\n",
              "      width: 32px;\n",
              "    }\n",
              "\n",
              "    .colab-df-convert:hover {\n",
              "      background-color: #E2EBFA;\n",
              "      box-shadow: 0px 1px 2px rgba(60, 64, 67, 0.3), 0px 1px 3px 1px rgba(60, 64, 67, 0.15);\n",
              "      fill: #174EA6;\n",
              "    }\n",
              "\n",
              "    [theme=dark] .colab-df-convert {\n",
              "      background-color: #3B4455;\n",
              "      fill: #D2E3FC;\n",
              "    }\n",
              "\n",
              "    [theme=dark] .colab-df-convert:hover {\n",
              "      background-color: #434B5C;\n",
              "      box-shadow: 0px 1px 3px 1px rgba(0, 0, 0, 0.15);\n",
              "      filter: drop-shadow(0px 1px 2px rgba(0, 0, 0, 0.3));\n",
              "      fill: #FFFFFF;\n",
              "    }\n",
              "  </style>\n",
              "\n",
              "      <script>\n",
              "        const buttonEl =\n",
              "          document.querySelector('#df-909f0462-2cde-4629-a86a-a76073717b31 button.colab-df-convert');\n",
              "        buttonEl.style.display =\n",
              "          google.colab.kernel.accessAllowed ? 'block' : 'none';\n",
              "\n",
              "        async function convertToInteractive(key) {\n",
              "          const element = document.querySelector('#df-909f0462-2cde-4629-a86a-a76073717b31');\n",
              "          const dataTable =\n",
              "            await google.colab.kernel.invokeFunction('convertToInteractive',\n",
              "                                                     [key], {});\n",
              "          if (!dataTable) return;\n",
              "\n",
              "          const docLinkHtml = 'Like what you see? Visit the ' +\n",
              "            '<a target=\"_blank\" href=https://colab.research.google.com/notebooks/data_table.ipynb>data table notebook</a>'\n",
              "            + ' to learn more about interactive tables.';\n",
              "          element.innerHTML = '';\n",
              "          dataTable['output_type'] = 'display_data';\n",
              "          await google.colab.output.renderOutput(dataTable, element);\n",
              "          const docLink = document.createElement('div');\n",
              "          docLink.innerHTML = docLinkHtml;\n",
              "          element.appendChild(docLink);\n",
              "        }\n",
              "      </script>\n",
              "    </div>\n",
              "  </div>\n",
              "  "
            ],
            "text/plain": [
              "       hospital_number  rectal_temp  ...     lesion_2     lesion_3\n",
              "count     2.990000e+02   239.000000  ...   299.000000   299.000000\n",
              "mean      1.087733e+06    38.168619  ...    90.528428     7.387960\n",
              "std       1.532032e+06     0.733744  ...   650.637139   127.749768\n",
              "min       5.184760e+05    35.400000  ...     0.000000     0.000000\n",
              "25%       5.289040e+05    37.800000  ...     0.000000     0.000000\n",
              "50%       5.303010e+05    38.200000  ...     0.000000     0.000000\n",
              "75%       5.347360e+05    38.500000  ...     0.000000     0.000000\n",
              "max       5.305629e+06    40.800000  ...  7111.000000  2209.000000\n",
              "\n",
              "[8 rows x 11 columns]"
            ]
          },
          "metadata": {},
          "execution_count": 167
        }
      ]
    },
    {
      "cell_type": "markdown",
      "source": [
        "The Describe function returns the statistical summary of the dataframe or series"
      ],
      "metadata": {
        "id": "AYuQXFHJkEgB"
      }
    },
    {
      "cell_type": "code",
      "source": [
        "df.isnull().any()"
      ],
      "metadata": {
        "colab": {
          "base_uri": "https://localhost:8080/"
        },
        "id": "Mnpe2W3Kd2zk",
        "outputId": "6d684d17-6335-4235-c643-cdc2624a4d86"
      },
      "execution_count": 168,
      "outputs": [
        {
          "output_type": "execute_result",
          "data": {
            "text/plain": [
              "surgery                  False\n",
              "age                      False\n",
              "hospital_number          False\n",
              "rectal_temp               True\n",
              "pulse                     True\n",
              "respiratory_rate          True\n",
              "temp_of_extremities       True\n",
              "peripheral_pulse          True\n",
              "mucous_membrane           True\n",
              "capillary_refill_time     True\n",
              "pain                      True\n",
              "peristalsis               True\n",
              "abdominal_distention      True\n",
              "nasogastric_tube          True\n",
              "nasogastric_reflux        True\n",
              "nasogastric_reflux_ph     True\n",
              "rectal_exam_feces         True\n",
              "abdomen                   True\n",
              "packed_cell_volume        True\n",
              "total_protein             True\n",
              "abdomo_appearance         True\n",
              "abdomo_protein            True\n",
              "outcome                  False\n",
              "surgical_lesion          False\n",
              "lesion_1                 False\n",
              "lesion_2                 False\n",
              "lesion_3                 False\n",
              "cp_data                  False\n",
              "dtype: bool"
            ]
          },
          "metadata": {},
          "execution_count": 168
        }
      ]
    },
    {
      "cell_type": "markdown",
      "source": [
        "isnull checks which column/feature has null values where surgery,age,hospital_number, outcome, surgical_lesion,lesion_1,lesion_2,lesion_3,cp_data has no null values"
      ],
      "metadata": {
        "id": "7yDiSBt4kIjR"
      }
    },
    {
      "cell_type": "code",
      "source": [
        "null = df.isnull().sum()\n",
        "null = null/len(df)*100\n",
        "null = null[null>0]\n",
        "null.sort_values(inplace=True, ascending=False)\n",
        "null"
      ],
      "metadata": {
        "colab": {
          "base_uri": "https://localhost:8080/"
        },
        "id": "_Sdr2buYekjV",
        "outputId": "d4de09a4-4916-4669-d81a-258133d29079"
      },
      "execution_count": 169,
      "outputs": [
        {
          "output_type": "execute_result",
          "data": {
            "text/plain": [
              "nasogastric_reflux_ph    82.274247\n",
              "abdomo_protein           66.220736\n",
              "abdomo_appearance        55.183946\n",
              "abdomen                  39.464883\n",
              "nasogastric_reflux       35.451505\n",
              "nasogastric_tube         34.782609\n",
              "rectal_exam_feces        34.113712\n",
              "peripheral_pulse         23.076923\n",
              "rectal_temp              20.066890\n",
              "respiratory_rate         19.397993\n",
              "temp_of_extremities      18.729097\n",
              "abdominal_distention     18.729097\n",
              "pain                     18.394649\n",
              "mucous_membrane          15.719064\n",
              "peristalsis              14.715719\n",
              "total_protein            11.036789\n",
              "capillary_refill_time    10.702341\n",
              "packed_cell_volume        9.698997\n",
              "pulse                     8.026756\n",
              "dtype: float64"
            ]
          },
          "metadata": {},
          "execution_count": 169
        }
      ]
    },
    {
      "cell_type": "markdown",
      "source": [
        "counting the mising values from each features\n",
        "Calculating the missing values in percetange format\n",
        "And displaying it in sorted manner"
      ],
      "metadata": {
        "id": "_AtaknWck3vD"
      }
    },
    {
      "cell_type": "code",
      "source": [
        "null = null.to_frame() #convert into dataframe\n",
        "null.columns = ['count'] #add count column\n",
        "#add new feature\n",
        "null.index.name = 'Feature' \n",
        "null['Feature'] = null.index"
      ],
      "metadata": {
        "id": "qOY3KyVDnwpG"
      },
      "execution_count": 170,
      "outputs": []
    },
    {
      "cell_type": "code",
      "source": [
        "#ploting missing value of each attributes by percentage\n",
        "plt.figure(figsize=(20, 10))\n",
        "sns.set(font_scale=1.2)\n",
        "plt.style.use('ggplot')\n",
        "sns.barplot(x='Feature', y='count', data=null)\n",
        "plt.show()"
      ],
      "metadata": {
        "colab": {
          "base_uri": "https://localhost:8080/",
          "height": 513
        },
        "id": "4h6KzG7dny2c",
        "outputId": "60ff7ca8-d432-41e8-f908-31fcd017371f"
      },
      "execution_count": 171,
      "outputs": [
        {
          "output_type": "display_data",
          "data": {
            "image/png": "[encoded data removed]",
            "text/plain": [
              "<Figure size 1440x720 with 1 Axes>"
            ]
          },
          "metadata": {}
        }
      ]
    },
    {
      "cell_type": "markdown",
      "source": [
        "From this bar graph we get to know that the feature nasogastric_bdomen contains most null values while pulse contains less no of missing value"
      ],
      "metadata": {
        "id": "lGhNXL8AlUKn"
      }
    },
    {
      "cell_type": "code",
      "source": [
        "data = df['rectal_temp']\n",
        "# Generate histogram/distribution plot\n",
        "sns.displot(data,discrete = True, kde = True)\n",
        "plt.show()\n",
        "\n",
        "data = df['pulse']\n",
        "# Generate histogram/distribution plot\n",
        "sns.displot(data,discrete = True, kde = True)\n",
        "plt.show()\n",
        "\n",
        "data = df['respiratory_rate']\n",
        "# Generate histogram/distribution plot\n",
        "sns.displot(data,discrete = True, kde = True)\n",
        "plt.show()\n",
        "\n",
        "data = df['abdomo_protein']\n",
        "# Generate histogram/distribution plot\n",
        "sns.displot(data,discrete = True, kde = True)\n",
        "plt.show()\n",
        "\n",
        "data = df['total_protein']\n",
        "# Generate histogram/distribution plot\n",
        "sns.displot(data,discrete = True, kde = True)\n",
        "plt.show()\n",
        "\n",
        "data = df['packed_cell_volume']\n",
        "# Generate histogram/distribution plot\n",
        "sns.displot(data,discrete = True, kde = True)\n",
        "plt.show()\n",
        "\n",
        "data = df['nasogastric_reflux_ph']\n",
        "# Generate histogram/distribution plot\n",
        "sns.displot(data,discrete = True, kde = True)\n",
        "plt.show()\n"
      ],
      "metadata": {
        "colab": {
          "base_uri": "https://localhost:8080/",
          "height": 1000
        },
        "id": "RxiuIyp0ozWJ",
        "outputId": "a9e7fe7f-a9e9-48bb-a264-d6f1148e7790"
      },
      "execution_count": 172,
      "outputs": [
        {
          "output_type": "display_data",
          "data": {
            "image/png": "[encoded data removed]",
            "text/plain": [
              "<Figure size 360x360 with 1 Axes>"
            ]
          },
          "metadata": {}
        },
        {
          "output_type": "display_data",
          "data": {
            "image/png": "[encoded data removed]",
            "text/plain": [
              "<Figure size 360x360 with 1 Axes>"
            ]
          },
          "metadata": {}
        },
        {
          "output_type": "display_data",
          "data": {
            "image/png": "[encoded data removed]",
            "text/plain": [
              "<Figure size 360x360 with 1 Axes>"
            ]
          },
          "metadata": {}
        },
        {
          "output_type": "display_data",
          "data": {
            "image/png": "[encoded data removed]",
            "text/plain": [
              "<Figure size 360x360 with 1 Axes>"
            ]
          },
          "metadata": {}
        },
        {
          "output_type": "display_data",
          "data": {
            "image/png": "[encoded data removed]",
            "text/plain": [
              "<Figure size 360x360 with 1 Axes>"
            ]
          },
          "metadata": {}
        },
        {
          "output_type": "display_data",
          "data": {
            "image/png": "[encoded data removed]",
            "text/plain": [
              "<Figure size 360x360 with 1 Axes>"
            ]
          },
          "metadata": {}
        },
        {
          "output_type": "display_data",
          "data": {
            "image/png": "[encoded data removed]",
            "text/plain": [
              "<Figure size 360x360 with 1 Axes>"
            ]
          },
          "metadata": {}
        }
      ]
    },
    {
      "cell_type": "code",
      "source": [
        "## replacing surgery and age\n",
        "df = df.replace({'no':0, 'yes': 1, 'adult':1, 'young':2})"
      ],
      "metadata": {
        "id": "f_mXltFkt4jA"
      },
      "execution_count": 173,
      "outputs": []
    },
    {
      "cell_type": "code",
      "source": [
        "# rectal_temp\n",
        "df.rectal_temp = df.rectal_temp.fillna(value=df.rectal_temp.mean())"
      ],
      "metadata": {
        "id": "5hi01Fnuvgtd"
      },
      "execution_count": 174,
      "outputs": []
    },
    {
      "cell_type": "code",
      "source": [
        "# pulse\n",
        "df.pulse = df.pulse.fillna(value=df.pulse.mode()[0])"
      ],
      "metadata": {
        "id": "-b6LjXGEvnop"
      },
      "execution_count": 175,
      "outputs": []
    },
    {
      "cell_type": "code",
      "source": [
        "# respiratory_rate\n",
        "df.respiratory_rate = df.respiratory_rate.fillna(value=df.respiratory_rate.mode()[0])"
      ],
      "metadata": {
        "id": "YrkL4bQOv0SM"
      },
      "execution_count": 176,
      "outputs": []
    },
    {
      "cell_type": "code",
      "source": [
        "# abdomo_protein\n",
        "df.abdomo_protein = df.abdomo_protein.fillna(value=df.abdomo_protein.mean())"
      ],
      "metadata": {
        "id": "zbDJso4xv6om"
      },
      "execution_count": 177,
      "outputs": []
    },
    {
      "cell_type": "code",
      "source": [
        "# total_protein\n",
        "df.total_protein = df.total_protein.fillna(value=df.total_protein.mode()[0])"
      ],
      "metadata": {
        "id": "X8J_XQe_v-iN"
      },
      "execution_count": 178,
      "outputs": []
    },
    {
      "cell_type": "code",
      "source": [
        "# packed_cell_volume\n",
        "df.packed_cell_volume = df.packed_cell_volume.fillna(value=df.packed_cell_volume.mean())"
      ],
      "metadata": {
        "id": "3xcQS7CjwC9k"
      },
      "execution_count": 179,
      "outputs": []
    },
    {
      "cell_type": "code",
      "source": [
        "# nasogastric_reflux_ph\n",
        "df.nasogastric_reflux_ph = df.nasogastric_reflux_ph.fillna(value=df.nasogastric_reflux_ph.mode()[0])"
      ],
      "metadata": {
        "id": "xJ8Y5Ns4wFd2"
      },
      "execution_count": 180,
      "outputs": []
    },
    {
      "cell_type": "markdown",
      "source": [
        "We use central tendency measures such as mean, median or mode of the numeric feature column to replace or impute missing values.\n",
        "We use mean value to replace the missing values in case the data distribution is symmetric.\n",
        "Considering using median or mode with skewed data distribution."
      ],
      "metadata": {
        "id": "ECmVJnlqp00P"
      }
    },
    {
      "cell_type": "code",
      "source": [
        "sns.countplot(data=df, x='pain', hue = 'outcome') #We can see how the bigger the pain, the less the chance of survival"
      ],
      "metadata": {
        "colab": {
          "base_uri": "https://localhost:8080/",
          "height": 305
        },
        "id": "ShYy0kKzzHb-",
        "outputId": "63633060-d36c-4e8d-871c-fa52050b85e4"
      },
      "execution_count": 181,
      "outputs": [
        {
          "output_type": "execute_result",
          "data": {
            "text/plain": [
              "<matplotlib.axes._subplots.AxesSubplot at 0x7f175f6041d0>"
            ]
          },
          "metadata": {},
          "execution_count": 181
        },
        {
          "output_type": "display_data",
          "data": {
            "image/png": "[encoded data removed]",
            "text/plain": [
              "<Figure size 432x288 with 1 Axes>"
            ]
          },
          "metadata": {}
        }
      ]
    },
    {
      "cell_type": "code",
      "source": [
        "sns.countplot(data=df, x='abdominal_distention', hue = 'outcome') #the more distended the abdomen the lesser the chance of survival "
      ],
      "metadata": {
        "colab": {
          "base_uri": "https://localhost:8080/",
          "height": 305
        },
        "id": "dl58-kxdzdkd",
        "outputId": "85ac1b0a-044d-4a75-ad59-b7c7cf3b8e85"
      },
      "execution_count": 182,
      "outputs": [
        {
          "output_type": "execute_result",
          "data": {
            "text/plain": [
              "<matplotlib.axes._subplots.AxesSubplot at 0x7f175ef08990>"
            ]
          },
          "metadata": {},
          "execution_count": 182
        },
        {
          "output_type": "display_data",
          "data": {
            "image/png": "[encoded data removed]",
            "text/plain": [
              "<Figure size 432x288 with 1 Axes>"
            ]
          },
          "metadata": {}
        }
      ]
    },
    {
      "cell_type": "code",
      "source": [
        "#filling all object data type with their mode values\n",
        "col = null.index\n",
        "for i in col:\n",
        "    df[i] = df[i].fillna(df[i].mode()[0])"
      ],
      "metadata": {
        "id": "eEXBQfLIwTsa"
      },
      "execution_count": 183,
      "outputs": []
    },
    {
      "cell_type": "code",
      "source": [
        "# Label Encoding\n",
        "from sklearn.preprocessing import LabelEncoder\n",
        "col = df.columns\n",
        "print(col)\n",
        "for i in col:\n",
        "    lb = LabelEncoder()\n",
        "    lb.fit(df[i].values)\n",
        "    df[i] = lb.transform(df[i].values)"
      ],
      "metadata": {
        "colab": {
          "base_uri": "https://localhost:8080/"
        },
        "id": "SYPJ5w0fwjqP",
        "outputId": "54fbffa7-7cd6-4b8c-a353-71b93428fc73"
      },
      "execution_count": 184,
      "outputs": [
        {
          "output_type": "stream",
          "name": "stdout",
          "text": [
            "Index(['surgery', 'age', 'hospital_number', 'rectal_temp', 'pulse',\n",
            "       'respiratory_rate', 'temp_of_extremities', 'peripheral_pulse',\n",
            "       'mucous_membrane', 'capillary_refill_time', 'pain', 'peristalsis',\n",
            "       'abdominal_distention', 'nasogastric_tube', 'nasogastric_reflux',\n",
            "       'nasogastric_reflux_ph', 'rectal_exam_feces', 'abdomen',\n",
            "       'packed_cell_volume', 'total_protein', 'abdomo_appearance',\n",
            "       'abdomo_protein', 'outcome', 'surgical_lesion', 'lesion_1', 'lesion_2',\n",
            "       'lesion_3', 'cp_data'],\n",
            "      dtype='object')\n"
          ]
        }
      ]
    },
    {
      "cell_type": "markdown",
      "source": [
        "Label Encoding is done here to convert the labels into a numeric form so as to convert them into the machine-readable form. Machine learning algorithms can then decide in a better way how those labels must be operated."
      ],
      "metadata": {
        "id": "WdDuCBZtq2SJ"
      }
    },
    {
      "cell_type": "code",
      "source": [
        "#count the Classifing values\n",
        "df.outcome.value_counts()"
      ],
      "metadata": {
        "colab": {
          "base_uri": "https://localhost:8080/"
        },
        "id": "JfVx6x230J_G",
        "outputId": "16665a75-a9c0-4d2b-9b6f-b47691d98fb1"
      },
      "execution_count": 185,
      "outputs": [
        {
          "output_type": "execute_result",
          "data": {
            "text/plain": [
              "2    178\n",
              "0     77\n",
              "1     44\n",
              "Name: outcome, dtype: int64"
            ]
          },
          "metadata": {},
          "execution_count": 185
        }
      ]
    },
    {
      "cell_type": "code",
      "source": [
        "#plotint of above count\n",
        "plt.figure(figsize=(8, 5))\n",
        "sns.countplot(x='outcome', data=df)\n",
        "plt.show()"
      ],
      "metadata": {
        "colab": {
          "base_uri": "https://localhost:8080/",
          "height": 342
        },
        "id": "8ZRi26ZJ0XCY",
        "outputId": "35a71c4a-3c13-4271-c353-1758ea0fa9af"
      },
      "execution_count": 186,
      "outputs": [
        {
          "output_type": "display_data",
          "data": {
            "image/png": "[encoded data removed]",
            "text/plain": [
              "<Figure size 576x360 with 1 Axes>"
            ]
          },
          "metadata": {}
        }
      ]
    },
    {
      "cell_type": "code",
      "source": [
        "df_corr = df.corr()\n",
        "plt.figure(figsize=(10,8))\n",
        "sns.heatmap(df_corr,cmap='magma')"
      ],
      "metadata": {
        "colab": {
          "base_uri": "https://localhost:8080/",
          "height": 644
        },
        "id": "VemGHwqFJ6q6",
        "outputId": "bb9fa1a9-790c-4c48-c46c-fc055df7776f"
      },
      "execution_count": 187,
      "outputs": [
        {
          "output_type": "execute_result",
          "data": {
            "text/plain": [
              "<matplotlib.axes._subplots.AxesSubplot at 0x7f1762999c10>"
            ]
          },
          "metadata": {},
          "execution_count": 187
        },
        {
          "output_type": "display_data",
          "data": {
            "image/png": "[encoded data removed]",
            "text/plain": [
              "<Figure size 720x576 with 2 Axes>"
            ]
          },
          "metadata": {}
        }
      ]
    },
    {
      "cell_type": "code",
      "source": [
        "x = df_corr[['outcome']]\n",
        "sns.heatmap(x)"
      ],
      "metadata": {
        "colab": {
          "base_uri": "https://localhost:8080/",
          "height": 293
        },
        "id": "Twu29g5RLhT4",
        "outputId": "b66c0c23-a89b-40a6-9e36-9624fb656191"
      },
      "execution_count": 188,
      "outputs": [
        {
          "output_type": "execute_result",
          "data": {
            "text/plain": [
              "<matplotlib.axes._subplots.AxesSubplot at 0x7f175f8e2ad0>"
            ]
          },
          "metadata": {},
          "execution_count": 188
        },
        {
          "output_type": "display_data",
          "data": {
            "image/png": "[encoded data removed]",
            "text/plain": [
              "<Figure size 432x288 with 2 Axes>"
            ]
          },
          "metadata": {}
        }
      ]
    },
    {
      "cell_type": "code",
      "source": [
        "val = df.corr()['outcome'].sort_values()\n",
        "print(val)"
      ],
      "metadata": {
        "id": "agpQ5ZaWKRhp",
        "colab": {
          "base_uri": "https://localhost:8080/"
        },
        "outputId": "2d74ccef-f8f1-482b-90e3-93f6ee9ca6e2"
      },
      "execution_count": 189,
      "outputs": [
        {
          "output_type": "stream",
          "name": "stdout",
          "text": [
            "packed_cell_volume      -0.396487\n",
            "surgical_lesion         -0.332933\n",
            "pulse                   -0.315428\n",
            "lesion_1                -0.262154\n",
            "capillary_refill_time   -0.256294\n",
            "abdomo_appearance       -0.243140\n",
            "surgery                 -0.189222\n",
            "peripheral_pulse        -0.165719\n",
            "pain                    -0.161964\n",
            "nasogastric_reflux_ph   -0.151336\n",
            "abdomo_protein          -0.120052\n",
            "age                     -0.101782\n",
            "respiratory_rate        -0.090030\n",
            "cp_data                 -0.078066\n",
            "rectal_temp              0.029249\n",
            "lesion_3                 0.044631\n",
            "nasogastric_tube         0.049156\n",
            "mucous_membrane          0.056852\n",
            "lesion_2                 0.099136\n",
            "hospital_number          0.102674\n",
            "abdominal_distention     0.112309\n",
            "peristalsis              0.165844\n",
            "nasogastric_reflux       0.181422\n",
            "rectal_exam_feces        0.193004\n",
            "abdomen                  0.214875\n",
            "total_protein            0.249667\n",
            "temp_of_extremities      0.290367\n",
            "outcome                  1.000000\n",
            "Name: outcome, dtype: float64\n"
          ]
        }
      ]
    },
    {
      "cell_type": "markdown",
      "source": [
        "Removing fetures that are very less correlated less than 10% doest improve accuracy."
      ],
      "metadata": {
        "id": "3Up6A0LuwffB"
      }
    },
    {
      "cell_type": "code",
      "source": [
        "df.head()"
      ],
      "metadata": {
        "colab": {
          "base_uri": "https://localhost:8080/",
          "height": 270
        },
        "id": "QlPNRkVKvY1N",
        "outputId": "c9bcf611-d394-41fb-b7f6-d3d9e48a8621"
      },
      "execution_count": 190,
      "outputs": [
        {
          "output_type": "execute_result",
          "data": {
            "text/html": [
              "\n",
              "  <div id=\"df-e9439aff-1f62-479f-a59d-cbe8f93da0b4\">\n",
              "    <div class=\"colab-df-container\">\n",
              "      <div>\n",
              "<style scoped>\n",
              "    .dataframe tbody tr th:only-of-type {\n",
              "        vertical-align: middle;\n",
              "    }\n",
              "\n",
              "    .dataframe tbody tr th {\n",
              "        vertical-align: top;\n",
              "    }\n",
              "\n",
              "    .dataframe thead th {\n",
              "        text-align: right;\n",
              "    }\n",
              "</style>\n",
              "<table border=\"1\" class=\"dataframe\">\n",
              "  <thead>\n",
              "    <tr style=\"text-align: right;\">\n",
              "      <th></th>\n",
              "      <th>surgery</th>\n",
              "      <th>age</th>\n",
              "      <th>hospital_number</th>\n",
              "      <th>rectal_temp</th>\n",
              "      <th>pulse</th>\n",
              "      <th>respiratory_rate</th>\n",
              "      <th>temp_of_extremities</th>\n",
              "      <th>peripheral_pulse</th>\n",
              "      <th>mucous_membrane</th>\n",
              "      <th>capillary_refill_time</th>\n",
              "      <th>pain</th>\n",
              "      <th>peristalsis</th>\n",
              "      <th>abdominal_distention</th>\n",
              "      <th>nasogastric_tube</th>\n",
              "      <th>nasogastric_reflux</th>\n",
              "      <th>nasogastric_reflux_ph</th>\n",
              "      <th>rectal_exam_feces</th>\n",
              "      <th>abdomen</th>\n",
              "      <th>packed_cell_volume</th>\n",
              "      <th>total_protein</th>\n",
              "      <th>abdomo_appearance</th>\n",
              "      <th>abdomo_protein</th>\n",
              "      <th>outcome</th>\n",
              "      <th>surgical_lesion</th>\n",
              "      <th>lesion_1</th>\n",
              "      <th>lesion_2</th>\n",
              "      <th>lesion_3</th>\n",
              "      <th>cp_data</th>\n",
              "    </tr>\n",
              "  </thead>\n",
              "  <tbody>\n",
              "    <tr>\n",
              "      <th>0</th>\n",
              "      <td>0</td>\n",
              "      <td>0</td>\n",
              "      <td>125</td>\n",
              "      <td>24</td>\n",
              "      <td>17</td>\n",
              "      <td>16</td>\n",
              "      <td>1</td>\n",
              "      <td>3</td>\n",
              "      <td>3</td>\n",
              "      <td>2</td>\n",
              "      <td>2</td>\n",
              "      <td>0</td>\n",
              "      <td>2</td>\n",
              "      <td>2</td>\n",
              "      <td>2</td>\n",
              "      <td>2</td>\n",
              "      <td>1</td>\n",
              "      <td>0</td>\n",
              "      <td>21</td>\n",
              "      <td>36</td>\n",
              "      <td>1</td>\n",
              "      <td>15</td>\n",
              "      <td>0</td>\n",
              "      <td>0</td>\n",
              "      <td>55</td>\n",
              "      <td>0</td>\n",
              "      <td>0</td>\n",
              "      <td>0</td>\n",
              "    </tr>\n",
              "    <tr>\n",
              "      <th>1</th>\n",
              "      <td>1</td>\n",
              "      <td>0</td>\n",
              "      <td>214</td>\n",
              "      <td>31</td>\n",
              "      <td>28</td>\n",
              "      <td>9</td>\n",
              "      <td>1</td>\n",
              "      <td>2</td>\n",
              "      <td>4</td>\n",
              "      <td>1</td>\n",
              "      <td>3</td>\n",
              "      <td>0</td>\n",
              "      <td>3</td>\n",
              "      <td>2</td>\n",
              "      <td>2</td>\n",
              "      <td>2</td>\n",
              "      <td>0</td>\n",
              "      <td>4</td>\n",
              "      <td>27</td>\n",
              "      <td>77</td>\n",
              "      <td>1</td>\n",
              "      <td>6</td>\n",
              "      <td>1</td>\n",
              "      <td>0</td>\n",
              "      <td>13</td>\n",
              "      <td>0</td>\n",
              "      <td>0</td>\n",
              "      <td>0</td>\n",
              "    </tr>\n",
              "    <tr>\n",
              "      <th>2</th>\n",
              "      <td>0</td>\n",
              "      <td>0</td>\n",
              "      <td>140</td>\n",
              "      <td>22</td>\n",
              "      <td>3</td>\n",
              "      <td>13</td>\n",
              "      <td>2</td>\n",
              "      <td>2</td>\n",
              "      <td>5</td>\n",
              "      <td>1</td>\n",
              "      <td>3</td>\n",
              "      <td>2</td>\n",
              "      <td>1</td>\n",
              "      <td>2</td>\n",
              "      <td>2</td>\n",
              "      <td>2</td>\n",
              "      <td>3</td>\n",
              "      <td>3</td>\n",
              "      <td>8</td>\n",
              "      <td>19</td>\n",
              "      <td>1</td>\n",
              "      <td>15</td>\n",
              "      <td>2</td>\n",
              "      <td>0</td>\n",
              "      <td>0</td>\n",
              "      <td>0</td>\n",
              "      <td>0</td>\n",
              "      <td>1</td>\n",
              "    </tr>\n",
              "    <tr>\n",
              "      <th>3</th>\n",
              "      <td>1</td>\n",
              "      <td>1</td>\n",
              "      <td>264</td>\n",
              "      <td>30</td>\n",
              "      <td>50</td>\n",
              "      <td>36</td>\n",
              "      <td>0</td>\n",
              "      <td>2</td>\n",
              "      <td>2</td>\n",
              "      <td>2</td>\n",
              "      <td>1</td>\n",
              "      <td>0</td>\n",
              "      <td>2</td>\n",
              "      <td>0</td>\n",
              "      <td>0</td>\n",
              "      <td>9</td>\n",
              "      <td>1</td>\n",
              "      <td>0</td>\n",
              "      <td>25</td>\n",
              "      <td>24</td>\n",
              "      <td>2</td>\n",
              "      <td>30</td>\n",
              "      <td>0</td>\n",
              "      <td>1</td>\n",
              "      <td>13</td>\n",
              "      <td>0</td>\n",
              "      <td>0</td>\n",
              "      <td>1</td>\n",
              "    </tr>\n",
              "    <tr>\n",
              "      <th>4</th>\n",
              "      <td>0</td>\n",
              "      <td>0</td>\n",
              "      <td>133</td>\n",
              "      <td>11</td>\n",
              "      <td>34</td>\n",
              "      <td>20</td>\n",
              "      <td>1</td>\n",
              "      <td>2</td>\n",
              "      <td>2</td>\n",
              "      <td>2</td>\n",
              "      <td>3</td>\n",
              "      <td>2</td>\n",
              "      <td>1</td>\n",
              "      <td>2</td>\n",
              "      <td>2</td>\n",
              "      <td>2</td>\n",
              "      <td>0</td>\n",
              "      <td>0</td>\n",
              "      <td>49</td>\n",
              "      <td>26</td>\n",
              "      <td>1</td>\n",
              "      <td>15</td>\n",
              "      <td>0</td>\n",
              "      <td>0</td>\n",
              "      <td>36</td>\n",
              "      <td>0</td>\n",
              "      <td>0</td>\n",
              "      <td>0</td>\n",
              "    </tr>\n",
              "  </tbody>\n",
              "</table>\n",
              "</div>\n",
              "      <button class=\"colab-df-convert\" onclick=\"convertToInteractive('df-e9439aff-1f62-479f-a59d-cbe8f93da0b4')\"\n",
              "              title=\"Convert this dataframe to an interactive table.\"\n",
              "              style=\"display:none;\">\n",
              "        \n",
              "  <svg xmlns=\"http://www.w3.org/2000/svg\" height=\"24px\"viewBox=\"0 0 24 24\"\n",
              "       width=\"24px\">\n",
              "    <path d=\"M0 0h24v24H0V0z\" fill=\"none\"/>\n",
              "    <path d=\"M18.56 5.44l.94 2.06.94-2.06 2.06-.94-2.06-.94-.94-2.06-.94 2.06-2.06.94zm-11 1L8.5 8.5l.94-2.06 2.06-.94-2.06-.94L8.5 2.5l-.94 2.06-2.06.94zm10 10l.94 2.06.94-2.06 2.06-.94-2.06-.94-.94-2.06-.94 2.06-2.06.94z\"/><path d=\"M17.41 7.96l-1.37-1.37c-.4-.4-.92-.59-1.43-.59-.52 0-1.04.2-1.43.59L10.3 9.45l-7.72 7.72c-.78.78-.78 2.05 0 2.83L4 21.41c.39.39.9.59 1.41.59.51 0 1.02-.2 1.41-.59l7.78-7.78 2.81-2.81c.8-.78.8-2.07 0-2.86zM5.41 20L4 18.59l7.72-7.72 1.47 1.35L5.41 20z\"/>\n",
              "  </svg>\n",
              "      </button>\n",
              "      \n",
              "  <style>\n",
              "    .colab-df-container {\n",
              "      display:flex;\n",
              "      flex-wrap:wrap;\n",
              "      gap: 12px;\n",
              "    }\n",
              "\n",
              "    .colab-df-convert {\n",
              "      background-color: #E8F0FE;\n",
              "      border: none;\n",
              "      border-radius: 50%;\n",
              "      cursor: pointer;\n",
              "      display: none;\n",
              "      fill: #1967D2;\n",
              "      height: 32px;\n",
              "      padding: 0 0 0 0;\n",
              "      width: 32px;\n",
              "    }\n",
              "\n",
              "    .colab-df-convert:hover {\n",
              "      background-color: #E2EBFA;\n",
              "      box-shadow: 0px 1px 2px rgba(60, 64, 67, 0.3), 0px 1px 3px 1px rgba(60, 64, 67, 0.15);\n",
              "      fill: #174EA6;\n",
              "    }\n",
              "\n",
              "    [theme=dark] .colab-df-convert {\n",
              "      background-color: #3B4455;\n",
              "      fill: #D2E3FC;\n",
              "    }\n",
              "\n",
              "    [theme=dark] .colab-df-convert:hover {\n",
              "      background-color: #434B5C;\n",
              "      box-shadow: 0px 1px 3px 1px rgba(0, 0, 0, 0.15);\n",
              "      filter: drop-shadow(0px 1px 2px rgba(0, 0, 0, 0.3));\n",
              "      fill: #FFFFFF;\n",
              "    }\n",
              "  </style>\n",
              "\n",
              "      <script>\n",
              "        const buttonEl =\n",
              "          document.querySelector('#df-e9439aff-1f62-479f-a59d-cbe8f93da0b4 button.colab-df-convert');\n",
              "        buttonEl.style.display =\n",
              "          google.colab.kernel.accessAllowed ? 'block' : 'none';\n",
              "\n",
              "        async function convertToInteractive(key) {\n",
              "          const element = document.querySelector('#df-e9439aff-1f62-479f-a59d-cbe8f93da0b4');\n",
              "          const dataTable =\n",
              "            await google.colab.kernel.invokeFunction('convertToInteractive',\n",
              "                                                     [key], {});\n",
              "          if (!dataTable) return;\n",
              "\n",
              "          const docLinkHtml = 'Like what you see? Visit the ' +\n",
              "            '<a target=\"_blank\" href=https://colab.research.google.com/notebooks/data_table.ipynb>data table notebook</a>'\n",
              "            + ' to learn more about interactive tables.';\n",
              "          element.innerHTML = '';\n",
              "          dataTable['output_type'] = 'display_data';\n",
              "          await google.colab.output.renderOutput(dataTable, element);\n",
              "          const docLink = document.createElement('div');\n",
              "          docLink.innerHTML = docLinkHtml;\n",
              "          element.appendChild(docLink);\n",
              "        }\n",
              "      </script>\n",
              "    </div>\n",
              "  </div>\n",
              "  "
            ],
            "text/plain": [
              "   surgery  age  hospital_number  ...  lesion_2  lesion_3  cp_data\n",
              "0        0    0              125  ...         0         0        0\n",
              "1        1    0              214  ...         0         0        0\n",
              "2        0    0              140  ...         0         0        1\n",
              "3        1    1              264  ...         0         0        1\n",
              "4        0    0              133  ...         0         0        0\n",
              "\n",
              "[5 rows x 28 columns]"
            ]
          },
          "metadata": {},
          "execution_count": 190
        }
      ]
    },
    {
      "cell_type": "code",
      "source": [
        "#Separate data into feature and target\n",
        "X = df.drop('outcome', axis=1).values\n",
        "y = df['outcome'].values"
      ],
      "metadata": {
        "id": "7LXwQ6GF0avk"
      },
      "execution_count": 191,
      "outputs": []
    },
    {
      "cell_type": "code",
      "source": [
        "#split the data into train and test perpose\n",
        "from sklearn.model_selection import train_test_split\n",
        "X_train, X_test, y_train, y_test = train_test_split(X, y, test_size=0.20, random_state=10)"
      ],
      "metadata": {
        "id": "wkeoIP4x0iVh"
      },
      "execution_count": 192,
      "outputs": []
    },
    {
      "cell_type": "code",
      "source": [
        "from sklearn.linear_model import LogisticRegression\n",
        "model = LogisticRegression()\n",
        "model.fit(X_train, y_train)\n",
        "print('Acurracy of Model: ' + ' is {0:.2f}'.format(model.score(X_test, y_test)*100))"
      ],
      "metadata": {
        "colab": {
          "base_uri": "https://localhost:8080/"
        },
        "id": "L4JE5bGS0iez",
        "outputId": "f866b66b-b475-4380-d2e9-0a92ceb2d260"
      },
      "execution_count": 193,
      "outputs": [
        {
          "output_type": "stream",
          "name": "stdout",
          "text": [
            "Acurracy of Model:  is 73.33\n"
          ]
        },
        {
          "output_type": "stream",
          "name": "stderr",
          "text": [
            "/usr/local/lib/python3.7/dist-packages/sklearn/linear_model/_logistic.py:818: ConvergenceWarning: lbfgs failed to converge (status=1):\n",
            "STOP: TOTAL NO. of ITERATIONS REACHED LIMIT.\n",
            "\n",
            "Increase the number of iterations (max_iter) or scale the data as shown in:\n",
            "    https://scikit-learn.org/stable/modules/preprocessing.html\n",
            "Please also refer to the documentation for alternative solver options:\n",
            "    https://scikit-learn.org/stable/modules/linear_model.html#logistic-regression\n",
            "  extra_warning_msg=_LOGISTIC_SOLVER_CONVERGENCE_MSG,\n"
          ]
        }
      ]
    },
    {
      "cell_type": "code",
      "source": [
        "y_pred = model.predict(X_test)"
      ],
      "metadata": {
        "id": "5itdbY981GLs"
      },
      "execution_count": 194,
      "outputs": []
    },
    {
      "cell_type": "code",
      "source": [
        "score = model.score(X_test, y_test)*100\n",
        "print(score)"
      ],
      "metadata": {
        "colab": {
          "base_uri": "https://localhost:8080/"
        },
        "id": "5rI1A9JCLohY",
        "outputId": "58ef1f06-169f-435b-dab0-ea870c94444d"
      },
      "execution_count": 195,
      "outputs": [
        {
          "output_type": "stream",
          "name": "stdout",
          "text": [
            "73.33333333333333\n"
          ]
        }
      ]
    },
    {
      "cell_type": "code",
      "source": [
        "from sklearn.metrics import confusion_matrix\n",
        "cm = confusion_matrix(y_pred, y_test)\n",
        "sns.set(font_scale=1.3)\n",
        "sns.heatmap(cm, annot=True)\n",
        "all_sample_title = 'Accuracy Score: {0}'.format(score)\n",
        "plt.title(all_sample_title, size = 15);\n",
        "plt.show()"
      ],
      "metadata": {
        "colab": {
          "base_uri": "https://localhost:8080/",
          "height": 290
        },
        "id": "lm8iQfMX3EGT",
        "outputId": "bd69c43c-f3cd-4b41-ea61-9b6e2f72c827"
      },
      "execution_count": 196,
      "outputs": [
        {
          "output_type": "display_data",
          "data": {
            "image/png": "[encoded data removed]",
            "text/plain": [
              "<Figure size 432x288 with 2 Axes>"
            ]
          },
          "metadata": {}
        }
      ]
    },
    {
      "cell_type": "markdown",
      "source": [
        "Based on the 3x3 confusion matrix in this fig the columns are the predictions and the rows must therefore be the actual values. The main diagonal  gives the correct predictions. That is, the cases where the actual values and the model predictions are the same."
      ],
      "metadata": {
        "id": "ykJLfWztsJHS"
      }
    },
    {
      "cell_type": "code",
      "source": [
        "for i in range(len(X_test)):\n",
        "  print(\"Prediction value \" + str(model.predict([X_test[i]])))\n",
        "  print(\"Real value \" + str(y_test[i]))"
      ],
      "metadata": {
        "id": "kJjdeajq3LM2",
        "outputId": "01f02e36-aeeb-429d-f0ba-b351c2638356",
        "colab": {
          "base_uri": "https://localhost:8080/"
        }
      },
      "execution_count": 197,
      "outputs": [
        {
          "output_type": "stream",
          "name": "stdout",
          "text": [
            "Prediction value [1]\n",
            "Real value 2\n",
            "Prediction value [2]\n",
            "Real value 2\n",
            "Prediction value [2]\n",
            "Real value 2\n",
            "Prediction value [0]\n",
            "Real value 0\n",
            "Prediction value [0]\n",
            "Real value 1\n",
            "Prediction value [2]\n",
            "Real value 2\n",
            "Prediction value [2]\n",
            "Real value 2\n",
            "Prediction value [2]\n",
            "Real value 2\n",
            "Prediction value [2]\n",
            "Real value 1\n",
            "Prediction value [0]\n",
            "Real value 0\n",
            "Prediction value [2]\n",
            "Real value 2\n",
            "Prediction value [1]\n",
            "Real value 1\n",
            "Prediction value [1]\n",
            "Real value 2\n",
            "Prediction value [0]\n",
            "Real value 0\n",
            "Prediction value [2]\n",
            "Real value 2\n",
            "Prediction value [2]\n",
            "Real value 2\n",
            "Prediction value [2]\n",
            "Real value 2\n",
            "Prediction value [2]\n",
            "Real value 2\n",
            "Prediction value [2]\n",
            "Real value 2\n",
            "Prediction value [0]\n",
            "Real value 0\n",
            "Prediction value [2]\n",
            "Real value 2\n",
            "Prediction value [2]\n",
            "Real value 2\n",
            "Prediction value [2]\n",
            "Real value 2\n",
            "Prediction value [2]\n",
            "Real value 1\n",
            "Prediction value [2]\n",
            "Real value 2\n",
            "Prediction value [1]\n",
            "Real value 2\n",
            "Prediction value [0]\n",
            "Real value 2\n",
            "Prediction value [2]\n",
            "Real value 2\n",
            "Prediction value [2]\n",
            "Real value 2\n",
            "Prediction value [2]\n",
            "Real value 0\n",
            "Prediction value [2]\n",
            "Real value 2\n",
            "Prediction value [2]\n",
            "Real value 2\n",
            "Prediction value [2]\n",
            "Real value 2\n",
            "Prediction value [2]\n",
            "Real value 1\n",
            "Prediction value [0]\n",
            "Real value 2\n",
            "Prediction value [2]\n",
            "Real value 2\n",
            "Prediction value [2]\n",
            "Real value 2\n",
            "Prediction value [2]\n",
            "Real value 2\n",
            "Prediction value [2]\n",
            "Real value 2\n",
            "Prediction value [0]\n",
            "Real value 0\n",
            "Prediction value [2]\n",
            "Real value 2\n",
            "Prediction value [2]\n",
            "Real value 1\n",
            "Prediction value [2]\n",
            "Real value 2\n",
            "Prediction value [0]\n",
            "Real value 0\n",
            "Prediction value [2]\n",
            "Real value 2\n",
            "Prediction value [2]\n",
            "Real value 2\n",
            "Prediction value [2]\n",
            "Real value 2\n",
            "Prediction value [2]\n",
            "Real value 2\n",
            "Prediction value [0]\n",
            "Real value 1\n",
            "Prediction value [0]\n",
            "Real value 2\n",
            "Prediction value [2]\n",
            "Real value 2\n",
            "Prediction value [2]\n",
            "Real value 2\n",
            "Prediction value [0]\n",
            "Real value 2\n",
            "Prediction value [2]\n",
            "Real value 2\n",
            "Prediction value [2]\n",
            "Real value 2\n",
            "Prediction value [2]\n",
            "Real value 0\n",
            "Prediction value [2]\n",
            "Real value 2\n",
            "Prediction value [0]\n",
            "Real value 0\n",
            "Prediction value [2]\n",
            "Real value 2\n",
            "Prediction value [0]\n",
            "Real value 1\n"
          ]
        }
      ]
    },
    {
      "cell_type": "code",
      "source": [
        "#import GridseachCV\n",
        "from sklearn.model_selection import GridSearchCV\n",
        "\n",
        "#Instantiate\n",
        "clf = LogisticRegression()\n",
        "\n",
        "#Grid\n",
        "parameter_grid = {'C': [0.01, 0.1, 1, 2, 10, 100], 'penalty': ['l1', 'l2']}\n",
        "\n",
        "#Gridsearch\n",
        "gridsearch = GridSearchCV(clf, parameter_grid)\n",
        "gridsearch.fit(X_train, y_train);\n",
        "\n",
        "#Get best hyperparameters\n",
        "gridsearch.best_params_"
      ],
      "metadata": {
        "colab": {
          "base_uri": "https://localhost:8080/"
        },
        "id": "BAw3h4RsbLuK",
        "outputId": "8b0d9841-3d4f-43d8-cfc2-32e4bb7e0a9e"
      },
      "execution_count": 198,
      "outputs": [
        {
          "output_type": "stream",
          "name": "stderr",
          "text": [
            "/usr/local/lib/python3.7/dist-packages/sklearn/linear_model/_logistic.py:818: ConvergenceWarning: lbfgs failed to converge (status=1):\n",
            "STOP: TOTAL NO. of ITERATIONS REACHED LIMIT.\n",
            "\n",
            "Increase the number of iterations (max_iter) or scale the data as shown in:\n",
            "    https://scikit-learn.org/stable/modules/preprocessing.html\n",
            "Please also refer to the documentation for alternative solver options:\n",
            "    https://scikit-learn.org/stable/modules/linear_model.html#logistic-regression\n",
            "  extra_warning_msg=_LOGISTIC_SOLVER_CONVERGENCE_MSG,\n",
            "/usr/local/lib/python3.7/dist-packages/sklearn/linear_model/_logistic.py:818: ConvergenceWarning: lbfgs failed to converge (status=1):\n",
            "STOP: TOTAL NO. of ITERATIONS REACHED LIMIT.\n",
            "\n",
            "Increase the number of iterations (max_iter) or scale the data as shown in:\n",
            "    https://scikit-learn.org/stable/modules/preprocessing.html\n",
            "Please also refer to the documentation for alternative solver options:\n",
            "    https://scikit-learn.org/stable/modules/linear_model.html#logistic-regression\n",
            "  extra_warning_msg=_LOGISTIC_SOLVER_CONVERGENCE_MSG,\n",
            "/usr/local/lib/python3.7/dist-packages/sklearn/linear_model/_logistic.py:818: ConvergenceWarning: lbfgs failed to converge (status=1):\n",
            "STOP: TOTAL NO. of ITERATIONS REACHED LIMIT.\n",
            "\n",
            "Increase the number of iterations (max_iter) or scale the data as shown in:\n",
            "    https://scikit-learn.org/stable/modules/preprocessing.html\n",
            "Please also refer to the documentation for alternative solver options:\n",
            "    https://scikit-learn.org/stable/modules/linear_model.html#logistic-regression\n",
            "  extra_warning_msg=_LOGISTIC_SOLVER_CONVERGENCE_MSG,\n",
            "/usr/local/lib/python3.7/dist-packages/sklearn/linear_model/_logistic.py:818: ConvergenceWarning: lbfgs failed to converge (status=1):\n",
            "STOP: TOTAL NO. of ITERATIONS REACHED LIMIT.\n",
            "\n",
            "Increase the number of iterations (max_iter) or scale the data as shown in:\n",
            "    https://scikit-learn.org/stable/modules/preprocessing.html\n",
            "Please also refer to the documentation for alternative solver options:\n",
            "    https://scikit-learn.org/stable/modules/linear_model.html#logistic-regression\n",
            "  extra_warning_msg=_LOGISTIC_SOLVER_CONVERGENCE_MSG,\n",
            "/usr/local/lib/python3.7/dist-packages/sklearn/linear_model/_logistic.py:818: ConvergenceWarning: lbfgs failed to converge (status=1):\n",
            "STOP: TOTAL NO. of ITERATIONS REACHED LIMIT.\n",
            "\n",
            "Increase the number of iterations (max_iter) or scale the data as shown in:\n",
            "    https://scikit-learn.org/stable/modules/preprocessing.html\n",
            "Please also refer to the documentation for alternative solver options:\n",
            "    https://scikit-learn.org/stable/modules/linear_model.html#logistic-regression\n",
            "  extra_warning_msg=_LOGISTIC_SOLVER_CONVERGENCE_MSG,\n",
            "/usr/local/lib/python3.7/dist-packages/sklearn/linear_model/_logistic.py:818: ConvergenceWarning: lbfgs failed to converge (status=1):\n",
            "STOP: TOTAL NO. of ITERATIONS REACHED LIMIT.\n",
            "\n",
            "Increase the number of iterations (max_iter) or scale the data as shown in:\n",
            "    https://scikit-learn.org/stable/modules/preprocessing.html\n",
            "Please also refer to the documentation for alternative solver options:\n",
            "    https://scikit-learn.org/stable/modules/linear_model.html#logistic-regression\n",
            "  extra_warning_msg=_LOGISTIC_SOLVER_CONVERGENCE_MSG,\n",
            "/usr/local/lib/python3.7/dist-packages/sklearn/linear_model/_logistic.py:818: ConvergenceWarning: lbfgs failed to converge (status=1):\n",
            "STOP: TOTAL NO. of ITERATIONS REACHED LIMIT.\n",
            "\n",
            "Increase the number of iterations (max_iter) or scale the data as shown in:\n",
            "    https://scikit-learn.org/stable/modules/preprocessing.html\n",
            "Please also refer to the documentation for alternative solver options:\n",
            "    https://scikit-learn.org/stable/modules/linear_model.html#logistic-regression\n",
            "  extra_warning_msg=_LOGISTIC_SOLVER_CONVERGENCE_MSG,\n",
            "/usr/local/lib/python3.7/dist-packages/sklearn/linear_model/_logistic.py:818: ConvergenceWarning: lbfgs failed to converge (status=1):\n",
            "STOP: TOTAL NO. of ITERATIONS REACHED LIMIT.\n",
            "\n",
            "Increase the number of iterations (max_iter) or scale the data as shown in:\n",
            "    https://scikit-learn.org/stable/modules/preprocessing.html\n",
            "Please also refer to the documentation for alternative solver options:\n",
            "    https://scikit-learn.org/stable/modules/linear_model.html#logistic-regression\n",
            "  extra_warning_msg=_LOGISTIC_SOLVER_CONVERGENCE_MSG,\n",
            "/usr/local/lib/python3.7/dist-packages/sklearn/linear_model/_logistic.py:818: ConvergenceWarning: lbfgs failed to converge (status=1):\n",
            "STOP: TOTAL NO. of ITERATIONS REACHED LIMIT.\n",
            "\n",
            "Increase the number of iterations (max_iter) or scale the data as shown in:\n",
            "    https://scikit-learn.org/stable/modules/preprocessing.html\n",
            "Please also refer to the documentation for alternative solver options:\n",
            "    https://scikit-learn.org/stable/modules/linear_model.html#logistic-regression\n",
            "  extra_warning_msg=_LOGISTIC_SOLVER_CONVERGENCE_MSG,\n",
            "/usr/local/lib/python3.7/dist-packages/sklearn/linear_model/_logistic.py:818: ConvergenceWarning: lbfgs failed to converge (status=1):\n",
            "STOP: TOTAL NO. of ITERATIONS REACHED LIMIT.\n",
            "\n",
            "Increase the number of iterations (max_iter) or scale the data as shown in:\n",
            "    https://scikit-learn.org/stable/modules/preprocessing.html\n",
            "Please also refer to the documentation for alternative solver options:\n",
            "    https://scikit-learn.org/stable/modules/linear_model.html#logistic-regression\n",
            "  extra_warning_msg=_LOGISTIC_SOLVER_CONVERGENCE_MSG,\n",
            "/usr/local/lib/python3.7/dist-packages/sklearn/linear_model/_logistic.py:818: ConvergenceWarning: lbfgs failed to converge (status=1):\n",
            "STOP: TOTAL NO. of ITERATIONS REACHED LIMIT.\n",
            "\n",
            "Increase the number of iterations (max_iter) or scale the data as shown in:\n",
            "    https://scikit-learn.org/stable/modules/preprocessing.html\n",
            "Please also refer to the documentation for alternative solver options:\n",
            "    https://scikit-learn.org/stable/modules/linear_model.html#logistic-regression\n",
            "  extra_warning_msg=_LOGISTIC_SOLVER_CONVERGENCE_MSG,\n",
            "/usr/local/lib/python3.7/dist-packages/sklearn/linear_model/_logistic.py:818: ConvergenceWarning: lbfgs failed to converge (status=1):\n",
            "STOP: TOTAL NO. of ITERATIONS REACHED LIMIT.\n",
            "\n",
            "Increase the number of iterations (max_iter) or scale the data as shown in:\n",
            "    https://scikit-learn.org/stable/modules/preprocessing.html\n",
            "Please also refer to the documentation for alternative solver options:\n",
            "    https://scikit-learn.org/stable/modules/linear_model.html#logistic-regression\n",
            "  extra_warning_msg=_LOGISTIC_SOLVER_CONVERGENCE_MSG,\n",
            "/usr/local/lib/python3.7/dist-packages/sklearn/linear_model/_logistic.py:818: ConvergenceWarning: lbfgs failed to converge (status=1):\n",
            "STOP: TOTAL NO. of ITERATIONS REACHED LIMIT.\n",
            "\n",
            "Increase the number of iterations (max_iter) or scale the data as shown in:\n",
            "    https://scikit-learn.org/stable/modules/preprocessing.html\n",
            "Please also refer to the documentation for alternative solver options:\n",
            "    https://scikit-learn.org/stable/modules/linear_model.html#logistic-regression\n",
            "  extra_warning_msg=_LOGISTIC_SOLVER_CONVERGENCE_MSG,\n",
            "/usr/local/lib/python3.7/dist-packages/sklearn/linear_model/_logistic.py:818: ConvergenceWarning: lbfgs failed to converge (status=1):\n",
            "STOP: TOTAL NO. of ITERATIONS REACHED LIMIT.\n",
            "\n",
            "Increase the number of iterations (max_iter) or scale the data as shown in:\n",
            "    https://scikit-learn.org/stable/modules/preprocessing.html\n",
            "Please also refer to the documentation for alternative solver options:\n",
            "    https://scikit-learn.org/stable/modules/linear_model.html#logistic-regression\n",
            "  extra_warning_msg=_LOGISTIC_SOLVER_CONVERGENCE_MSG,\n",
            "/usr/local/lib/python3.7/dist-packages/sklearn/linear_model/_logistic.py:818: ConvergenceWarning: lbfgs failed to converge (status=1):\n",
            "STOP: TOTAL NO. of ITERATIONS REACHED LIMIT.\n",
            "\n",
            "Increase the number of iterations (max_iter) or scale the data as shown in:\n",
            "    https://scikit-learn.org/stable/modules/preprocessing.html\n",
            "Please also refer to the documentation for alternative solver options:\n",
            "    https://scikit-learn.org/stable/modules/linear_model.html#logistic-regression\n",
            "  extra_warning_msg=_LOGISTIC_SOLVER_CONVERGENCE_MSG,\n",
            "/usr/local/lib/python3.7/dist-packages/sklearn/linear_model/_logistic.py:818: ConvergenceWarning: lbfgs failed to converge (status=1):\n",
            "STOP: TOTAL NO. of ITERATIONS REACHED LIMIT.\n",
            "\n",
            "Increase the number of iterations (max_iter) or scale the data as shown in:\n",
            "    https://scikit-learn.org/stable/modules/preprocessing.html\n",
            "Please also refer to the documentation for alternative solver options:\n",
            "    https://scikit-learn.org/stable/modules/linear_model.html#logistic-regression\n",
            "  extra_warning_msg=_LOGISTIC_SOLVER_CONVERGENCE_MSG,\n",
            "/usr/local/lib/python3.7/dist-packages/sklearn/linear_model/_logistic.py:818: ConvergenceWarning: lbfgs failed to converge (status=1):\n",
            "STOP: TOTAL NO. of ITERATIONS REACHED LIMIT.\n",
            "\n",
            "Increase the number of iterations (max_iter) or scale the data as shown in:\n",
            "    https://scikit-learn.org/stable/modules/preprocessing.html\n",
            "Please also refer to the documentation for alternative solver options:\n",
            "    https://scikit-learn.org/stable/modules/linear_model.html#logistic-regression\n",
            "  extra_warning_msg=_LOGISTIC_SOLVER_CONVERGENCE_MSG,\n",
            "/usr/local/lib/python3.7/dist-packages/sklearn/linear_model/_logistic.py:818: ConvergenceWarning: lbfgs failed to converge (status=1):\n",
            "STOP: TOTAL NO. of ITERATIONS REACHED LIMIT.\n",
            "\n",
            "Increase the number of iterations (max_iter) or scale the data as shown in:\n",
            "    https://scikit-learn.org/stable/modules/preprocessing.html\n",
            "Please also refer to the documentation for alternative solver options:\n",
            "    https://scikit-learn.org/stable/modules/linear_model.html#logistic-regression\n",
            "  extra_warning_msg=_LOGISTIC_SOLVER_CONVERGENCE_MSG,\n",
            "/usr/local/lib/python3.7/dist-packages/sklearn/linear_model/_logistic.py:818: ConvergenceWarning: lbfgs failed to converge (status=1):\n",
            "STOP: TOTAL NO. of ITERATIONS REACHED LIMIT.\n",
            "\n",
            "Increase the number of iterations (max_iter) or scale the data as shown in:\n",
            "    https://scikit-learn.org/stable/modules/preprocessing.html\n",
            "Please also refer to the documentation for alternative solver options:\n",
            "    https://scikit-learn.org/stable/modules/linear_model.html#logistic-regression\n",
            "  extra_warning_msg=_LOGISTIC_SOLVER_CONVERGENCE_MSG,\n",
            "/usr/local/lib/python3.7/dist-packages/sklearn/linear_model/_logistic.py:818: ConvergenceWarning: lbfgs failed to converge (status=1):\n",
            "STOP: TOTAL NO. of ITERATIONS REACHED LIMIT.\n",
            "\n",
            "Increase the number of iterations (max_iter) or scale the data as shown in:\n",
            "    https://scikit-learn.org/stable/modules/preprocessing.html\n",
            "Please also refer to the documentation for alternative solver options:\n",
            "    https://scikit-learn.org/stable/modules/linear_model.html#logistic-regression\n",
            "  extra_warning_msg=_LOGISTIC_SOLVER_CONVERGENCE_MSG,\n",
            "/usr/local/lib/python3.7/dist-packages/sklearn/linear_model/_logistic.py:818: ConvergenceWarning: lbfgs failed to converge (status=1):\n",
            "STOP: TOTAL NO. of ITERATIONS REACHED LIMIT.\n",
            "\n",
            "Increase the number of iterations (max_iter) or scale the data as shown in:\n",
            "    https://scikit-learn.org/stable/modules/preprocessing.html\n",
            "Please also refer to the documentation for alternative solver options:\n",
            "    https://scikit-learn.org/stable/modules/linear_model.html#logistic-regression\n",
            "  extra_warning_msg=_LOGISTIC_SOLVER_CONVERGENCE_MSG,\n",
            "/usr/local/lib/python3.7/dist-packages/sklearn/linear_model/_logistic.py:818: ConvergenceWarning: lbfgs failed to converge (status=1):\n",
            "STOP: TOTAL NO. of ITERATIONS REACHED LIMIT.\n",
            "\n",
            "Increase the number of iterations (max_iter) or scale the data as shown in:\n",
            "    https://scikit-learn.org/stable/modules/preprocessing.html\n",
            "Please also refer to the documentation for alternative solver options:\n",
            "    https://scikit-learn.org/stable/modules/linear_model.html#logistic-regression\n",
            "  extra_warning_msg=_LOGISTIC_SOLVER_CONVERGENCE_MSG,\n",
            "/usr/local/lib/python3.7/dist-packages/sklearn/linear_model/_logistic.py:818: ConvergenceWarning: lbfgs failed to converge (status=1):\n",
            "STOP: TOTAL NO. of ITERATIONS REACHED LIMIT.\n",
            "\n",
            "Increase the number of iterations (max_iter) or scale the data as shown in:\n",
            "    https://scikit-learn.org/stable/modules/preprocessing.html\n",
            "Please also refer to the documentation for alternative solver options:\n",
            "    https://scikit-learn.org/stable/modules/linear_model.html#logistic-regression\n",
            "  extra_warning_msg=_LOGISTIC_SOLVER_CONVERGENCE_MSG,\n",
            "/usr/local/lib/python3.7/dist-packages/sklearn/linear_model/_logistic.py:818: ConvergenceWarning: lbfgs failed to converge (status=1):\n",
            "STOP: TOTAL NO. of ITERATIONS REACHED LIMIT.\n",
            "\n",
            "Increase the number of iterations (max_iter) or scale the data as shown in:\n",
            "    https://scikit-learn.org/stable/modules/preprocessing.html\n",
            "Please also refer to the documentation for alternative solver options:\n",
            "    https://scikit-learn.org/stable/modules/linear_model.html#logistic-regression\n",
            "  extra_warning_msg=_LOGISTIC_SOLVER_CONVERGENCE_MSG,\n",
            "/usr/local/lib/python3.7/dist-packages/sklearn/linear_model/_logistic.py:818: ConvergenceWarning: lbfgs failed to converge (status=1):\n",
            "STOP: TOTAL NO. of ITERATIONS REACHED LIMIT.\n",
            "\n",
            "Increase the number of iterations (max_iter) or scale the data as shown in:\n",
            "    https://scikit-learn.org/stable/modules/preprocessing.html\n",
            "Please also refer to the documentation for alternative solver options:\n",
            "    https://scikit-learn.org/stable/modules/linear_model.html#logistic-regression\n",
            "  extra_warning_msg=_LOGISTIC_SOLVER_CONVERGENCE_MSG,\n",
            "/usr/local/lib/python3.7/dist-packages/sklearn/linear_model/_logistic.py:818: ConvergenceWarning: lbfgs failed to converge (status=1):\n",
            "STOP: TOTAL NO. of ITERATIONS REACHED LIMIT.\n",
            "\n",
            "Increase the number of iterations (max_iter) or scale the data as shown in:\n",
            "    https://scikit-learn.org/stable/modules/preprocessing.html\n",
            "Please also refer to the documentation for alternative solver options:\n",
            "    https://scikit-learn.org/stable/modules/linear_model.html#logistic-regression\n",
            "  extra_warning_msg=_LOGISTIC_SOLVER_CONVERGENCE_MSG,\n",
            "/usr/local/lib/python3.7/dist-packages/sklearn/linear_model/_logistic.py:818: ConvergenceWarning: lbfgs failed to converge (status=1):\n",
            "STOP: TOTAL NO. of ITERATIONS REACHED LIMIT.\n",
            "\n",
            "Increase the number of iterations (max_iter) or scale the data as shown in:\n",
            "    https://scikit-learn.org/stable/modules/preprocessing.html\n",
            "Please also refer to the documentation for alternative solver options:\n",
            "    https://scikit-learn.org/stable/modules/linear_model.html#logistic-regression\n",
            "  extra_warning_msg=_LOGISTIC_SOLVER_CONVERGENCE_MSG,\n",
            "/usr/local/lib/python3.7/dist-packages/sklearn/linear_model/_logistic.py:818: ConvergenceWarning: lbfgs failed to converge (status=1):\n",
            "STOP: TOTAL NO. of ITERATIONS REACHED LIMIT.\n",
            "\n",
            "Increase the number of iterations (max_iter) or scale the data as shown in:\n",
            "    https://scikit-learn.org/stable/modules/preprocessing.html\n",
            "Please also refer to the documentation for alternative solver options:\n",
            "    https://scikit-learn.org/stable/modules/linear_model.html#logistic-regression\n",
            "  extra_warning_msg=_LOGISTIC_SOLVER_CONVERGENCE_MSG,\n",
            "/usr/local/lib/python3.7/dist-packages/sklearn/linear_model/_logistic.py:818: ConvergenceWarning: lbfgs failed to converge (status=1):\n",
            "STOP: TOTAL NO. of ITERATIONS REACHED LIMIT.\n",
            "\n",
            "Increase the number of iterations (max_iter) or scale the data as shown in:\n",
            "    https://scikit-learn.org/stable/modules/preprocessing.html\n",
            "Please also refer to the documentation for alternative solver options:\n",
            "    https://scikit-learn.org/stable/modules/linear_model.html#logistic-regression\n",
            "  extra_warning_msg=_LOGISTIC_SOLVER_CONVERGENCE_MSG,\n",
            "/usr/local/lib/python3.7/dist-packages/sklearn/linear_model/_logistic.py:818: ConvergenceWarning: lbfgs failed to converge (status=1):\n",
            "STOP: TOTAL NO. of ITERATIONS REACHED LIMIT.\n",
            "\n",
            "Increase the number of iterations (max_iter) or scale the data as shown in:\n",
            "    https://scikit-learn.org/stable/modules/preprocessing.html\n",
            "Please also refer to the documentation for alternative solver options:\n",
            "    https://scikit-learn.org/stable/modules/linear_model.html#logistic-regression\n",
            "  extra_warning_msg=_LOGISTIC_SOLVER_CONVERGENCE_MSG,\n",
            "/usr/local/lib/python3.7/dist-packages/sklearn/model_selection/_validation.py:372: FitFailedWarning: \n",
            "30 fits failed out of a total of 60.\n",
            "The score on these train-test partitions for these parameters will be set to nan.\n",
            "If these failures are not expected, you can try to debug them by setting error_score='raise'.\n",
            "\n",
            "Below are more details about the failures:\n",
            "--------------------------------------------------------------------------------\n",
            "30 fits failed with the following error:\n",
            "Traceback (most recent call last):\n",
            "  File \"/usr/local/lib/python3.7/dist-packages/sklearn/model_selection/_validation.py\", line 680, in _fit_and_score\n",
            "    estimator.fit(X_train, y_train, **fit_params)\n",
            "  File \"/usr/local/lib/python3.7/dist-packages/sklearn/linear_model/_logistic.py\", line 1461, in fit\n",
            "    solver = _check_solver(self.solver, self.penalty, self.dual)\n",
            "  File \"/usr/local/lib/python3.7/dist-packages/sklearn/linear_model/_logistic.py\", line 449, in _check_solver\n",
            "    % (solver, penalty)\n",
            "ValueError: Solver lbfgs supports only 'l2' or 'none' penalties, got l1 penalty.\n",
            "\n",
            "  warnings.warn(some_fits_failed_message, FitFailedWarning)\n",
            "/usr/local/lib/python3.7/dist-packages/sklearn/model_selection/_search.py:972: UserWarning: One or more of the test scores are non-finite: [       nan 0.64840426        nan 0.68634752        nan 0.66551418\n",
            "        nan 0.67384752        nan 0.67810284        nan 0.67384752]\n",
            "  category=UserWarning,\n",
            "/usr/local/lib/python3.7/dist-packages/sklearn/linear_model/_logistic.py:818: ConvergenceWarning: lbfgs failed to converge (status=1):\n",
            "STOP: TOTAL NO. of ITERATIONS REACHED LIMIT.\n",
            "\n",
            "Increase the number of iterations (max_iter) or scale the data as shown in:\n",
            "    https://scikit-learn.org/stable/modules/preprocessing.html\n",
            "Please also refer to the documentation for alternative solver options:\n",
            "    https://scikit-learn.org/stable/modules/linear_model.html#logistic-regression\n",
            "  extra_warning_msg=_LOGISTIC_SOLVER_CONVERGENCE_MSG,\n"
          ]
        },
        {
          "output_type": "execute_result",
          "data": {
            "text/plain": [
              "{'C': 0.1, 'penalty': 'l2'}"
            ]
          },
          "metadata": {},
          "execution_count": 198
        }
      ]
    },
    {
      "cell_type": "markdown",
      "source": [
        "We used gridSearchcv as it is the process of performing hyperparameter tuning in order to determine the optimal values for a given model.As the performance of a model significantly depends on the value of hyperparameters. This function helps to loop through predefined hyperparameters and fit the estimator (model) on our training set. So, in the end, we can select the best parameters from the listed hyperparameters."
      ],
      "metadata": {
        "id": "BST7AGatuVqr"
      }
    },
    {
      "cell_type": "code",
      "source": [
        "from sklearn.metrics import classification_report\n",
        "grid_predictions = gridsearch.predict(X_test) \n",
        "   \n",
        "# print classification report \n",
        "print(classification_report(y_test, grid_predictions)) "
      ],
      "metadata": {
        "colab": {
          "base_uri": "https://localhost:8080/"
        },
        "id": "qCnDYipGbrOg",
        "outputId": "a34c1460-b79b-4345-a058-1643c7412b86"
      },
      "execution_count": 199,
      "outputs": [
        {
          "output_type": "stream",
          "name": "stdout",
          "text": [
            "              precision    recall  f1-score   support\n",
            "\n",
            "           0       0.53      0.89      0.67         9\n",
            "           1       0.50      0.12      0.20         8\n",
            "           2       0.88      0.88      0.88        43\n",
            "\n",
            "    accuracy                           0.78        60\n",
            "   macro avg       0.64      0.63      0.58        60\n",
            "weighted avg       0.78      0.78      0.76        60\n",
            "\n"
          ]
        }
      ]
    },
    {
      "cell_type": "code",
      "source": [
        "from sklearn.metrics import accuracy_score\n",
        "print(accuracy_score(y_test, grid_predictions)) "
      ],
      "metadata": {
        "colab": {
          "base_uri": "https://localhost:8080/"
        },
        "id": "SzDu75kDco0v",
        "outputId": "f485b681-1c31-456c-8961-73c13c2ad1fa"
      },
      "execution_count": 200,
      "outputs": [
        {
          "output_type": "stream",
          "name": "stdout",
          "text": [
            "0.7833333333333333\n"
          ]
        }
      ]
    },
    {
      "cell_type": "markdown",
      "source": [
        "**Conclusion:**\n",
        "\n",
        "1) Through this experiment I learnt to predict whether horse will live or die on horse colic dataset\n",
        "\n",
        "2) Implemented logistic regression , performed EDA and achieved decent accuracy\n",
        "\n",
        "3) Learnt to improve accuracy using grid search."
      ],
      "metadata": {
        "id": "89CCSipVLHX9"
      }
    }
  ]
}
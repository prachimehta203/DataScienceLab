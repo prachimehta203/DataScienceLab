{
  "nbformat": 4,
  "nbformat_minor": 0,
  "metadata": {
    "colab": {
      "name": "DS-EXP6.ipynb",
      "provenance": [],
      "collapsed_sections": []
    },
    "kernelspec": {
      "name": "python3",
      "display_name": "Python 3"
    },
    "language_info": {
      "name": "python"
    }
  },
  "cells": [
    {
      "cell_type": "markdown",
      "source": [
        "EXP 6\n",
        "\n",
        "Name: Prachi Mehta\n",
        "\n",
        "UID: 2018130025"
      ],
      "metadata": {
        "id": "WZcZuNmGtZJS"
      }
    },
    {
      "cell_type": "markdown",
      "source": [
        "# To perform time series analysis: identifying the nature of the phenomenon represented by the sequence of observations, and forecasting"
      ],
      "metadata": {
        "id": "p0_rpa02tgIE"
      }
    },
    {
      "cell_type": "markdown",
      "source": [
        "Importing all the necessary libraries"
      ],
      "metadata": {
        "id": "X8KiCCikt0se"
      }
    },
    {
      "cell_type": "code",
      "execution_count": null,
      "metadata": {
        "id": "1Ps86XDQBAAl"
      },
      "outputs": [],
      "source": [
        "import os\n",
        "import warnings\n",
        "warnings.filterwarnings('ignore')\n",
        "import numpy as np \n",
        "import pandas as pd\n",
        "import matplotlib.pyplot as plt\n",
        "plt.style.use('fivethirtyeight') \n",
        "%matplotlib inline\n",
        "from pylab import rcParams\n",
        "from plotly import tools\n",
        "import plotly.graph_objs as go\n",
        "import plotly.figure_factory as ff\n",
        "import statsmodels.api as sm\n",
        "from numpy.random import normal, seed\n",
        "from scipy.stats import norm\n",
        "from statsmodels.tsa.arima_model import ARMA\n",
        "from statsmodels.tsa.stattools import adfuller\n",
        "from statsmodels.graphics.tsaplots import plot_acf, plot_pacf\n",
        "from statsmodels.tsa.arima_process import ArmaProcess\n",
        "from statsmodels.tsa.arima_model import ARIMA\n",
        "import math\n",
        "from sklearn.metrics import mean_squared_error"
      ]
    },
    {
      "cell_type": "markdown",
      "source": [
        "First, we import all the dataset needed for this experiment using pandas dataframe.Here dataset used are Humidity in different world cities and Pressure in different world cities.\n",
        "\n",
        "The required time series column is imported as a datetime column using parse_dates parameter and is also selected as index of the dataframe using index_col parameter."
      ],
      "metadata": {
        "id": "EWM9yjCvuKzq"
      }
    },
    {
      "cell_type": "code",
      "source": [
        "humidity = pd.read_csv('/content/sample_data/humidity.csv', index_col='datetime', parse_dates=['datetime'])\n",
        "humidity.tail()"
      ],
      "metadata": {
        "colab": {
          "base_uri": "https://localhost:8080/",
          "height": 522
        },
        "id": "JuKfkDWiB9FC",
        "outputId": "1cdcb323-bca9-41d9-a82b-cd59b194a73b"
      },
      "execution_count": null,
      "outputs": [
        {
          "output_type": "execute_result",
          "data": {
            "text/html": [
              "\n",
              "  <div id=\"df-6340b10e-214d-43dd-9398-fd8eb1dc06b2\">\n",
              "    <div class=\"colab-df-container\">\n",
              "      <div>\n",
              "<style scoped>\n",
              "    .dataframe tbody tr th:only-of-type {\n",
              "        vertical-align: middle;\n",
              "    }\n",
              "\n",
              "    .dataframe tbody tr th {\n",
              "        vertical-align: top;\n",
              "    }\n",
              "\n",
              "    .dataframe thead th {\n",
              "        text-align: right;\n",
              "    }\n",
              "</style>\n",
              "<table border=\"1\" class=\"dataframe\">\n",
              "  <thead>\n",
              "    <tr style=\"text-align: right;\">\n",
              "      <th></th>\n",
              "      <th>Vancouver</th>\n",
              "      <th>Portland</th>\n",
              "      <th>San Francisco</th>\n",
              "      <th>Seattle</th>\n",
              "      <th>Los Angeles</th>\n",
              "      <th>San Diego</th>\n",
              "      <th>Las Vegas</th>\n",
              "      <th>Phoenix</th>\n",
              "      <th>Albuquerque</th>\n",
              "      <th>Denver</th>\n",
              "      <th>...</th>\n",
              "      <th>Philadelphia</th>\n",
              "      <th>New York</th>\n",
              "      <th>Montreal</th>\n",
              "      <th>Boston</th>\n",
              "      <th>Beersheba</th>\n",
              "      <th>Tel Aviv District</th>\n",
              "      <th>Eilat</th>\n",
              "      <th>Haifa</th>\n",
              "      <th>Nahariyya</th>\n",
              "      <th>Jerusalem</th>\n",
              "    </tr>\n",
              "    <tr>\n",
              "      <th>datetime</th>\n",
              "      <th></th>\n",
              "      <th></th>\n",
              "      <th></th>\n",
              "      <th></th>\n",
              "      <th></th>\n",
              "      <th></th>\n",
              "      <th></th>\n",
              "      <th></th>\n",
              "      <th></th>\n",
              "      <th></th>\n",
              "      <th></th>\n",
              "      <th></th>\n",
              "      <th></th>\n",
              "      <th></th>\n",
              "      <th></th>\n",
              "      <th></th>\n",
              "      <th></th>\n",
              "      <th></th>\n",
              "      <th></th>\n",
              "      <th></th>\n",
              "      <th></th>\n",
              "    </tr>\n",
              "  </thead>\n",
              "  <tbody>\n",
              "    <tr>\n",
              "      <th>2017-11-29 20:00:00</th>\n",
              "      <td>NaN</td>\n",
              "      <td>81.0</td>\n",
              "      <td>NaN</td>\n",
              "      <td>93.0</td>\n",
              "      <td>24.0</td>\n",
              "      <td>72.0</td>\n",
              "      <td>18.0</td>\n",
              "      <td>68.0</td>\n",
              "      <td>37.0</td>\n",
              "      <td>18.0</td>\n",
              "      <td>...</td>\n",
              "      <td>27.0</td>\n",
              "      <td>NaN</td>\n",
              "      <td>64.0</td>\n",
              "      <td>37.0</td>\n",
              "      <td>NaN</td>\n",
              "      <td>NaN</td>\n",
              "      <td>NaN</td>\n",
              "      <td>NaN</td>\n",
              "      <td>NaN</td>\n",
              "      <td>NaN</td>\n",
              "    </tr>\n",
              "    <tr>\n",
              "      <th>2017-11-29 21:00:00</th>\n",
              "      <td>NaN</td>\n",
              "      <td>71.0</td>\n",
              "      <td>NaN</td>\n",
              "      <td>87.0</td>\n",
              "      <td>21.0</td>\n",
              "      <td>72.0</td>\n",
              "      <td>18.0</td>\n",
              "      <td>73.0</td>\n",
              "      <td>34.0</td>\n",
              "      <td>12.0</td>\n",
              "      <td>...</td>\n",
              "      <td>29.0</td>\n",
              "      <td>NaN</td>\n",
              "      <td>59.0</td>\n",
              "      <td>74.0</td>\n",
              "      <td>NaN</td>\n",
              "      <td>NaN</td>\n",
              "      <td>NaN</td>\n",
              "      <td>NaN</td>\n",
              "      <td>NaN</td>\n",
              "      <td>NaN</td>\n",
              "    </tr>\n",
              "    <tr>\n",
              "      <th>2017-11-29 22:00:00</th>\n",
              "      <td>NaN</td>\n",
              "      <td>71.0</td>\n",
              "      <td>NaN</td>\n",
              "      <td>93.0</td>\n",
              "      <td>23.0</td>\n",
              "      <td>68.0</td>\n",
              "      <td>17.0</td>\n",
              "      <td>60.0</td>\n",
              "      <td>32.0</td>\n",
              "      <td>15.0</td>\n",
              "      <td>...</td>\n",
              "      <td>31.0</td>\n",
              "      <td>NaN</td>\n",
              "      <td>66.0</td>\n",
              "      <td>74.0</td>\n",
              "      <td>NaN</td>\n",
              "      <td>NaN</td>\n",
              "      <td>NaN</td>\n",
              "      <td>NaN</td>\n",
              "      <td>NaN</td>\n",
              "      <td>NaN</td>\n",
              "    </tr>\n",
              "    <tr>\n",
              "      <th>2017-11-29 23:00:00</th>\n",
              "      <td>NaN</td>\n",
              "      <td>71.0</td>\n",
              "      <td>NaN</td>\n",
              "      <td>87.0</td>\n",
              "      <td>14.0</td>\n",
              "      <td>63.0</td>\n",
              "      <td>17.0</td>\n",
              "      <td>33.0</td>\n",
              "      <td>30.0</td>\n",
              "      <td>28.0</td>\n",
              "      <td>...</td>\n",
              "      <td>26.0</td>\n",
              "      <td>NaN</td>\n",
              "      <td>58.0</td>\n",
              "      <td>56.0</td>\n",
              "      <td>NaN</td>\n",
              "      <td>NaN</td>\n",
              "      <td>NaN</td>\n",
              "      <td>NaN</td>\n",
              "      <td>NaN</td>\n",
              "      <td>NaN</td>\n",
              "    </tr>\n",
              "    <tr>\n",
              "      <th>2017-11-30 00:00:00</th>\n",
              "      <td>NaN</td>\n",
              "      <td>76.0</td>\n",
              "      <td>NaN</td>\n",
              "      <td>75.0</td>\n",
              "      <td>56.0</td>\n",
              "      <td>72.0</td>\n",
              "      <td>17.0</td>\n",
              "      <td>23.0</td>\n",
              "      <td>34.0</td>\n",
              "      <td>31.0</td>\n",
              "      <td>...</td>\n",
              "      <td>32.0</td>\n",
              "      <td>NaN</td>\n",
              "      <td>58.0</td>\n",
              "      <td>56.0</td>\n",
              "      <td>NaN</td>\n",
              "      <td>NaN</td>\n",
              "      <td>NaN</td>\n",
              "      <td>NaN</td>\n",
              "      <td>NaN</td>\n",
              "      <td>NaN</td>\n",
              "    </tr>\n",
              "  </tbody>\n",
              "</table>\n",
              "<p>5 rows × 36 columns</p>\n",
              "</div>\n",
              "      <button class=\"colab-df-convert\" onclick=\"convertToInteractive('df-6340b10e-214d-43dd-9398-fd8eb1dc06b2')\"\n",
              "              title=\"Convert this dataframe to an interactive table.\"\n",
              "              style=\"display:none;\">\n",
              "        \n",
              "  <svg xmlns=\"http://www.w3.org/2000/svg\" height=\"24px\"viewBox=\"0 0 24 24\"\n",
              "       width=\"24px\">\n",
              "    <path d=\"M0 0h24v24H0V0z\" fill=\"none\"/>\n",
              "    <path d=\"M18.56 5.44l.94 2.06.94-2.06 2.06-.94-2.06-.94-.94-2.06-.94 2.06-2.06.94zm-11 1L8.5 8.5l.94-2.06 2.06-.94-2.06-.94L8.5 2.5l-.94 2.06-2.06.94zm10 10l.94 2.06.94-2.06 2.06-.94-2.06-.94-.94-2.06-.94 2.06-2.06.94z\"/><path d=\"M17.41 7.96l-1.37-1.37c-.4-.4-.92-.59-1.43-.59-.52 0-1.04.2-1.43.59L10.3 9.45l-7.72 7.72c-.78.78-.78 2.05 0 2.83L4 21.41c.39.39.9.59 1.41.59.51 0 1.02-.2 1.41-.59l7.78-7.78 2.81-2.81c.8-.78.8-2.07 0-2.86zM5.41 20L4 18.59l7.72-7.72 1.47 1.35L5.41 20z\"/>\n",
              "  </svg>\n",
              "      </button>\n",
              "      \n",
              "  <style>\n",
              "    .colab-df-container {\n",
              "      display:flex;\n",
              "      flex-wrap:wrap;\n",
              "      gap: 12px;\n",
              "    }\n",
              "\n",
              "    .colab-df-convert {\n",
              "      background-color: #E8F0FE;\n",
              "      border: none;\n",
              "      border-radius: 50%;\n",
              "      cursor: pointer;\n",
              "      display: none;\n",
              "      fill: #1967D2;\n",
              "      height: 32px;\n",
              "      padding: 0 0 0 0;\n",
              "      width: 32px;\n",
              "    }\n",
              "\n",
              "    .colab-df-convert:hover {\n",
              "      background-color: #E2EBFA;\n",
              "      box-shadow: 0px 1px 2px rgba(60, 64, 67, 0.3), 0px 1px 3px 1px rgba(60, 64, 67, 0.15);\n",
              "      fill: #174EA6;\n",
              "    }\n",
              "\n",
              "    [theme=dark] .colab-df-convert {\n",
              "      background-color: #3B4455;\n",
              "      fill: #D2E3FC;\n",
              "    }\n",
              "\n",
              "    [theme=dark] .colab-df-convert:hover {\n",
              "      background-color: #434B5C;\n",
              "      box-shadow: 0px 1px 3px 1px rgba(0, 0, 0, 0.15);\n",
              "      filter: drop-shadow(0px 1px 2px rgba(0, 0, 0, 0.3));\n",
              "      fill: #FFFFFF;\n",
              "    }\n",
              "  </style>\n",
              "\n",
              "      <script>\n",
              "        const buttonEl =\n",
              "          document.querySelector('#df-6340b10e-214d-43dd-9398-fd8eb1dc06b2 button.colab-df-convert');\n",
              "        buttonEl.style.display =\n",
              "          google.colab.kernel.accessAllowed ? 'block' : 'none';\n",
              "\n",
              "        async function convertToInteractive(key) {\n",
              "          const element = document.querySelector('#df-6340b10e-214d-43dd-9398-fd8eb1dc06b2');\n",
              "          const dataTable =\n",
              "            await google.colab.kernel.invokeFunction('convertToInteractive',\n",
              "                                                     [key], {});\n",
              "          if (!dataTable) return;\n",
              "\n",
              "          const docLinkHtml = 'Like what you see? Visit the ' +\n",
              "            '<a target=\"_blank\" href=https://colab.research.google.com/notebooks/data_table.ipynb>data table notebook</a>'\n",
              "            + ' to learn more about interactive tables.';\n",
              "          element.innerHTML = '';\n",
              "          dataTable['output_type'] = 'display_data';\n",
              "          await google.colab.output.renderOutput(dataTable, element);\n",
              "          const docLink = document.createElement('div');\n",
              "          docLink.innerHTML = docLinkHtml;\n",
              "          element.appendChild(docLink);\n",
              "        }\n",
              "      </script>\n",
              "    </div>\n",
              "  </div>\n",
              "  "
            ],
            "text/plain": [
              "                     Vancouver  Portland  San Francisco  Seattle  Los Angeles  \\\n",
              "datetime                                                                        \n",
              "2017-11-29 20:00:00        NaN      81.0            NaN     93.0         24.0   \n",
              "2017-11-29 21:00:00        NaN      71.0            NaN     87.0         21.0   \n",
              "2017-11-29 22:00:00        NaN      71.0            NaN     93.0         23.0   \n",
              "2017-11-29 23:00:00        NaN      71.0            NaN     87.0         14.0   \n",
              "2017-11-30 00:00:00        NaN      76.0            NaN     75.0         56.0   \n",
              "\n",
              "                     San Diego  Las Vegas  Phoenix  Albuquerque  Denver  ...  \\\n",
              "datetime                                                                 ...   \n",
              "2017-11-29 20:00:00       72.0       18.0     68.0         37.0    18.0  ...   \n",
              "2017-11-29 21:00:00       72.0       18.0     73.0         34.0    12.0  ...   \n",
              "2017-11-29 22:00:00       68.0       17.0     60.0         32.0    15.0  ...   \n",
              "2017-11-29 23:00:00       63.0       17.0     33.0         30.0    28.0  ...   \n",
              "2017-11-30 00:00:00       72.0       17.0     23.0         34.0    31.0  ...   \n",
              "\n",
              "                     Philadelphia  New York  Montreal  Boston  Beersheba  \\\n",
              "datetime                                                                   \n",
              "2017-11-29 20:00:00          27.0       NaN      64.0    37.0        NaN   \n",
              "2017-11-29 21:00:00          29.0       NaN      59.0    74.0        NaN   \n",
              "2017-11-29 22:00:00          31.0       NaN      66.0    74.0        NaN   \n",
              "2017-11-29 23:00:00          26.0       NaN      58.0    56.0        NaN   \n",
              "2017-11-30 00:00:00          32.0       NaN      58.0    56.0        NaN   \n",
              "\n",
              "                     Tel Aviv District  Eilat  Haifa  Nahariyya  Jerusalem  \n",
              "datetime                                                                    \n",
              "2017-11-29 20:00:00                NaN    NaN    NaN        NaN        NaN  \n",
              "2017-11-29 21:00:00                NaN    NaN    NaN        NaN        NaN  \n",
              "2017-11-29 22:00:00                NaN    NaN    NaN        NaN        NaN  \n",
              "2017-11-29 23:00:00                NaN    NaN    NaN        NaN        NaN  \n",
              "2017-11-30 00:00:00                NaN    NaN    NaN        NaN        NaN  \n",
              "\n",
              "[5 rows x 36 columns]"
            ]
          },
          "metadata": {},
          "execution_count": 4
        }
      ]
    },
    {
      "cell_type": "markdown",
      "source": [
        "Humidity data have its fair share of missing values. It is cleaned using fillna() method with ffill parameter which propagates last valid observation to fill gaps"
      ],
      "metadata": {
        "id": "Xt3Ayz8pMX62"
      }
    },
    {
      "cell_type": "code",
      "source": [
        "humidity = humidity.iloc[1:]\n",
        "humidity = humidity.fillna(method='ffill')\n",
        "humidity.head()"
      ],
      "metadata": {
        "colab": {
          "base_uri": "https://localhost:8080/",
          "height": 522
        },
        "id": "YET11iTMCt6a",
        "outputId": "9a5ceb90-3cd9-4ec1-92df-25a886040669"
      },
      "execution_count": null,
      "outputs": [
        {
          "output_type": "execute_result",
          "data": {
            "text/html": [
              "\n",
              "  <div id=\"df-6bf4bc46-856d-48ba-9cdb-2b9e19b6a20b\">\n",
              "    <div class=\"colab-df-container\">\n",
              "      <div>\n",
              "<style scoped>\n",
              "    .dataframe tbody tr th:only-of-type {\n",
              "        vertical-align: middle;\n",
              "    }\n",
              "\n",
              "    .dataframe tbody tr th {\n",
              "        vertical-align: top;\n",
              "    }\n",
              "\n",
              "    .dataframe thead th {\n",
              "        text-align: right;\n",
              "    }\n",
              "</style>\n",
              "<table border=\"1\" class=\"dataframe\">\n",
              "  <thead>\n",
              "    <tr style=\"text-align: right;\">\n",
              "      <th></th>\n",
              "      <th>Vancouver</th>\n",
              "      <th>Portland</th>\n",
              "      <th>San Francisco</th>\n",
              "      <th>Seattle</th>\n",
              "      <th>Los Angeles</th>\n",
              "      <th>San Diego</th>\n",
              "      <th>Las Vegas</th>\n",
              "      <th>Phoenix</th>\n",
              "      <th>Albuquerque</th>\n",
              "      <th>Denver</th>\n",
              "      <th>...</th>\n",
              "      <th>Philadelphia</th>\n",
              "      <th>New York</th>\n",
              "      <th>Montreal</th>\n",
              "      <th>Boston</th>\n",
              "      <th>Beersheba</th>\n",
              "      <th>Tel Aviv District</th>\n",
              "      <th>Eilat</th>\n",
              "      <th>Haifa</th>\n",
              "      <th>Nahariyya</th>\n",
              "      <th>Jerusalem</th>\n",
              "    </tr>\n",
              "    <tr>\n",
              "      <th>datetime</th>\n",
              "      <th></th>\n",
              "      <th></th>\n",
              "      <th></th>\n",
              "      <th></th>\n",
              "      <th></th>\n",
              "      <th></th>\n",
              "      <th></th>\n",
              "      <th></th>\n",
              "      <th></th>\n",
              "      <th></th>\n",
              "      <th></th>\n",
              "      <th></th>\n",
              "      <th></th>\n",
              "      <th></th>\n",
              "      <th></th>\n",
              "      <th></th>\n",
              "      <th></th>\n",
              "      <th></th>\n",
              "      <th></th>\n",
              "      <th></th>\n",
              "      <th></th>\n",
              "    </tr>\n",
              "  </thead>\n",
              "  <tbody>\n",
              "    <tr>\n",
              "      <th>2012-10-01 13:00:00</th>\n",
              "      <td>76.0</td>\n",
              "      <td>81.0</td>\n",
              "      <td>88.0</td>\n",
              "      <td>81.0</td>\n",
              "      <td>88.0</td>\n",
              "      <td>82.0</td>\n",
              "      <td>22.0</td>\n",
              "      <td>23.0</td>\n",
              "      <td>50.0</td>\n",
              "      <td>62.0</td>\n",
              "      <td>...</td>\n",
              "      <td>71.0</td>\n",
              "      <td>58.0</td>\n",
              "      <td>93.0</td>\n",
              "      <td>68.0</td>\n",
              "      <td>50.0</td>\n",
              "      <td>63.0</td>\n",
              "      <td>22.0</td>\n",
              "      <td>51.0</td>\n",
              "      <td>51.0</td>\n",
              "      <td>50.0</td>\n",
              "    </tr>\n",
              "    <tr>\n",
              "      <th>2012-10-01 14:00:00</th>\n",
              "      <td>76.0</td>\n",
              "      <td>80.0</td>\n",
              "      <td>87.0</td>\n",
              "      <td>80.0</td>\n",
              "      <td>88.0</td>\n",
              "      <td>81.0</td>\n",
              "      <td>21.0</td>\n",
              "      <td>23.0</td>\n",
              "      <td>49.0</td>\n",
              "      <td>62.0</td>\n",
              "      <td>...</td>\n",
              "      <td>70.0</td>\n",
              "      <td>57.0</td>\n",
              "      <td>91.0</td>\n",
              "      <td>68.0</td>\n",
              "      <td>51.0</td>\n",
              "      <td>62.0</td>\n",
              "      <td>22.0</td>\n",
              "      <td>51.0</td>\n",
              "      <td>51.0</td>\n",
              "      <td>50.0</td>\n",
              "    </tr>\n",
              "    <tr>\n",
              "      <th>2012-10-01 15:00:00</th>\n",
              "      <td>76.0</td>\n",
              "      <td>80.0</td>\n",
              "      <td>86.0</td>\n",
              "      <td>80.0</td>\n",
              "      <td>88.0</td>\n",
              "      <td>81.0</td>\n",
              "      <td>21.0</td>\n",
              "      <td>23.0</td>\n",
              "      <td>49.0</td>\n",
              "      <td>62.0</td>\n",
              "      <td>...</td>\n",
              "      <td>70.0</td>\n",
              "      <td>57.0</td>\n",
              "      <td>87.0</td>\n",
              "      <td>68.0</td>\n",
              "      <td>51.0</td>\n",
              "      <td>62.0</td>\n",
              "      <td>22.0</td>\n",
              "      <td>51.0</td>\n",
              "      <td>51.0</td>\n",
              "      <td>50.0</td>\n",
              "    </tr>\n",
              "    <tr>\n",
              "      <th>2012-10-01 16:00:00</th>\n",
              "      <td>77.0</td>\n",
              "      <td>80.0</td>\n",
              "      <td>85.0</td>\n",
              "      <td>79.0</td>\n",
              "      <td>88.0</td>\n",
              "      <td>81.0</td>\n",
              "      <td>21.0</td>\n",
              "      <td>23.0</td>\n",
              "      <td>49.0</td>\n",
              "      <td>62.0</td>\n",
              "      <td>...</td>\n",
              "      <td>69.0</td>\n",
              "      <td>57.0</td>\n",
              "      <td>84.0</td>\n",
              "      <td>68.0</td>\n",
              "      <td>52.0</td>\n",
              "      <td>62.0</td>\n",
              "      <td>22.0</td>\n",
              "      <td>51.0</td>\n",
              "      <td>51.0</td>\n",
              "      <td>50.0</td>\n",
              "    </tr>\n",
              "    <tr>\n",
              "      <th>2012-10-01 17:00:00</th>\n",
              "      <td>78.0</td>\n",
              "      <td>79.0</td>\n",
              "      <td>84.0</td>\n",
              "      <td>79.0</td>\n",
              "      <td>88.0</td>\n",
              "      <td>80.0</td>\n",
              "      <td>21.0</td>\n",
              "      <td>24.0</td>\n",
              "      <td>49.0</td>\n",
              "      <td>63.0</td>\n",
              "      <td>...</td>\n",
              "      <td>69.0</td>\n",
              "      <td>57.0</td>\n",
              "      <td>80.0</td>\n",
              "      <td>68.0</td>\n",
              "      <td>54.0</td>\n",
              "      <td>62.0</td>\n",
              "      <td>23.0</td>\n",
              "      <td>51.0</td>\n",
              "      <td>51.0</td>\n",
              "      <td>50.0</td>\n",
              "    </tr>\n",
              "  </tbody>\n",
              "</table>\n",
              "<p>5 rows × 36 columns</p>\n",
              "</div>\n",
              "      <button class=\"colab-df-convert\" onclick=\"convertToInteractive('df-6bf4bc46-856d-48ba-9cdb-2b9e19b6a20b')\"\n",
              "              title=\"Convert this dataframe to an interactive table.\"\n",
              "              style=\"display:none;\">\n",
              "        \n",
              "  <svg xmlns=\"http://www.w3.org/2000/svg\" height=\"24px\"viewBox=\"0 0 24 24\"\n",
              "       width=\"24px\">\n",
              "    <path d=\"M0 0h24v24H0V0z\" fill=\"none\"/>\n",
              "    <path d=\"M18.56 5.44l.94 2.06.94-2.06 2.06-.94-2.06-.94-.94-2.06-.94 2.06-2.06.94zm-11 1L8.5 8.5l.94-2.06 2.06-.94-2.06-.94L8.5 2.5l-.94 2.06-2.06.94zm10 10l.94 2.06.94-2.06 2.06-.94-2.06-.94-.94-2.06-.94 2.06-2.06.94z\"/><path d=\"M17.41 7.96l-1.37-1.37c-.4-.4-.92-.59-1.43-.59-.52 0-1.04.2-1.43.59L10.3 9.45l-7.72 7.72c-.78.78-.78 2.05 0 2.83L4 21.41c.39.39.9.59 1.41.59.51 0 1.02-.2 1.41-.59l7.78-7.78 2.81-2.81c.8-.78.8-2.07 0-2.86zM5.41 20L4 18.59l7.72-7.72 1.47 1.35L5.41 20z\"/>\n",
              "  </svg>\n",
              "      </button>\n",
              "      \n",
              "  <style>\n",
              "    .colab-df-container {\n",
              "      display:flex;\n",
              "      flex-wrap:wrap;\n",
              "      gap: 12px;\n",
              "    }\n",
              "\n",
              "    .colab-df-convert {\n",
              "      background-color: #E8F0FE;\n",
              "      border: none;\n",
              "      border-radius: 50%;\n",
              "      cursor: pointer;\n",
              "      display: none;\n",
              "      fill: #1967D2;\n",
              "      height: 32px;\n",
              "      padding: 0 0 0 0;\n",
              "      width: 32px;\n",
              "    }\n",
              "\n",
              "    .colab-df-convert:hover {\n",
              "      background-color: #E2EBFA;\n",
              "      box-shadow: 0px 1px 2px rgba(60, 64, 67, 0.3), 0px 1px 3px 1px rgba(60, 64, 67, 0.15);\n",
              "      fill: #174EA6;\n",
              "    }\n",
              "\n",
              "    [theme=dark] .colab-df-convert {\n",
              "      background-color: #3B4455;\n",
              "      fill: #D2E3FC;\n",
              "    }\n",
              "\n",
              "    [theme=dark] .colab-df-convert:hover {\n",
              "      background-color: #434B5C;\n",
              "      box-shadow: 0px 1px 3px 1px rgba(0, 0, 0, 0.15);\n",
              "      filter: drop-shadow(0px 1px 2px rgba(0, 0, 0, 0.3));\n",
              "      fill: #FFFFFF;\n",
              "    }\n",
              "  </style>\n",
              "\n",
              "      <script>\n",
              "        const buttonEl =\n",
              "          document.querySelector('#df-6bf4bc46-856d-48ba-9cdb-2b9e19b6a20b button.colab-df-convert');\n",
              "        buttonEl.style.display =\n",
              "          google.colab.kernel.accessAllowed ? 'block' : 'none';\n",
              "\n",
              "        async function convertToInteractive(key) {\n",
              "          const element = document.querySelector('#df-6bf4bc46-856d-48ba-9cdb-2b9e19b6a20b');\n",
              "          const dataTable =\n",
              "            await google.colab.kernel.invokeFunction('convertToInteractive',\n",
              "                                                     [key], {});\n",
              "          if (!dataTable) return;\n",
              "\n",
              "          const docLinkHtml = 'Like what you see? Visit the ' +\n",
              "            '<a target=\"_blank\" href=https://colab.research.google.com/notebooks/data_table.ipynb>data table notebook</a>'\n",
              "            + ' to learn more about interactive tables.';\n",
              "          element.innerHTML = '';\n",
              "          dataTable['output_type'] = 'display_data';\n",
              "          await google.colab.output.renderOutput(dataTable, element);\n",
              "          const docLink = document.createElement('div');\n",
              "          docLink.innerHTML = docLinkHtml;\n",
              "          element.appendChild(docLink);\n",
              "        }\n",
              "      </script>\n",
              "    </div>\n",
              "  </div>\n",
              "  "
            ],
            "text/plain": [
              "                     Vancouver  Portland  San Francisco  Seattle  Los Angeles  \\\n",
              "datetime                                                                        \n",
              "2012-10-01 13:00:00       76.0      81.0           88.0     81.0         88.0   \n",
              "2012-10-01 14:00:00       76.0      80.0           87.0     80.0         88.0   \n",
              "2012-10-01 15:00:00       76.0      80.0           86.0     80.0         88.0   \n",
              "2012-10-01 16:00:00       77.0      80.0           85.0     79.0         88.0   \n",
              "2012-10-01 17:00:00       78.0      79.0           84.0     79.0         88.0   \n",
              "\n",
              "                     San Diego  Las Vegas  Phoenix  Albuquerque  Denver  ...  \\\n",
              "datetime                                                                 ...   \n",
              "2012-10-01 13:00:00       82.0       22.0     23.0         50.0    62.0  ...   \n",
              "2012-10-01 14:00:00       81.0       21.0     23.0         49.0    62.0  ...   \n",
              "2012-10-01 15:00:00       81.0       21.0     23.0         49.0    62.0  ...   \n",
              "2012-10-01 16:00:00       81.0       21.0     23.0         49.0    62.0  ...   \n",
              "2012-10-01 17:00:00       80.0       21.0     24.0         49.0    63.0  ...   \n",
              "\n",
              "                     Philadelphia  New York  Montreal  Boston  Beersheba  \\\n",
              "datetime                                                                   \n",
              "2012-10-01 13:00:00          71.0      58.0      93.0    68.0       50.0   \n",
              "2012-10-01 14:00:00          70.0      57.0      91.0    68.0       51.0   \n",
              "2012-10-01 15:00:00          70.0      57.0      87.0    68.0       51.0   \n",
              "2012-10-01 16:00:00          69.0      57.0      84.0    68.0       52.0   \n",
              "2012-10-01 17:00:00          69.0      57.0      80.0    68.0       54.0   \n",
              "\n",
              "                     Tel Aviv District  Eilat  Haifa  Nahariyya  Jerusalem  \n",
              "datetime                                                                    \n",
              "2012-10-01 13:00:00               63.0   22.0   51.0       51.0       50.0  \n",
              "2012-10-01 14:00:00               62.0   22.0   51.0       51.0       50.0  \n",
              "2012-10-01 15:00:00               62.0   22.0   51.0       51.0       50.0  \n",
              "2012-10-01 16:00:00               62.0   22.0   51.0       51.0       50.0  \n",
              "2012-10-01 17:00:00               62.0   23.0   51.0       51.0       50.0  \n",
              "\n",
              "[5 rows x 36 columns]"
            ]
          },
          "metadata": {},
          "execution_count": 5
        }
      ]
    },
    {
      "cell_type": "code",
      "source": [
        "humidity[\"Kansas City\"].asfreq('Y').plot() # asfreq method is used to convert a time series to a specified frequency. Here it is monthly frequency.\n",
        "plt.title('Humidity in Kansas City over time(Monthly frequency)')\n",
        "plt.show()"
      ],
      "metadata": {
        "colab": {
          "base_uri": "https://localhost:8080/",
          "height": 294
        },
        "id": "dtW7a_Q-C0Aw",
        "outputId": "2c9cc1b4-3313-4a19-b8a0-bd3ed99e3ba0"
      },
      "execution_count": null,
      "outputs": [
        {
          "output_type": "display_data",
          "data": {
            "image/png": "[encoded data removed]",
            "text/plain": [
              "<Figure size 432x288 with 1 Axes>"
            ]
          },
          "metadata": {
            "needs_background": "light"
          }
        }
      ]
    },
    {
      "cell_type": "markdown",
      "source": [
        "This graph shows that variation of humidity in kansas city over monthly frquency with lowest humidity found on january 2017 and highest in the month of April 2016"
      ],
      "metadata": {
        "id": "esMM05UmO8Jl"
      }
    },
    {
      "cell_type": "code",
      "source": [
        "# Creating a Timestamp\n",
        "timestamp = pd.Timestamp(2017, 1, 1, 12)\n",
        "timestamp"
      ],
      "metadata": {
        "colab": {
          "base_uri": "https://localhost:8080/"
        },
        "id": "cMvgyrLWDIPg",
        "outputId": "7334ee83-94a4-4844-b6a2-9a5fa1956313"
      },
      "execution_count": null,
      "outputs": [
        {
          "output_type": "execute_result",
          "data": {
            "text/plain": [
              "Timestamp('2017-01-01 12:00:00')"
            ]
          },
          "metadata": {},
          "execution_count": 8
        }
      ]
    },
    {
      "cell_type": "code",
      "source": [
        "# Creating a period\n",
        "period = pd.Period('2017-01-01')\n",
        "period"
      ],
      "metadata": {
        "colab": {
          "base_uri": "https://localhost:8080/"
        },
        "id": "8V4PUEgADoSL",
        "outputId": "854d3759-7efa-46f9-8a68-5797989a2807"
      },
      "execution_count": null,
      "outputs": [
        {
          "output_type": "execute_result",
          "data": {
            "text/plain": [
              "Period('2017-01-01', 'D')"
            ]
          },
          "metadata": {},
          "execution_count": 9
        }
      ]
    },
    {
      "cell_type": "code",
      "source": [
        "# Checking if the given timestamp exists in the given period\n",
        "period.start_time < timestamp < period.end_time"
      ],
      "metadata": {
        "colab": {
          "base_uri": "https://localhost:8080/"
        },
        "id": "dNVzTVVIDw1J",
        "outputId": "abe287e7-9e78-44e2-d4b3-3ec9121a3844"
      },
      "execution_count": null,
      "outputs": [
        {
          "output_type": "execute_result",
          "data": {
            "text/plain": [
              "True"
            ]
          },
          "metadata": {},
          "execution_count": 10
        }
      ]
    },
    {
      "cell_type": "code",
      "source": [
        "# Converting timestamp to period\n",
        "new_period = timestamp.to_period(freq='H')\n",
        "new_period"
      ],
      "metadata": {
        "colab": {
          "base_uri": "https://localhost:8080/"
        },
        "id": "7ZFYUd0MD0qo",
        "outputId": "966dcba9-e37d-42ea-9476-46b1549dfa25"
      },
      "execution_count": null,
      "outputs": [
        {
          "output_type": "execute_result",
          "data": {
            "text/plain": [
              "Period('2017-01-01 12:00', 'H')"
            ]
          },
          "metadata": {},
          "execution_count": 11
        }
      ]
    },
    {
      "cell_type": "code",
      "source": [
        "# Converting period to timestamp\n",
        "new_timestamp = period.to_timestamp(freq='H', how='start')\n",
        "new_timestamp"
      ],
      "metadata": {
        "colab": {
          "base_uri": "https://localhost:8080/"
        },
        "id": "bcKE4zQzD5GA",
        "outputId": "db25e4f2-2814-4273-a40b-e3580d073b17"
      },
      "execution_count": null,
      "outputs": [
        {
          "output_type": "execute_result",
          "data": {
            "text/plain": [
              "Timestamp('2017-01-01 00:00:00')"
            ]
          },
          "metadata": {},
          "execution_count": 12
        }
      ]
    },
    {
      "cell_type": "markdown",
      "source": [
        "Timestamps are used to represent a point in time. Periods represent an interval in time. Periods can used to check if a specific event in the given period. They can also be converted to each other's form."
      ],
      "metadata": {
        "id": "VESP_lGzDZ2z"
      }
    },
    {
      "cell_type": "code",
      "source": [
        "# Creating a datetimeindex with daily frequency\n",
        "dr1 = pd.date_range(start='1/1/18', end='1/9/18')\n",
        "dr1"
      ],
      "metadata": {
        "colab": {
          "base_uri": "https://localhost:8080/"
        },
        "id": "mSyy5xRnEFGZ",
        "outputId": "3c70f642-3e01-48ef-8446-0d1dbd90bb38"
      },
      "execution_count": null,
      "outputs": [
        {
          "output_type": "execute_result",
          "data": {
            "text/plain": [
              "DatetimeIndex(['2018-01-01', '2018-01-02', '2018-01-03', '2018-01-04',\n",
              "               '2018-01-05', '2018-01-06', '2018-01-07', '2018-01-08',\n",
              "               '2018-01-09'],\n",
              "              dtype='datetime64[ns]', freq='D')"
            ]
          },
          "metadata": {},
          "execution_count": 13
        }
      ]
    },
    {
      "cell_type": "code",
      "source": [
        "# Creating a datetimeindex with monthly frequency\n",
        "dr2 = pd.date_range(start='1/1/18', end='1/1/19', freq='M')\n",
        "dr2"
      ],
      "metadata": {
        "colab": {
          "base_uri": "https://localhost:8080/"
        },
        "id": "55FKIUEnEIJq",
        "outputId": "94889daa-d117-4382-bd35-f9fb2dc071e6"
      },
      "execution_count": null,
      "outputs": [
        {
          "output_type": "execute_result",
          "data": {
            "text/plain": [
              "DatetimeIndex(['2018-01-31', '2018-02-28', '2018-03-31', '2018-04-30',\n",
              "               '2018-05-31', '2018-06-30', '2018-07-31', '2018-08-31',\n",
              "               '2018-09-30', '2018-10-31', '2018-11-30', '2018-12-31'],\n",
              "              dtype='datetime64[ns]', freq='M')"
            ]
          },
          "metadata": {},
          "execution_count": 14
        }
      ]
    },
    {
      "cell_type": "code",
      "source": [
        "# Creating a datetimeindex without specifying start date and using periods\n",
        "dr3 = pd.date_range(end='1/4/2014', periods=8)\n",
        "dr3"
      ],
      "metadata": {
        "colab": {
          "base_uri": "https://localhost:8080/"
        },
        "id": "UoixK2dREKti",
        "outputId": "d8e57a9c-89c9-4fb6-a07f-f03d0c542032"
      },
      "execution_count": null,
      "outputs": [
        {
          "output_type": "execute_result",
          "data": {
            "text/plain": [
              "DatetimeIndex(['2013-12-28', '2013-12-29', '2013-12-30', '2013-12-31',\n",
              "               '2014-01-01', '2014-01-02', '2014-01-03', '2014-01-04'],\n",
              "              dtype='datetime64[ns]', freq='D')"
            ]
          },
          "metadata": {},
          "execution_count": 15
        }
      ]
    },
    {
      "cell_type": "code",
      "source": [
        "# Creating a datetimeindex specifying start date , end date and periods\n",
        "dr4 = pd.date_range(start='2013-04-24', end='2014-11-27', periods=3)\n",
        "dr4"
      ],
      "metadata": {
        "colab": {
          "base_uri": "https://localhost:8080/"
        },
        "id": "XTYZj3dpENEx",
        "outputId": "90148160-5a52-4399-f970-a48034472483"
      },
      "execution_count": null,
      "outputs": [
        {
          "output_type": "execute_result",
          "data": {
            "text/plain": [
              "DatetimeIndex(['2013-04-24', '2014-02-09', '2014-11-27'], dtype='datetime64[ns]', freq=None)"
            ]
          },
          "metadata": {},
          "execution_count": 16
        }
      ]
    },
    {
      "cell_type": "markdown",
      "source": [
        "date_range is a method that returns a fixed frequency datetimeindex. It is quite useful when creating our own time series attribute for pre-existing data or arranging the whole data around the time series attribute created by us"
      ],
      "metadata": {
        "id": "xyxp2nIFP_20"
      }
    },
    {
      "cell_type": "code",
      "source": [
        "humidity[\"Vancouver\"].asfreq('M').plot(legend=True)\n",
        "shifted = humidity[\"Vancouver\"].asfreq('M').shift(10).plot(legend=True)\n",
        "shifted.legend(['Vancouver','Vancouver_lagged'])\n",
        "plt.show()"
      ],
      "metadata": {
        "colab": {
          "base_uri": "https://localhost:8080/",
          "height": 269
        },
        "id": "w5C9ECHmEtpo",
        "outputId": "db592a37-8746-4deb-c045-9cf808492b0e"
      },
      "execution_count": null,
      "outputs": [
        {
          "output_type": "display_data",
          "data": {
            "image/png": "[encoded data removed]",
            "text/plain": [
              "<Figure size 432x288 with 1 Axes>"
            ]
          },
          "metadata": {
            "needs_background": "light"
          }
        }
      ]
    },
    {
      "cell_type": "markdown",
      "source": [
        "We can shift index by desired number of periods with an optional time frequency. This is useful when comparing the time series with a past of itself"
      ],
      "metadata": {
        "id": "Z87Og9JqExNg"
      }
    },
    {
      "cell_type": "code",
      "source": [
        "# Let's use pressure data to demonstrate this\n",
        "pressure = pd.read_csv('/content/sample_data/pressure.csv', index_col='datetime', parse_dates=['datetime'])\n",
        "pressure.tail()"
      ],
      "metadata": {
        "colab": {
          "base_uri": "https://localhost:8080/",
          "height": 522
        },
        "id": "riDnDVn_ExuI",
        "outputId": "579ee445-b365-4eb5-b658-86a5e55a9061"
      },
      "execution_count": null,
      "outputs": [
        {
          "output_type": "execute_result",
          "data": {
            "text/html": [
              "\n",
              "  <div id=\"df-f7a71357-d87d-44ba-be02-5fb02692e8a9\">\n",
              "    <div class=\"colab-df-container\">\n",
              "      <div>\n",
              "<style scoped>\n",
              "    .dataframe tbody tr th:only-of-type {\n",
              "        vertical-align: middle;\n",
              "    }\n",
              "\n",
              "    .dataframe tbody tr th {\n",
              "        vertical-align: top;\n",
              "    }\n",
              "\n",
              "    .dataframe thead th {\n",
              "        text-align: right;\n",
              "    }\n",
              "</style>\n",
              "<table border=\"1\" class=\"dataframe\">\n",
              "  <thead>\n",
              "    <tr style=\"text-align: right;\">\n",
              "      <th></th>\n",
              "      <th>Vancouver</th>\n",
              "      <th>Portland</th>\n",
              "      <th>San Francisco</th>\n",
              "      <th>Seattle</th>\n",
              "      <th>Los Angeles</th>\n",
              "      <th>San Diego</th>\n",
              "      <th>Las Vegas</th>\n",
              "      <th>Phoenix</th>\n",
              "      <th>Albuquerque</th>\n",
              "      <th>Denver</th>\n",
              "      <th>...</th>\n",
              "      <th>Philadelphia</th>\n",
              "      <th>New York</th>\n",
              "      <th>Montreal</th>\n",
              "      <th>Boston</th>\n",
              "      <th>Beersheba</th>\n",
              "      <th>Tel Aviv District</th>\n",
              "      <th>Eilat</th>\n",
              "      <th>Haifa</th>\n",
              "      <th>Nahariyya</th>\n",
              "      <th>Jerusalem</th>\n",
              "    </tr>\n",
              "    <tr>\n",
              "      <th>datetime</th>\n",
              "      <th></th>\n",
              "      <th></th>\n",
              "      <th></th>\n",
              "      <th></th>\n",
              "      <th></th>\n",
              "      <th></th>\n",
              "      <th></th>\n",
              "      <th></th>\n",
              "      <th></th>\n",
              "      <th></th>\n",
              "      <th></th>\n",
              "      <th></th>\n",
              "      <th></th>\n",
              "      <th></th>\n",
              "      <th></th>\n",
              "      <th></th>\n",
              "      <th></th>\n",
              "      <th></th>\n",
              "      <th></th>\n",
              "      <th></th>\n",
              "      <th></th>\n",
              "    </tr>\n",
              "  </thead>\n",
              "  <tbody>\n",
              "    <tr>\n",
              "      <th>2017-11-29 20:00:00</th>\n",
              "      <td>NaN</td>\n",
              "      <td>1031.0</td>\n",
              "      <td>NaN</td>\n",
              "      <td>1030.0</td>\n",
              "      <td>1016.0</td>\n",
              "      <td>1017.0</td>\n",
              "      <td>1021.0</td>\n",
              "      <td>1018.0</td>\n",
              "      <td>1025.0</td>\n",
              "      <td>1016.0</td>\n",
              "      <td>...</td>\n",
              "      <td>1021.0</td>\n",
              "      <td>NaN</td>\n",
              "      <td>1021.0</td>\n",
              "      <td>1017.0</td>\n",
              "      <td>NaN</td>\n",
              "      <td>NaN</td>\n",
              "      <td>NaN</td>\n",
              "      <td>NaN</td>\n",
              "      <td>NaN</td>\n",
              "      <td>NaN</td>\n",
              "    </tr>\n",
              "    <tr>\n",
              "      <th>2017-11-29 21:00:00</th>\n",
              "      <td>NaN</td>\n",
              "      <td>1030.0</td>\n",
              "      <td>NaN</td>\n",
              "      <td>1030.0</td>\n",
              "      <td>1016.0</td>\n",
              "      <td>1017.0</td>\n",
              "      <td>1020.0</td>\n",
              "      <td>1018.0</td>\n",
              "      <td>1024.0</td>\n",
              "      <td>1018.0</td>\n",
              "      <td>...</td>\n",
              "      <td>1021.0</td>\n",
              "      <td>NaN</td>\n",
              "      <td>1023.0</td>\n",
              "      <td>1019.0</td>\n",
              "      <td>NaN</td>\n",
              "      <td>NaN</td>\n",
              "      <td>NaN</td>\n",
              "      <td>NaN</td>\n",
              "      <td>NaN</td>\n",
              "      <td>NaN</td>\n",
              "    </tr>\n",
              "    <tr>\n",
              "      <th>2017-11-29 22:00:00</th>\n",
              "      <td>NaN</td>\n",
              "      <td>1030.0</td>\n",
              "      <td>NaN</td>\n",
              "      <td>1029.0</td>\n",
              "      <td>1015.0</td>\n",
              "      <td>1016.0</td>\n",
              "      <td>1020.0</td>\n",
              "      <td>1017.0</td>\n",
              "      <td>1024.0</td>\n",
              "      <td>1018.0</td>\n",
              "      <td>...</td>\n",
              "      <td>1022.0</td>\n",
              "      <td>NaN</td>\n",
              "      <td>1024.0</td>\n",
              "      <td>1019.0</td>\n",
              "      <td>NaN</td>\n",
              "      <td>NaN</td>\n",
              "      <td>NaN</td>\n",
              "      <td>NaN</td>\n",
              "      <td>NaN</td>\n",
              "      <td>NaN</td>\n",
              "    </tr>\n",
              "    <tr>\n",
              "      <th>2017-11-29 23:00:00</th>\n",
              "      <td>NaN</td>\n",
              "      <td>1029.0</td>\n",
              "      <td>NaN</td>\n",
              "      <td>1028.0</td>\n",
              "      <td>1016.0</td>\n",
              "      <td>1016.0</td>\n",
              "      <td>1020.0</td>\n",
              "      <td>1016.0</td>\n",
              "      <td>1024.0</td>\n",
              "      <td>1020.0</td>\n",
              "      <td>...</td>\n",
              "      <td>1023.0</td>\n",
              "      <td>NaN</td>\n",
              "      <td>1026.0</td>\n",
              "      <td>1022.0</td>\n",
              "      <td>NaN</td>\n",
              "      <td>NaN</td>\n",
              "      <td>NaN</td>\n",
              "      <td>NaN</td>\n",
              "      <td>NaN</td>\n",
              "      <td>NaN</td>\n",
              "    </tr>\n",
              "    <tr>\n",
              "      <th>2017-11-30 00:00:00</th>\n",
              "      <td>NaN</td>\n",
              "      <td>1029.0</td>\n",
              "      <td>NaN</td>\n",
              "      <td>1028.0</td>\n",
              "      <td>1015.0</td>\n",
              "      <td>1017.0</td>\n",
              "      <td>1019.0</td>\n",
              "      <td>1016.0</td>\n",
              "      <td>1024.0</td>\n",
              "      <td>1021.0</td>\n",
              "      <td>...</td>\n",
              "      <td>1024.0</td>\n",
              "      <td>NaN</td>\n",
              "      <td>1027.0</td>\n",
              "      <td>1023.0</td>\n",
              "      <td>NaN</td>\n",
              "      <td>NaN</td>\n",
              "      <td>NaN</td>\n",
              "      <td>NaN</td>\n",
              "      <td>NaN</td>\n",
              "      <td>NaN</td>\n",
              "    </tr>\n",
              "  </tbody>\n",
              "</table>\n",
              "<p>5 rows × 36 columns</p>\n",
              "</div>\n",
              "      <button class=\"colab-df-convert\" onclick=\"convertToInteractive('df-f7a71357-d87d-44ba-be02-5fb02692e8a9')\"\n",
              "              title=\"Convert this dataframe to an interactive table.\"\n",
              "              style=\"display:none;\">\n",
              "        \n",
              "  <svg xmlns=\"http://www.w3.org/2000/svg\" height=\"24px\"viewBox=\"0 0 24 24\"\n",
              "       width=\"24px\">\n",
              "    <path d=\"M0 0h24v24H0V0z\" fill=\"none\"/>\n",
              "    <path d=\"M18.56 5.44l.94 2.06.94-2.06 2.06-.94-2.06-.94-.94-2.06-.94 2.06-2.06.94zm-11 1L8.5 8.5l.94-2.06 2.06-.94-2.06-.94L8.5 2.5l-.94 2.06-2.06.94zm10 10l.94 2.06.94-2.06 2.06-.94-2.06-.94-.94-2.06-.94 2.06-2.06.94z\"/><path d=\"M17.41 7.96l-1.37-1.37c-.4-.4-.92-.59-1.43-.59-.52 0-1.04.2-1.43.59L10.3 9.45l-7.72 7.72c-.78.78-.78 2.05 0 2.83L4 21.41c.39.39.9.59 1.41.59.51 0 1.02-.2 1.41-.59l7.78-7.78 2.81-2.81c.8-.78.8-2.07 0-2.86zM5.41 20L4 18.59l7.72-7.72 1.47 1.35L5.41 20z\"/>\n",
              "  </svg>\n",
              "      </button>\n",
              "      \n",
              "  <style>\n",
              "    .colab-df-container {\n",
              "      display:flex;\n",
              "      flex-wrap:wrap;\n",
              "      gap: 12px;\n",
              "    }\n",
              "\n",
              "    .colab-df-convert {\n",
              "      background-color: #E8F0FE;\n",
              "      border: none;\n",
              "      border-radius: 50%;\n",
              "      cursor: pointer;\n",
              "      display: none;\n",
              "      fill: #1967D2;\n",
              "      height: 32px;\n",
              "      padding: 0 0 0 0;\n",
              "      width: 32px;\n",
              "    }\n",
              "\n",
              "    .colab-df-convert:hover {\n",
              "      background-color: #E2EBFA;\n",
              "      box-shadow: 0px 1px 2px rgba(60, 64, 67, 0.3), 0px 1px 3px 1px rgba(60, 64, 67, 0.15);\n",
              "      fill: #174EA6;\n",
              "    }\n",
              "\n",
              "    [theme=dark] .colab-df-convert {\n",
              "      background-color: #3B4455;\n",
              "      fill: #D2E3FC;\n",
              "    }\n",
              "\n",
              "    [theme=dark] .colab-df-convert:hover {\n",
              "      background-color: #434B5C;\n",
              "      box-shadow: 0px 1px 3px 1px rgba(0, 0, 0, 0.15);\n",
              "      filter: drop-shadow(0px 1px 2px rgba(0, 0, 0, 0.3));\n",
              "      fill: #FFFFFF;\n",
              "    }\n",
              "  </style>\n",
              "\n",
              "      <script>\n",
              "        const buttonEl =\n",
              "          document.querySelector('#df-f7a71357-d87d-44ba-be02-5fb02692e8a9 button.colab-df-convert');\n",
              "        buttonEl.style.display =\n",
              "          google.colab.kernel.accessAllowed ? 'block' : 'none';\n",
              "\n",
              "        async function convertToInteractive(key) {\n",
              "          const element = document.querySelector('#df-f7a71357-d87d-44ba-be02-5fb02692e8a9');\n",
              "          const dataTable =\n",
              "            await google.colab.kernel.invokeFunction('convertToInteractive',\n",
              "                                                     [key], {});\n",
              "          if (!dataTable) return;\n",
              "\n",
              "          const docLinkHtml = 'Like what you see? Visit the ' +\n",
              "            '<a target=\"_blank\" href=https://colab.research.google.com/notebooks/data_table.ipynb>data table notebook</a>'\n",
              "            + ' to learn more about interactive tables.';\n",
              "          element.innerHTML = '';\n",
              "          dataTable['output_type'] = 'display_data';\n",
              "          await google.colab.output.renderOutput(dataTable, element);\n",
              "          const docLink = document.createElement('div');\n",
              "          docLink.innerHTML = docLinkHtml;\n",
              "          element.appendChild(docLink);\n",
              "        }\n",
              "      </script>\n",
              "    </div>\n",
              "  </div>\n",
              "  "
            ],
            "text/plain": [
              "                     Vancouver  Portland  San Francisco  Seattle  Los Angeles  \\\n",
              "datetime                                                                        \n",
              "2017-11-29 20:00:00        NaN    1031.0            NaN   1030.0       1016.0   \n",
              "2017-11-29 21:00:00        NaN    1030.0            NaN   1030.0       1016.0   \n",
              "2017-11-29 22:00:00        NaN    1030.0            NaN   1029.0       1015.0   \n",
              "2017-11-29 23:00:00        NaN    1029.0            NaN   1028.0       1016.0   \n",
              "2017-11-30 00:00:00        NaN    1029.0            NaN   1028.0       1015.0   \n",
              "\n",
              "                     San Diego  Las Vegas  Phoenix  Albuquerque  Denver  ...  \\\n",
              "datetime                                                                 ...   \n",
              "2017-11-29 20:00:00     1017.0     1021.0   1018.0       1025.0  1016.0  ...   \n",
              "2017-11-29 21:00:00     1017.0     1020.0   1018.0       1024.0  1018.0  ...   \n",
              "2017-11-29 22:00:00     1016.0     1020.0   1017.0       1024.0  1018.0  ...   \n",
              "2017-11-29 23:00:00     1016.0     1020.0   1016.0       1024.0  1020.0  ...   \n",
              "2017-11-30 00:00:00     1017.0     1019.0   1016.0       1024.0  1021.0  ...   \n",
              "\n",
              "                     Philadelphia  New York  Montreal  Boston  Beersheba  \\\n",
              "datetime                                                                   \n",
              "2017-11-29 20:00:00        1021.0       NaN    1021.0  1017.0        NaN   \n",
              "2017-11-29 21:00:00        1021.0       NaN    1023.0  1019.0        NaN   \n",
              "2017-11-29 22:00:00        1022.0       NaN    1024.0  1019.0        NaN   \n",
              "2017-11-29 23:00:00        1023.0       NaN    1026.0  1022.0        NaN   \n",
              "2017-11-30 00:00:00        1024.0       NaN    1027.0  1023.0        NaN   \n",
              "\n",
              "                     Tel Aviv District  Eilat  Haifa  Nahariyya  Jerusalem  \n",
              "datetime                                                                    \n",
              "2017-11-29 20:00:00                NaN    NaN    NaN        NaN        NaN  \n",
              "2017-11-29 21:00:00                NaN    NaN    NaN        NaN        NaN  \n",
              "2017-11-29 22:00:00                NaN    NaN    NaN        NaN        NaN  \n",
              "2017-11-29 23:00:00                NaN    NaN    NaN        NaN        NaN  \n",
              "2017-11-30 00:00:00                NaN    NaN    NaN        NaN        NaN  \n",
              "\n",
              "[5 rows x 36 columns]"
            ]
          },
          "metadata": {},
          "execution_count": 18
        }
      ]
    },
    {
      "cell_type": "code",
      "source": [
        "pressure = pressure.iloc[1:]\n",
        "pressure = pressure.fillna(method='ffill')\n",
        "pressure.tail()"
      ],
      "metadata": {
        "colab": {
          "base_uri": "https://localhost:8080/",
          "height": 522
        },
        "id": "fpOMHsJ-FFYf",
        "outputId": "fc1a6dbc-4782-4f6d-c8b3-37ee219926da"
      },
      "execution_count": null,
      "outputs": [
        {
          "output_type": "execute_result",
          "data": {
            "text/html": [
              "\n",
              "  <div id=\"df-94aa4bb7-cd92-4ecc-a59e-0c416e8e6a4a\">\n",
              "    <div class=\"colab-df-container\">\n",
              "      <div>\n",
              "<style scoped>\n",
              "    .dataframe tbody tr th:only-of-type {\n",
              "        vertical-align: middle;\n",
              "    }\n",
              "\n",
              "    .dataframe tbody tr th {\n",
              "        vertical-align: top;\n",
              "    }\n",
              "\n",
              "    .dataframe thead th {\n",
              "        text-align: right;\n",
              "    }\n",
              "</style>\n",
              "<table border=\"1\" class=\"dataframe\">\n",
              "  <thead>\n",
              "    <tr style=\"text-align: right;\">\n",
              "      <th></th>\n",
              "      <th>Vancouver</th>\n",
              "      <th>Portland</th>\n",
              "      <th>San Francisco</th>\n",
              "      <th>Seattle</th>\n",
              "      <th>Los Angeles</th>\n",
              "      <th>San Diego</th>\n",
              "      <th>Las Vegas</th>\n",
              "      <th>Phoenix</th>\n",
              "      <th>Albuquerque</th>\n",
              "      <th>Denver</th>\n",
              "      <th>...</th>\n",
              "      <th>Philadelphia</th>\n",
              "      <th>New York</th>\n",
              "      <th>Montreal</th>\n",
              "      <th>Boston</th>\n",
              "      <th>Beersheba</th>\n",
              "      <th>Tel Aviv District</th>\n",
              "      <th>Eilat</th>\n",
              "      <th>Haifa</th>\n",
              "      <th>Nahariyya</th>\n",
              "      <th>Jerusalem</th>\n",
              "    </tr>\n",
              "    <tr>\n",
              "      <th>datetime</th>\n",
              "      <th></th>\n",
              "      <th></th>\n",
              "      <th></th>\n",
              "      <th></th>\n",
              "      <th></th>\n",
              "      <th></th>\n",
              "      <th></th>\n",
              "      <th></th>\n",
              "      <th></th>\n",
              "      <th></th>\n",
              "      <th></th>\n",
              "      <th></th>\n",
              "      <th></th>\n",
              "      <th></th>\n",
              "      <th></th>\n",
              "      <th></th>\n",
              "      <th></th>\n",
              "      <th></th>\n",
              "      <th></th>\n",
              "      <th></th>\n",
              "      <th></th>\n",
              "    </tr>\n",
              "  </thead>\n",
              "  <tbody>\n",
              "    <tr>\n",
              "      <th>2017-11-29 20:00:00</th>\n",
              "      <td>1021.0</td>\n",
              "      <td>1031.0</td>\n",
              "      <td>1013.0</td>\n",
              "      <td>1030.0</td>\n",
              "      <td>1016.0</td>\n",
              "      <td>1017.0</td>\n",
              "      <td>1021.0</td>\n",
              "      <td>1018.0</td>\n",
              "      <td>1025.0</td>\n",
              "      <td>1016.0</td>\n",
              "      <td>...</td>\n",
              "      <td>1021.0</td>\n",
              "      <td>1020.0</td>\n",
              "      <td>1021.0</td>\n",
              "      <td>1017.0</td>\n",
              "      <td>984.0</td>\n",
              "      <td>1011.0</td>\n",
              "      <td>968.0</td>\n",
              "      <td>1023.0</td>\n",
              "      <td>1023.0</td>\n",
              "      <td>1011.0</td>\n",
              "    </tr>\n",
              "    <tr>\n",
              "      <th>2017-11-29 21:00:00</th>\n",
              "      <td>1021.0</td>\n",
              "      <td>1030.0</td>\n",
              "      <td>1013.0</td>\n",
              "      <td>1030.0</td>\n",
              "      <td>1016.0</td>\n",
              "      <td>1017.0</td>\n",
              "      <td>1020.0</td>\n",
              "      <td>1018.0</td>\n",
              "      <td>1024.0</td>\n",
              "      <td>1018.0</td>\n",
              "      <td>...</td>\n",
              "      <td>1021.0</td>\n",
              "      <td>1020.0</td>\n",
              "      <td>1023.0</td>\n",
              "      <td>1019.0</td>\n",
              "      <td>984.0</td>\n",
              "      <td>1011.0</td>\n",
              "      <td>968.0</td>\n",
              "      <td>1023.0</td>\n",
              "      <td>1023.0</td>\n",
              "      <td>1011.0</td>\n",
              "    </tr>\n",
              "    <tr>\n",
              "      <th>2017-11-29 22:00:00</th>\n",
              "      <td>1021.0</td>\n",
              "      <td>1030.0</td>\n",
              "      <td>1013.0</td>\n",
              "      <td>1029.0</td>\n",
              "      <td>1015.0</td>\n",
              "      <td>1016.0</td>\n",
              "      <td>1020.0</td>\n",
              "      <td>1017.0</td>\n",
              "      <td>1024.0</td>\n",
              "      <td>1018.0</td>\n",
              "      <td>...</td>\n",
              "      <td>1022.0</td>\n",
              "      <td>1020.0</td>\n",
              "      <td>1024.0</td>\n",
              "      <td>1019.0</td>\n",
              "      <td>984.0</td>\n",
              "      <td>1011.0</td>\n",
              "      <td>968.0</td>\n",
              "      <td>1023.0</td>\n",
              "      <td>1023.0</td>\n",
              "      <td>1011.0</td>\n",
              "    </tr>\n",
              "    <tr>\n",
              "      <th>2017-11-29 23:00:00</th>\n",
              "      <td>1021.0</td>\n",
              "      <td>1029.0</td>\n",
              "      <td>1013.0</td>\n",
              "      <td>1028.0</td>\n",
              "      <td>1016.0</td>\n",
              "      <td>1016.0</td>\n",
              "      <td>1020.0</td>\n",
              "      <td>1016.0</td>\n",
              "      <td>1024.0</td>\n",
              "      <td>1020.0</td>\n",
              "      <td>...</td>\n",
              "      <td>1023.0</td>\n",
              "      <td>1020.0</td>\n",
              "      <td>1026.0</td>\n",
              "      <td>1022.0</td>\n",
              "      <td>984.0</td>\n",
              "      <td>1011.0</td>\n",
              "      <td>968.0</td>\n",
              "      <td>1023.0</td>\n",
              "      <td>1023.0</td>\n",
              "      <td>1011.0</td>\n",
              "    </tr>\n",
              "    <tr>\n",
              "      <th>2017-11-30 00:00:00</th>\n",
              "      <td>1021.0</td>\n",
              "      <td>1029.0</td>\n",
              "      <td>1013.0</td>\n",
              "      <td>1028.0</td>\n",
              "      <td>1015.0</td>\n",
              "      <td>1017.0</td>\n",
              "      <td>1019.0</td>\n",
              "      <td>1016.0</td>\n",
              "      <td>1024.0</td>\n",
              "      <td>1021.0</td>\n",
              "      <td>...</td>\n",
              "      <td>1024.0</td>\n",
              "      <td>1020.0</td>\n",
              "      <td>1027.0</td>\n",
              "      <td>1023.0</td>\n",
              "      <td>984.0</td>\n",
              "      <td>1011.0</td>\n",
              "      <td>968.0</td>\n",
              "      <td>1023.0</td>\n",
              "      <td>1023.0</td>\n",
              "      <td>1011.0</td>\n",
              "    </tr>\n",
              "  </tbody>\n",
              "</table>\n",
              "<p>5 rows × 36 columns</p>\n",
              "</div>\n",
              "      <button class=\"colab-df-convert\" onclick=\"convertToInteractive('df-94aa4bb7-cd92-4ecc-a59e-0c416e8e6a4a')\"\n",
              "              title=\"Convert this dataframe to an interactive table.\"\n",
              "              style=\"display:none;\">\n",
              "        \n",
              "  <svg xmlns=\"http://www.w3.org/2000/svg\" height=\"24px\"viewBox=\"0 0 24 24\"\n",
              "       width=\"24px\">\n",
              "    <path d=\"M0 0h24v24H0V0z\" fill=\"none\"/>\n",
              "    <path d=\"M18.56 5.44l.94 2.06.94-2.06 2.06-.94-2.06-.94-.94-2.06-.94 2.06-2.06.94zm-11 1L8.5 8.5l.94-2.06 2.06-.94-2.06-.94L8.5 2.5l-.94 2.06-2.06.94zm10 10l.94 2.06.94-2.06 2.06-.94-2.06-.94-.94-2.06-.94 2.06-2.06.94z\"/><path d=\"M17.41 7.96l-1.37-1.37c-.4-.4-.92-.59-1.43-.59-.52 0-1.04.2-1.43.59L10.3 9.45l-7.72 7.72c-.78.78-.78 2.05 0 2.83L4 21.41c.39.39.9.59 1.41.59.51 0 1.02-.2 1.41-.59l7.78-7.78 2.81-2.81c.8-.78.8-2.07 0-2.86zM5.41 20L4 18.59l7.72-7.72 1.47 1.35L5.41 20z\"/>\n",
              "  </svg>\n",
              "      </button>\n",
              "      \n",
              "  <style>\n",
              "    .colab-df-container {\n",
              "      display:flex;\n",
              "      flex-wrap:wrap;\n",
              "      gap: 12px;\n",
              "    }\n",
              "\n",
              "    .colab-df-convert {\n",
              "      background-color: #E8F0FE;\n",
              "      border: none;\n",
              "      border-radius: 50%;\n",
              "      cursor: pointer;\n",
              "      display: none;\n",
              "      fill: #1967D2;\n",
              "      height: 32px;\n",
              "      padding: 0 0 0 0;\n",
              "      width: 32px;\n",
              "    }\n",
              "\n",
              "    .colab-df-convert:hover {\n",
              "      background-color: #E2EBFA;\n",
              "      box-shadow: 0px 1px 2px rgba(60, 64, 67, 0.3), 0px 1px 3px 1px rgba(60, 64, 67, 0.15);\n",
              "      fill: #174EA6;\n",
              "    }\n",
              "\n",
              "    [theme=dark] .colab-df-convert {\n",
              "      background-color: #3B4455;\n",
              "      fill: #D2E3FC;\n",
              "    }\n",
              "\n",
              "    [theme=dark] .colab-df-convert:hover {\n",
              "      background-color: #434B5C;\n",
              "      box-shadow: 0px 1px 3px 1px rgba(0, 0, 0, 0.15);\n",
              "      filter: drop-shadow(0px 1px 2px rgba(0, 0, 0, 0.3));\n",
              "      fill: #FFFFFF;\n",
              "    }\n",
              "  </style>\n",
              "\n",
              "      <script>\n",
              "        const buttonEl =\n",
              "          document.querySelector('#df-94aa4bb7-cd92-4ecc-a59e-0c416e8e6a4a button.colab-df-convert');\n",
              "        buttonEl.style.display =\n",
              "          google.colab.kernel.accessAllowed ? 'block' : 'none';\n",
              "\n",
              "        async function convertToInteractive(key) {\n",
              "          const element = document.querySelector('#df-94aa4bb7-cd92-4ecc-a59e-0c416e8e6a4a');\n",
              "          const dataTable =\n",
              "            await google.colab.kernel.invokeFunction('convertToInteractive',\n",
              "                                                     [key], {});\n",
              "          if (!dataTable) return;\n",
              "\n",
              "          const docLinkHtml = 'Like what you see? Visit the ' +\n",
              "            '<a target=\"_blank\" href=https://colab.research.google.com/notebooks/data_table.ipynb>data table notebook</a>'\n",
              "            + ' to learn more about interactive tables.';\n",
              "          element.innerHTML = '';\n",
              "          dataTable['output_type'] = 'display_data';\n",
              "          await google.colab.output.renderOutput(dataTable, element);\n",
              "          const docLink = document.createElement('div');\n",
              "          docLink.innerHTML = docLinkHtml;\n",
              "          element.appendChild(docLink);\n",
              "        }\n",
              "      </script>\n",
              "    </div>\n",
              "  </div>\n",
              "  "
            ],
            "text/plain": [
              "                     Vancouver  Portland  San Francisco  Seattle  Los Angeles  \\\n",
              "datetime                                                                        \n",
              "2017-11-29 20:00:00     1021.0    1031.0         1013.0   1030.0       1016.0   \n",
              "2017-11-29 21:00:00     1021.0    1030.0         1013.0   1030.0       1016.0   \n",
              "2017-11-29 22:00:00     1021.0    1030.0         1013.0   1029.0       1015.0   \n",
              "2017-11-29 23:00:00     1021.0    1029.0         1013.0   1028.0       1016.0   \n",
              "2017-11-30 00:00:00     1021.0    1029.0         1013.0   1028.0       1015.0   \n",
              "\n",
              "                     San Diego  Las Vegas  Phoenix  Albuquerque  Denver  ...  \\\n",
              "datetime                                                                 ...   \n",
              "2017-11-29 20:00:00     1017.0     1021.0   1018.0       1025.0  1016.0  ...   \n",
              "2017-11-29 21:00:00     1017.0     1020.0   1018.0       1024.0  1018.0  ...   \n",
              "2017-11-29 22:00:00     1016.0     1020.0   1017.0       1024.0  1018.0  ...   \n",
              "2017-11-29 23:00:00     1016.0     1020.0   1016.0       1024.0  1020.0  ...   \n",
              "2017-11-30 00:00:00     1017.0     1019.0   1016.0       1024.0  1021.0  ...   \n",
              "\n",
              "                     Philadelphia  New York  Montreal  Boston  Beersheba  \\\n",
              "datetime                                                                   \n",
              "2017-11-29 20:00:00        1021.0    1020.0    1021.0  1017.0      984.0   \n",
              "2017-11-29 21:00:00        1021.0    1020.0    1023.0  1019.0      984.0   \n",
              "2017-11-29 22:00:00        1022.0    1020.0    1024.0  1019.0      984.0   \n",
              "2017-11-29 23:00:00        1023.0    1020.0    1026.0  1022.0      984.0   \n",
              "2017-11-30 00:00:00        1024.0    1020.0    1027.0  1023.0      984.0   \n",
              "\n",
              "                     Tel Aviv District  Eilat   Haifa  Nahariyya  Jerusalem  \n",
              "datetime                                                                     \n",
              "2017-11-29 20:00:00             1011.0  968.0  1023.0     1023.0     1011.0  \n",
              "2017-11-29 21:00:00             1011.0  968.0  1023.0     1023.0     1011.0  \n",
              "2017-11-29 22:00:00             1011.0  968.0  1023.0     1023.0     1011.0  \n",
              "2017-11-29 23:00:00             1011.0  968.0  1023.0     1023.0     1011.0  \n",
              "2017-11-30 00:00:00             1011.0  968.0  1023.0     1023.0     1011.0  \n",
              "\n",
              "[5 rows x 36 columns]"
            ]
          },
          "metadata": {},
          "execution_count": 19
        }
      ]
    },
    {
      "cell_type": "code",
      "source": [
        "pressure = pressure.fillna(method='bfill')\n",
        "pressure.head()"
      ],
      "metadata": {
        "colab": {
          "base_uri": "https://localhost:8080/",
          "height": 522
        },
        "id": "T7WdKh5lFHdF",
        "outputId": "deb40947-14b0-4262-bd99-d9684aacfbf6"
      },
      "execution_count": null,
      "outputs": [
        {
          "output_type": "execute_result",
          "data": {
            "text/html": [
              "\n",
              "  <div id=\"df-d6cdbb67-12d9-4fbb-bfc6-6dc36319625b\">\n",
              "    <div class=\"colab-df-container\">\n",
              "      <div>\n",
              "<style scoped>\n",
              "    .dataframe tbody tr th:only-of-type {\n",
              "        vertical-align: middle;\n",
              "    }\n",
              "\n",
              "    .dataframe tbody tr th {\n",
              "        vertical-align: top;\n",
              "    }\n",
              "\n",
              "    .dataframe thead th {\n",
              "        text-align: right;\n",
              "    }\n",
              "</style>\n",
              "<table border=\"1\" class=\"dataframe\">\n",
              "  <thead>\n",
              "    <tr style=\"text-align: right;\">\n",
              "      <th></th>\n",
              "      <th>Vancouver</th>\n",
              "      <th>Portland</th>\n",
              "      <th>San Francisco</th>\n",
              "      <th>Seattle</th>\n",
              "      <th>Los Angeles</th>\n",
              "      <th>San Diego</th>\n",
              "      <th>Las Vegas</th>\n",
              "      <th>Phoenix</th>\n",
              "      <th>Albuquerque</th>\n",
              "      <th>Denver</th>\n",
              "      <th>...</th>\n",
              "      <th>Philadelphia</th>\n",
              "      <th>New York</th>\n",
              "      <th>Montreal</th>\n",
              "      <th>Boston</th>\n",
              "      <th>Beersheba</th>\n",
              "      <th>Tel Aviv District</th>\n",
              "      <th>Eilat</th>\n",
              "      <th>Haifa</th>\n",
              "      <th>Nahariyya</th>\n",
              "      <th>Jerusalem</th>\n",
              "    </tr>\n",
              "    <tr>\n",
              "      <th>datetime</th>\n",
              "      <th></th>\n",
              "      <th></th>\n",
              "      <th></th>\n",
              "      <th></th>\n",
              "      <th></th>\n",
              "      <th></th>\n",
              "      <th></th>\n",
              "      <th></th>\n",
              "      <th></th>\n",
              "      <th></th>\n",
              "      <th></th>\n",
              "      <th></th>\n",
              "      <th></th>\n",
              "      <th></th>\n",
              "      <th></th>\n",
              "      <th></th>\n",
              "      <th></th>\n",
              "      <th></th>\n",
              "      <th></th>\n",
              "      <th></th>\n",
              "      <th></th>\n",
              "    </tr>\n",
              "  </thead>\n",
              "  <tbody>\n",
              "    <tr>\n",
              "      <th>2012-10-01 13:00:00</th>\n",
              "      <td>807.0</td>\n",
              "      <td>1024.0</td>\n",
              "      <td>1009.0</td>\n",
              "      <td>1027.0</td>\n",
              "      <td>1013.0</td>\n",
              "      <td>1013.0</td>\n",
              "      <td>1018.0</td>\n",
              "      <td>1013.0</td>\n",
              "      <td>1024.0</td>\n",
              "      <td>1028.0</td>\n",
              "      <td>...</td>\n",
              "      <td>1014.0</td>\n",
              "      <td>1012.0</td>\n",
              "      <td>1001.0</td>\n",
              "      <td>1014.0</td>\n",
              "      <td>984.0</td>\n",
              "      <td>1012.0</td>\n",
              "      <td>1010.0</td>\n",
              "      <td>1013.0</td>\n",
              "      <td>1013.0</td>\n",
              "      <td>990.0</td>\n",
              "    </tr>\n",
              "    <tr>\n",
              "      <th>2012-10-01 14:00:00</th>\n",
              "      <td>807.0</td>\n",
              "      <td>1024.0</td>\n",
              "      <td>1009.0</td>\n",
              "      <td>1027.0</td>\n",
              "      <td>1013.0</td>\n",
              "      <td>1013.0</td>\n",
              "      <td>1018.0</td>\n",
              "      <td>1013.0</td>\n",
              "      <td>1024.0</td>\n",
              "      <td>1028.0</td>\n",
              "      <td>...</td>\n",
              "      <td>1014.0</td>\n",
              "      <td>1012.0</td>\n",
              "      <td>986.0</td>\n",
              "      <td>1014.0</td>\n",
              "      <td>984.0</td>\n",
              "      <td>1012.0</td>\n",
              "      <td>1010.0</td>\n",
              "      <td>1013.0</td>\n",
              "      <td>1013.0</td>\n",
              "      <td>990.0</td>\n",
              "    </tr>\n",
              "    <tr>\n",
              "      <th>2012-10-01 15:00:00</th>\n",
              "      <td>807.0</td>\n",
              "      <td>1024.0</td>\n",
              "      <td>1009.0</td>\n",
              "      <td>1028.0</td>\n",
              "      <td>1013.0</td>\n",
              "      <td>1013.0</td>\n",
              "      <td>1018.0</td>\n",
              "      <td>1013.0</td>\n",
              "      <td>1024.0</td>\n",
              "      <td>1028.0</td>\n",
              "      <td>...</td>\n",
              "      <td>1014.0</td>\n",
              "      <td>1012.0</td>\n",
              "      <td>945.0</td>\n",
              "      <td>1014.0</td>\n",
              "      <td>984.0</td>\n",
              "      <td>1012.0</td>\n",
              "      <td>1010.0</td>\n",
              "      <td>1013.0</td>\n",
              "      <td>1013.0</td>\n",
              "      <td>990.0</td>\n",
              "    </tr>\n",
              "    <tr>\n",
              "      <th>2012-10-01 16:00:00</th>\n",
              "      <td>807.0</td>\n",
              "      <td>1024.0</td>\n",
              "      <td>1009.0</td>\n",
              "      <td>1028.0</td>\n",
              "      <td>1013.0</td>\n",
              "      <td>1013.0</td>\n",
              "      <td>1018.0</td>\n",
              "      <td>1013.0</td>\n",
              "      <td>1024.0</td>\n",
              "      <td>1028.0</td>\n",
              "      <td>...</td>\n",
              "      <td>1014.0</td>\n",
              "      <td>1012.0</td>\n",
              "      <td>904.0</td>\n",
              "      <td>1014.0</td>\n",
              "      <td>984.0</td>\n",
              "      <td>1012.0</td>\n",
              "      <td>1010.0</td>\n",
              "      <td>1013.0</td>\n",
              "      <td>1013.0</td>\n",
              "      <td>990.0</td>\n",
              "    </tr>\n",
              "    <tr>\n",
              "      <th>2012-10-01 17:00:00</th>\n",
              "      <td>807.0</td>\n",
              "      <td>1024.0</td>\n",
              "      <td>1009.0</td>\n",
              "      <td>1029.0</td>\n",
              "      <td>1013.0</td>\n",
              "      <td>1013.0</td>\n",
              "      <td>1018.0</td>\n",
              "      <td>1013.0</td>\n",
              "      <td>1024.0</td>\n",
              "      <td>1028.0</td>\n",
              "      <td>...</td>\n",
              "      <td>1014.0</td>\n",
              "      <td>1012.0</td>\n",
              "      <td>863.0</td>\n",
              "      <td>1014.0</td>\n",
              "      <td>984.0</td>\n",
              "      <td>1012.0</td>\n",
              "      <td>1010.0</td>\n",
              "      <td>1013.0</td>\n",
              "      <td>1013.0</td>\n",
              "      <td>990.0</td>\n",
              "    </tr>\n",
              "  </tbody>\n",
              "</table>\n",
              "<p>5 rows × 36 columns</p>\n",
              "</div>\n",
              "      <button class=\"colab-df-convert\" onclick=\"convertToInteractive('df-d6cdbb67-12d9-4fbb-bfc6-6dc36319625b')\"\n",
              "              title=\"Convert this dataframe to an interactive table.\"\n",
              "              style=\"display:none;\">\n",
              "        \n",
              "  <svg xmlns=\"http://www.w3.org/2000/svg\" height=\"24px\"viewBox=\"0 0 24 24\"\n",
              "       width=\"24px\">\n",
              "    <path d=\"M0 0h24v24H0V0z\" fill=\"none\"/>\n",
              "    <path d=\"M18.56 5.44l.94 2.06.94-2.06 2.06-.94-2.06-.94-.94-2.06-.94 2.06-2.06.94zm-11 1L8.5 8.5l.94-2.06 2.06-.94-2.06-.94L8.5 2.5l-.94 2.06-2.06.94zm10 10l.94 2.06.94-2.06 2.06-.94-2.06-.94-.94-2.06-.94 2.06-2.06.94z\"/><path d=\"M17.41 7.96l-1.37-1.37c-.4-.4-.92-.59-1.43-.59-.52 0-1.04.2-1.43.59L10.3 9.45l-7.72 7.72c-.78.78-.78 2.05 0 2.83L4 21.41c.39.39.9.59 1.41.59.51 0 1.02-.2 1.41-.59l7.78-7.78 2.81-2.81c.8-.78.8-2.07 0-2.86zM5.41 20L4 18.59l7.72-7.72 1.47 1.35L5.41 20z\"/>\n",
              "  </svg>\n",
              "      </button>\n",
              "      \n",
              "  <style>\n",
              "    .colab-df-container {\n",
              "      display:flex;\n",
              "      flex-wrap:wrap;\n",
              "      gap: 12px;\n",
              "    }\n",
              "\n",
              "    .colab-df-convert {\n",
              "      background-color: #E8F0FE;\n",
              "      border: none;\n",
              "      border-radius: 50%;\n",
              "      cursor: pointer;\n",
              "      display: none;\n",
              "      fill: #1967D2;\n",
              "      height: 32px;\n",
              "      padding: 0 0 0 0;\n",
              "      width: 32px;\n",
              "    }\n",
              "\n",
              "    .colab-df-convert:hover {\n",
              "      background-color: #E2EBFA;\n",
              "      box-shadow: 0px 1px 2px rgba(60, 64, 67, 0.3), 0px 1px 3px 1px rgba(60, 64, 67, 0.15);\n",
              "      fill: #174EA6;\n",
              "    }\n",
              "\n",
              "    [theme=dark] .colab-df-convert {\n",
              "      background-color: #3B4455;\n",
              "      fill: #D2E3FC;\n",
              "    }\n",
              "\n",
              "    [theme=dark] .colab-df-convert:hover {\n",
              "      background-color: #434B5C;\n",
              "      box-shadow: 0px 1px 3px 1px rgba(0, 0, 0, 0.15);\n",
              "      filter: drop-shadow(0px 1px 2px rgba(0, 0, 0, 0.3));\n",
              "      fill: #FFFFFF;\n",
              "    }\n",
              "  </style>\n",
              "\n",
              "      <script>\n",
              "        const buttonEl =\n",
              "          document.querySelector('#df-d6cdbb67-12d9-4fbb-bfc6-6dc36319625b button.colab-df-convert');\n",
              "        buttonEl.style.display =\n",
              "          google.colab.kernel.accessAllowed ? 'block' : 'none';\n",
              "\n",
              "        async function convertToInteractive(key) {\n",
              "          const element = document.querySelector('#df-d6cdbb67-12d9-4fbb-bfc6-6dc36319625b');\n",
              "          const dataTable =\n",
              "            await google.colab.kernel.invokeFunction('convertToInteractive',\n",
              "                                                     [key], {});\n",
              "          if (!dataTable) return;\n",
              "\n",
              "          const docLinkHtml = 'Like what you see? Visit the ' +\n",
              "            '<a target=\"_blank\" href=https://colab.research.google.com/notebooks/data_table.ipynb>data table notebook</a>'\n",
              "            + ' to learn more about interactive tables.';\n",
              "          element.innerHTML = '';\n",
              "          dataTable['output_type'] = 'display_data';\n",
              "          await google.colab.output.renderOutput(dataTable, element);\n",
              "          const docLink = document.createElement('div');\n",
              "          docLink.innerHTML = docLinkHtml;\n",
              "          element.appendChild(docLink);\n",
              "        }\n",
              "      </script>\n",
              "    </div>\n",
              "  </div>\n",
              "  "
            ],
            "text/plain": [
              "                     Vancouver  Portland  San Francisco  Seattle  Los Angeles  \\\n",
              "datetime                                                                        \n",
              "2012-10-01 13:00:00      807.0    1024.0         1009.0   1027.0       1013.0   \n",
              "2012-10-01 14:00:00      807.0    1024.0         1009.0   1027.0       1013.0   \n",
              "2012-10-01 15:00:00      807.0    1024.0         1009.0   1028.0       1013.0   \n",
              "2012-10-01 16:00:00      807.0    1024.0         1009.0   1028.0       1013.0   \n",
              "2012-10-01 17:00:00      807.0    1024.0         1009.0   1029.0       1013.0   \n",
              "\n",
              "                     San Diego  Las Vegas  Phoenix  Albuquerque  Denver  ...  \\\n",
              "datetime                                                                 ...   \n",
              "2012-10-01 13:00:00     1013.0     1018.0   1013.0       1024.0  1028.0  ...   \n",
              "2012-10-01 14:00:00     1013.0     1018.0   1013.0       1024.0  1028.0  ...   \n",
              "2012-10-01 15:00:00     1013.0     1018.0   1013.0       1024.0  1028.0  ...   \n",
              "2012-10-01 16:00:00     1013.0     1018.0   1013.0       1024.0  1028.0  ...   \n",
              "2012-10-01 17:00:00     1013.0     1018.0   1013.0       1024.0  1028.0  ...   \n",
              "\n",
              "                     Philadelphia  New York  Montreal  Boston  Beersheba  \\\n",
              "datetime                                                                   \n",
              "2012-10-01 13:00:00        1014.0    1012.0    1001.0  1014.0      984.0   \n",
              "2012-10-01 14:00:00        1014.0    1012.0     986.0  1014.0      984.0   \n",
              "2012-10-01 15:00:00        1014.0    1012.0     945.0  1014.0      984.0   \n",
              "2012-10-01 16:00:00        1014.0    1012.0     904.0  1014.0      984.0   \n",
              "2012-10-01 17:00:00        1014.0    1012.0     863.0  1014.0      984.0   \n",
              "\n",
              "                     Tel Aviv District   Eilat   Haifa  Nahariyya  Jerusalem  \n",
              "datetime                                                                      \n",
              "2012-10-01 13:00:00             1012.0  1010.0  1013.0     1013.0      990.0  \n",
              "2012-10-01 14:00:00             1012.0  1010.0  1013.0     1013.0      990.0  \n",
              "2012-10-01 15:00:00             1012.0  1010.0  1013.0     1013.0      990.0  \n",
              "2012-10-01 16:00:00             1012.0  1010.0  1013.0     1013.0      990.0  \n",
              "2012-10-01 17:00:00             1012.0  1010.0  1013.0     1013.0      990.0  \n",
              "\n",
              "[5 rows x 36 columns]"
            ]
          },
          "metadata": {},
          "execution_count": 20
        }
      ]
    },
    {
      "cell_type": "code",
      "source": [
        "# Shape before resampling(downsampling)\n",
        "pressure.shape"
      ],
      "metadata": {
        "colab": {
          "base_uri": "https://localhost:8080/",
          "height": 435
        },
        "id": "z--gg7HeFLoe",
        "outputId": "fb21d684-3c67-4bcb-a8e3-7864bf653d00"
      },
      "execution_count": null,
      "outputs": [
        {
          "output_type": "execute_result",
          "data": {
            "text/html": [
              "\n",
              "  <div id=\"df-4165b6f1-6138-434f-8409-472ae39888c6\">\n",
              "    <div class=\"colab-df-container\">\n",
              "      <div>\n",
              "<style scoped>\n",
              "    .dataframe tbody tr th:only-of-type {\n",
              "        vertical-align: middle;\n",
              "    }\n",
              "\n",
              "    .dataframe tbody tr th {\n",
              "        vertical-align: top;\n",
              "    }\n",
              "\n",
              "    .dataframe thead th {\n",
              "        text-align: right;\n",
              "    }\n",
              "</style>\n",
              "<table border=\"1\" class=\"dataframe\">\n",
              "  <thead>\n",
              "    <tr style=\"text-align: right;\">\n",
              "      <th></th>\n",
              "      <th>Vancouver</th>\n",
              "      <th>Portland</th>\n",
              "      <th>San Francisco</th>\n",
              "      <th>Seattle</th>\n",
              "      <th>Los Angeles</th>\n",
              "      <th>San Diego</th>\n",
              "      <th>Las Vegas</th>\n",
              "      <th>Phoenix</th>\n",
              "      <th>Albuquerque</th>\n",
              "      <th>Denver</th>\n",
              "      <th>...</th>\n",
              "      <th>Philadelphia</th>\n",
              "      <th>New York</th>\n",
              "      <th>Montreal</th>\n",
              "      <th>Boston</th>\n",
              "      <th>Beersheba</th>\n",
              "      <th>Tel Aviv District</th>\n",
              "      <th>Eilat</th>\n",
              "      <th>Haifa</th>\n",
              "      <th>Nahariyya</th>\n",
              "      <th>Jerusalem</th>\n",
              "    </tr>\n",
              "    <tr>\n",
              "      <th>datetime</th>\n",
              "      <th></th>\n",
              "      <th></th>\n",
              "      <th></th>\n",
              "      <th></th>\n",
              "      <th></th>\n",
              "      <th></th>\n",
              "      <th></th>\n",
              "      <th></th>\n",
              "      <th></th>\n",
              "      <th></th>\n",
              "      <th></th>\n",
              "      <th></th>\n",
              "      <th></th>\n",
              "      <th></th>\n",
              "      <th></th>\n",
              "      <th></th>\n",
              "      <th></th>\n",
              "      <th></th>\n",
              "      <th></th>\n",
              "      <th></th>\n",
              "      <th></th>\n",
              "    </tr>\n",
              "  </thead>\n",
              "  <tbody>\n",
              "    <tr>\n",
              "      <th>2012-10-01</th>\n",
              "      <td>931.627119</td>\n",
              "      <td>1022.644068</td>\n",
              "      <td>1010.881356</td>\n",
              "      <td>1031.271186</td>\n",
              "      <td>1011.627119</td>\n",
              "      <td>1011.966102</td>\n",
              "      <td>1016.322034</td>\n",
              "      <td>1012.084746</td>\n",
              "      <td>1022.542373</td>\n",
              "      <td>1024.118644</td>\n",
              "      <td>...</td>\n",
              "      <td>1014.152542</td>\n",
              "      <td>1013.423729</td>\n",
              "      <td>937.627119</td>\n",
              "      <td>1013.677966</td>\n",
              "      <td>985.050847</td>\n",
              "      <td>1012.949153</td>\n",
              "      <td>1011.796610</td>\n",
              "      <td>1013.000000</td>\n",
              "      <td>1013.000000</td>\n",
              "      <td>990.525424</td>\n",
              "    </tr>\n",
              "    <tr>\n",
              "      <th>2012-10-04</th>\n",
              "      <td>1019.083333</td>\n",
              "      <td>1023.041667</td>\n",
              "      <td>1014.694444</td>\n",
              "      <td>1028.305556</td>\n",
              "      <td>1015.555556</td>\n",
              "      <td>1016.277778</td>\n",
              "      <td>1013.194444</td>\n",
              "      <td>1014.097222</td>\n",
              "      <td>1019.972222</td>\n",
              "      <td>1020.666667</td>\n",
              "      <td>...</td>\n",
              "      <td>1018.097222</td>\n",
              "      <td>1017.680556</td>\n",
              "      <td>1017.180556</td>\n",
              "      <td>1019.805556</td>\n",
              "      <td>984.930556</td>\n",
              "      <td>1013.083333</td>\n",
              "      <td>1012.611111</td>\n",
              "      <td>1013.000000</td>\n",
              "      <td>1013.000000</td>\n",
              "      <td>990.083333</td>\n",
              "    </tr>\n",
              "    <tr>\n",
              "      <th>2012-10-07</th>\n",
              "      <td>1013.930556</td>\n",
              "      <td>1017.444444</td>\n",
              "      <td>1016.597222</td>\n",
              "      <td>1018.736111</td>\n",
              "      <td>1013.416667</td>\n",
              "      <td>1014.222222</td>\n",
              "      <td>1012.888889</td>\n",
              "      <td>1011.861111</td>\n",
              "      <td>1005.833333</td>\n",
              "      <td>1020.458333</td>\n",
              "      <td>...</td>\n",
              "      <td>1017.958333</td>\n",
              "      <td>1016.750000</td>\n",
              "      <td>1014.152778</td>\n",
              "      <td>1016.305556</td>\n",
              "      <td>982.972222</td>\n",
              "      <td>1013.027778</td>\n",
              "      <td>1007.555556</td>\n",
              "      <td>1013.000000</td>\n",
              "      <td>1013.000000</td>\n",
              "      <td>989.833333</td>\n",
              "    </tr>\n",
              "    <tr>\n",
              "      <th>2012-10-10</th>\n",
              "      <td>1015.000000</td>\n",
              "      <td>1015.430556</td>\n",
              "      <td>1014.833333</td>\n",
              "      <td>1018.416667</td>\n",
              "      <td>1010.694444</td>\n",
              "      <td>1014.013889</td>\n",
              "      <td>1000.166667</td>\n",
              "      <td>1005.611111</td>\n",
              "      <td>986.000000</td>\n",
              "      <td>984.486111</td>\n",
              "      <td>...</td>\n",
              "      <td>1018.694444</td>\n",
              "      <td>1017.916667</td>\n",
              "      <td>1016.166667</td>\n",
              "      <td>1017.319444</td>\n",
              "      <td>979.763889</td>\n",
              "      <td>1006.527778</td>\n",
              "      <td>998.763889</td>\n",
              "      <td>1012.333333</td>\n",
              "      <td>1012.333333</td>\n",
              "      <td>987.888889</td>\n",
              "    </tr>\n",
              "    <tr>\n",
              "      <th>2012-10-13</th>\n",
              "      <td>1008.152778</td>\n",
              "      <td>1018.111111</td>\n",
              "      <td>1021.069444</td>\n",
              "      <td>1015.930556</td>\n",
              "      <td>1017.277778</td>\n",
              "      <td>1018.375000</td>\n",
              "      <td>1015.666667</td>\n",
              "      <td>1015.500000</td>\n",
              "      <td>1013.625000</td>\n",
              "      <td>1010.444444</td>\n",
              "      <td>...</td>\n",
              "      <td>1025.055556</td>\n",
              "      <td>1024.388889</td>\n",
              "      <td>1020.805556</td>\n",
              "      <td>1023.736111</td>\n",
              "      <td>984.527778</td>\n",
              "      <td>1013.027778</td>\n",
              "      <td>1007.194444</td>\n",
              "      <td>1013.000000</td>\n",
              "      <td>1013.000000</td>\n",
              "      <td>990.430556</td>\n",
              "    </tr>\n",
              "  </tbody>\n",
              "</table>\n",
              "<p>5 rows × 36 columns</p>\n",
              "</div>\n",
              "      <button class=\"colab-df-convert\" onclick=\"convertToInteractive('df-4165b6f1-6138-434f-8409-472ae39888c6')\"\n",
              "              title=\"Convert this dataframe to an interactive table.\"\n",
              "              style=\"display:none;\">\n",
              "        \n",
              "  <svg xmlns=\"http://www.w3.org/2000/svg\" height=\"24px\"viewBox=\"0 0 24 24\"\n",
              "       width=\"24px\">\n",
              "    <path d=\"M0 0h24v24H0V0z\" fill=\"none\"/>\n",
              "    <path d=\"M18.56 5.44l.94 2.06.94-2.06 2.06-.94-2.06-.94-.94-2.06-.94 2.06-2.06.94zm-11 1L8.5 8.5l.94-2.06 2.06-.94-2.06-.94L8.5 2.5l-.94 2.06-2.06.94zm10 10l.94 2.06.94-2.06 2.06-.94-2.06-.94-.94-2.06-.94 2.06-2.06.94z\"/><path d=\"M17.41 7.96l-1.37-1.37c-.4-.4-.92-.59-1.43-.59-.52 0-1.04.2-1.43.59L10.3 9.45l-7.72 7.72c-.78.78-.78 2.05 0 2.83L4 21.41c.39.39.9.59 1.41.59.51 0 1.02-.2 1.41-.59l7.78-7.78 2.81-2.81c.8-.78.8-2.07 0-2.86zM5.41 20L4 18.59l7.72-7.72 1.47 1.35L5.41 20z\"/>\n",
              "  </svg>\n",
              "      </button>\n",
              "      \n",
              "  <style>\n",
              "    .colab-df-container {\n",
              "      display:flex;\n",
              "      flex-wrap:wrap;\n",
              "      gap: 12px;\n",
              "    }\n",
              "\n",
              "    .colab-df-convert {\n",
              "      background-color: #E8F0FE;\n",
              "      border: none;\n",
              "      border-radius: 50%;\n",
              "      cursor: pointer;\n",
              "      display: none;\n",
              "      fill: #1967D2;\n",
              "      height: 32px;\n",
              "      padding: 0 0 0 0;\n",
              "      width: 32px;\n",
              "    }\n",
              "\n",
              "    .colab-df-convert:hover {\n",
              "      background-color: #E2EBFA;\n",
              "      box-shadow: 0px 1px 2px rgba(60, 64, 67, 0.3), 0px 1px 3px 1px rgba(60, 64, 67, 0.15);\n",
              "      fill: #174EA6;\n",
              "    }\n",
              "\n",
              "    [theme=dark] .colab-df-convert {\n",
              "      background-color: #3B4455;\n",
              "      fill: #D2E3FC;\n",
              "    }\n",
              "\n",
              "    [theme=dark] .colab-df-convert:hover {\n",
              "      background-color: #434B5C;\n",
              "      box-shadow: 0px 1px 3px 1px rgba(0, 0, 0, 0.15);\n",
              "      filter: drop-shadow(0px 1px 2px rgba(0, 0, 0, 0.3));\n",
              "      fill: #FFFFFF;\n",
              "    }\n",
              "  </style>\n",
              "\n",
              "      <script>\n",
              "        const buttonEl =\n",
              "          document.querySelector('#df-4165b6f1-6138-434f-8409-472ae39888c6 button.colab-df-convert');\n",
              "        buttonEl.style.display =\n",
              "          google.colab.kernel.accessAllowed ? 'block' : 'none';\n",
              "\n",
              "        async function convertToInteractive(key) {\n",
              "          const element = document.querySelector('#df-4165b6f1-6138-434f-8409-472ae39888c6');\n",
              "          const dataTable =\n",
              "            await google.colab.kernel.invokeFunction('convertToInteractive',\n",
              "                                                     [key], {});\n",
              "          if (!dataTable) return;\n",
              "\n",
              "          const docLinkHtml = 'Like what you see? Visit the ' +\n",
              "            '<a target=\"_blank\" href=https://colab.research.google.com/notebooks/data_table.ipynb>data table notebook</a>'\n",
              "            + ' to learn more about interactive tables.';\n",
              "          element.innerHTML = '';\n",
              "          dataTable['output_type'] = 'display_data';\n",
              "          await google.colab.output.renderOutput(dataTable, element);\n",
              "          const docLink = document.createElement('div');\n",
              "          docLink.innerHTML = docLinkHtml;\n",
              "          element.appendChild(docLink);\n",
              "        }\n",
              "      </script>\n",
              "    </div>\n",
              "  </div>\n",
              "  "
            ],
            "text/plain": [
              "              Vancouver     Portland  San Francisco      Seattle  Los Angeles  \\\n",
              "datetime                                                                        \n",
              "2012-10-01   931.627119  1022.644068    1010.881356  1031.271186  1011.627119   \n",
              "2012-10-04  1019.083333  1023.041667    1014.694444  1028.305556  1015.555556   \n",
              "2012-10-07  1013.930556  1017.444444    1016.597222  1018.736111  1013.416667   \n",
              "2012-10-10  1015.000000  1015.430556    1014.833333  1018.416667  1010.694444   \n",
              "2012-10-13  1008.152778  1018.111111    1021.069444  1015.930556  1017.277778   \n",
              "\n",
              "              San Diego    Las Vegas      Phoenix  Albuquerque       Denver  \\\n",
              "datetime                                                                      \n",
              "2012-10-01  1011.966102  1016.322034  1012.084746  1022.542373  1024.118644   \n",
              "2012-10-04  1016.277778  1013.194444  1014.097222  1019.972222  1020.666667   \n",
              "2012-10-07  1014.222222  1012.888889  1011.861111  1005.833333  1020.458333   \n",
              "2012-10-10  1014.013889  1000.166667  1005.611111   986.000000   984.486111   \n",
              "2012-10-13  1018.375000  1015.666667  1015.500000  1013.625000  1010.444444   \n",
              "\n",
              "            ...  Philadelphia     New York     Montreal       Boston  \\\n",
              "datetime    ...                                                        \n",
              "2012-10-01  ...   1014.152542  1013.423729   937.627119  1013.677966   \n",
              "2012-10-04  ...   1018.097222  1017.680556  1017.180556  1019.805556   \n",
              "2012-10-07  ...   1017.958333  1016.750000  1014.152778  1016.305556   \n",
              "2012-10-10  ...   1018.694444  1017.916667  1016.166667  1017.319444   \n",
              "2012-10-13  ...   1025.055556  1024.388889  1020.805556  1023.736111   \n",
              "\n",
              "             Beersheba  Tel Aviv District        Eilat        Haifa  \\\n",
              "datetime                                                              \n",
              "2012-10-01  985.050847        1012.949153  1011.796610  1013.000000   \n",
              "2012-10-04  984.930556        1013.083333  1012.611111  1013.000000   \n",
              "2012-10-07  982.972222        1013.027778  1007.555556  1013.000000   \n",
              "2012-10-10  979.763889        1006.527778   998.763889  1012.333333   \n",
              "2012-10-13  984.527778        1013.027778  1007.194444  1013.000000   \n",
              "\n",
              "              Nahariyya   Jerusalem  \n",
              "datetime                             \n",
              "2012-10-01  1013.000000  990.525424  \n",
              "2012-10-04  1013.000000  990.083333  \n",
              "2012-10-07  1013.000000  989.833333  \n",
              "2012-10-10  1012.333333  987.888889  \n",
              "2012-10-13  1013.000000  990.430556  \n",
              "\n",
              "[5 rows x 36 columns]"
            ]
          },
          "metadata": {},
          "execution_count": 22
        }
      ]
    },
    {
      "cell_type": "markdown",
      "source": [
        "First, we used ffill parameter which propagates last valid observation to fill gaps. Then we use bfill to propogate next valid observation to fill gaps."
      ],
      "metadata": {
        "id": "nT_CX0PqQbKR"
      }
    },
    {
      "cell_type": "code",
      "source": [
        "# Shape after resampling(downsampling)\n",
        "pressure.shape"
      ],
      "metadata": {
        "colab": {
          "base_uri": "https://localhost:8080/"
        },
        "id": "wCviI3VPFNvd",
        "outputId": "1d193469-967d-437e-ac4e-3be583f1e453"
      },
      "execution_count": null,
      "outputs": [
        {
          "output_type": "execute_result",
          "data": {
            "text/plain": [
              "(629, 36)"
            ]
          },
          "metadata": {},
          "execution_count": 23
        }
      ]
    },
    {
      "cell_type": "markdown",
      "source": [
        "Much less rows are left. Now, we will upsample from 3 day frequency to daily frequency"
      ],
      "metadata": {
        "id": "vihcC3osQiLI"
      }
    },
    {
      "cell_type": "code",
      "source": [
        "pressure = pressure.resample('D').pad()\n",
        "pressure.head()"
      ],
      "metadata": {
        "colab": {
          "base_uri": "https://localhost:8080/",
          "height": 435
        },
        "id": "OyyqNo4uFPve",
        "outputId": "1b716577-cd93-46c6-e3f2-f13d7a89b867"
      },
      "execution_count": null,
      "outputs": [
        {
          "output_type": "execute_result",
          "data": {
            "text/html": [
              "\n",
              "  <div id=\"df-88ae9ffa-04bd-4630-b730-fb24a919aa78\">\n",
              "    <div class=\"colab-df-container\">\n",
              "      <div>\n",
              "<style scoped>\n",
              "    .dataframe tbody tr th:only-of-type {\n",
              "        vertical-align: middle;\n",
              "    }\n",
              "\n",
              "    .dataframe tbody tr th {\n",
              "        vertical-align: top;\n",
              "    }\n",
              "\n",
              "    .dataframe thead th {\n",
              "        text-align: right;\n",
              "    }\n",
              "</style>\n",
              "<table border=\"1\" class=\"dataframe\">\n",
              "  <thead>\n",
              "    <tr style=\"text-align: right;\">\n",
              "      <th></th>\n",
              "      <th>Vancouver</th>\n",
              "      <th>Portland</th>\n",
              "      <th>San Francisco</th>\n",
              "      <th>Seattle</th>\n",
              "      <th>Los Angeles</th>\n",
              "      <th>San Diego</th>\n",
              "      <th>Las Vegas</th>\n",
              "      <th>Phoenix</th>\n",
              "      <th>Albuquerque</th>\n",
              "      <th>Denver</th>\n",
              "      <th>...</th>\n",
              "      <th>Philadelphia</th>\n",
              "      <th>New York</th>\n",
              "      <th>Montreal</th>\n",
              "      <th>Boston</th>\n",
              "      <th>Beersheba</th>\n",
              "      <th>Tel Aviv District</th>\n",
              "      <th>Eilat</th>\n",
              "      <th>Haifa</th>\n",
              "      <th>Nahariyya</th>\n",
              "      <th>Jerusalem</th>\n",
              "    </tr>\n",
              "    <tr>\n",
              "      <th>datetime</th>\n",
              "      <th></th>\n",
              "      <th></th>\n",
              "      <th></th>\n",
              "      <th></th>\n",
              "      <th></th>\n",
              "      <th></th>\n",
              "      <th></th>\n",
              "      <th></th>\n",
              "      <th></th>\n",
              "      <th></th>\n",
              "      <th></th>\n",
              "      <th></th>\n",
              "      <th></th>\n",
              "      <th></th>\n",
              "      <th></th>\n",
              "      <th></th>\n",
              "      <th></th>\n",
              "      <th></th>\n",
              "      <th></th>\n",
              "      <th></th>\n",
              "      <th></th>\n",
              "    </tr>\n",
              "  </thead>\n",
              "  <tbody>\n",
              "    <tr>\n",
              "      <th>2012-10-01</th>\n",
              "      <td>931.627119</td>\n",
              "      <td>1022.644068</td>\n",
              "      <td>1010.881356</td>\n",
              "      <td>1031.271186</td>\n",
              "      <td>1011.627119</td>\n",
              "      <td>1011.966102</td>\n",
              "      <td>1016.322034</td>\n",
              "      <td>1012.084746</td>\n",
              "      <td>1022.542373</td>\n",
              "      <td>1024.118644</td>\n",
              "      <td>...</td>\n",
              "      <td>1014.152542</td>\n",
              "      <td>1013.423729</td>\n",
              "      <td>937.627119</td>\n",
              "      <td>1013.677966</td>\n",
              "      <td>985.050847</td>\n",
              "      <td>1012.949153</td>\n",
              "      <td>1011.796610</td>\n",
              "      <td>1013.0</td>\n",
              "      <td>1013.0</td>\n",
              "      <td>990.525424</td>\n",
              "    </tr>\n",
              "    <tr>\n",
              "      <th>2012-10-02</th>\n",
              "      <td>931.627119</td>\n",
              "      <td>1022.644068</td>\n",
              "      <td>1010.881356</td>\n",
              "      <td>1031.271186</td>\n",
              "      <td>1011.627119</td>\n",
              "      <td>1011.966102</td>\n",
              "      <td>1016.322034</td>\n",
              "      <td>1012.084746</td>\n",
              "      <td>1022.542373</td>\n",
              "      <td>1024.118644</td>\n",
              "      <td>...</td>\n",
              "      <td>1014.152542</td>\n",
              "      <td>1013.423729</td>\n",
              "      <td>937.627119</td>\n",
              "      <td>1013.677966</td>\n",
              "      <td>985.050847</td>\n",
              "      <td>1012.949153</td>\n",
              "      <td>1011.796610</td>\n",
              "      <td>1013.0</td>\n",
              "      <td>1013.0</td>\n",
              "      <td>990.525424</td>\n",
              "    </tr>\n",
              "    <tr>\n",
              "      <th>2012-10-03</th>\n",
              "      <td>931.627119</td>\n",
              "      <td>1022.644068</td>\n",
              "      <td>1010.881356</td>\n",
              "      <td>1031.271186</td>\n",
              "      <td>1011.627119</td>\n",
              "      <td>1011.966102</td>\n",
              "      <td>1016.322034</td>\n",
              "      <td>1012.084746</td>\n",
              "      <td>1022.542373</td>\n",
              "      <td>1024.118644</td>\n",
              "      <td>...</td>\n",
              "      <td>1014.152542</td>\n",
              "      <td>1013.423729</td>\n",
              "      <td>937.627119</td>\n",
              "      <td>1013.677966</td>\n",
              "      <td>985.050847</td>\n",
              "      <td>1012.949153</td>\n",
              "      <td>1011.796610</td>\n",
              "      <td>1013.0</td>\n",
              "      <td>1013.0</td>\n",
              "      <td>990.525424</td>\n",
              "    </tr>\n",
              "    <tr>\n",
              "      <th>2012-10-04</th>\n",
              "      <td>1019.083333</td>\n",
              "      <td>1023.041667</td>\n",
              "      <td>1014.694444</td>\n",
              "      <td>1028.305556</td>\n",
              "      <td>1015.555556</td>\n",
              "      <td>1016.277778</td>\n",
              "      <td>1013.194444</td>\n",
              "      <td>1014.097222</td>\n",
              "      <td>1019.972222</td>\n",
              "      <td>1020.666667</td>\n",
              "      <td>...</td>\n",
              "      <td>1018.097222</td>\n",
              "      <td>1017.680556</td>\n",
              "      <td>1017.180556</td>\n",
              "      <td>1019.805556</td>\n",
              "      <td>984.930556</td>\n",
              "      <td>1013.083333</td>\n",
              "      <td>1012.611111</td>\n",
              "      <td>1013.0</td>\n",
              "      <td>1013.0</td>\n",
              "      <td>990.083333</td>\n",
              "    </tr>\n",
              "    <tr>\n",
              "      <th>2012-10-05</th>\n",
              "      <td>1019.083333</td>\n",
              "      <td>1023.041667</td>\n",
              "      <td>1014.694444</td>\n",
              "      <td>1028.305556</td>\n",
              "      <td>1015.555556</td>\n",
              "      <td>1016.277778</td>\n",
              "      <td>1013.194444</td>\n",
              "      <td>1014.097222</td>\n",
              "      <td>1019.972222</td>\n",
              "      <td>1020.666667</td>\n",
              "      <td>...</td>\n",
              "      <td>1018.097222</td>\n",
              "      <td>1017.680556</td>\n",
              "      <td>1017.180556</td>\n",
              "      <td>1019.805556</td>\n",
              "      <td>984.930556</td>\n",
              "      <td>1013.083333</td>\n",
              "      <td>1012.611111</td>\n",
              "      <td>1013.0</td>\n",
              "      <td>1013.0</td>\n",
              "      <td>990.083333</td>\n",
              "    </tr>\n",
              "  </tbody>\n",
              "</table>\n",
              "<p>5 rows × 36 columns</p>\n",
              "</div>\n",
              "      <button class=\"colab-df-convert\" onclick=\"convertToInteractive('df-88ae9ffa-04bd-4630-b730-fb24a919aa78')\"\n",
              "              title=\"Convert this dataframe to an interactive table.\"\n",
              "              style=\"display:none;\">\n",
              "        \n",
              "  <svg xmlns=\"http://www.w3.org/2000/svg\" height=\"24px\"viewBox=\"0 0 24 24\"\n",
              "       width=\"24px\">\n",
              "    <path d=\"M0 0h24v24H0V0z\" fill=\"none\"/>\n",
              "    <path d=\"M18.56 5.44l.94 2.06.94-2.06 2.06-.94-2.06-.94-.94-2.06-.94 2.06-2.06.94zm-11 1L8.5 8.5l.94-2.06 2.06-.94-2.06-.94L8.5 2.5l-.94 2.06-2.06.94zm10 10l.94 2.06.94-2.06 2.06-.94-2.06-.94-.94-2.06-.94 2.06-2.06.94z\"/><path d=\"M17.41 7.96l-1.37-1.37c-.4-.4-.92-.59-1.43-.59-.52 0-1.04.2-1.43.59L10.3 9.45l-7.72 7.72c-.78.78-.78 2.05 0 2.83L4 21.41c.39.39.9.59 1.41.59.51 0 1.02-.2 1.41-.59l7.78-7.78 2.81-2.81c.8-.78.8-2.07 0-2.86zM5.41 20L4 18.59l7.72-7.72 1.47 1.35L5.41 20z\"/>\n",
              "  </svg>\n",
              "      </button>\n",
              "      \n",
              "  <style>\n",
              "    .colab-df-container {\n",
              "      display:flex;\n",
              "      flex-wrap:wrap;\n",
              "      gap: 12px;\n",
              "    }\n",
              "\n",
              "    .colab-df-convert {\n",
              "      background-color: #E8F0FE;\n",
              "      border: none;\n",
              "      border-radius: 50%;\n",
              "      cursor: pointer;\n",
              "      display: none;\n",
              "      fill: #1967D2;\n",
              "      height: 32px;\n",
              "      padding: 0 0 0 0;\n",
              "      width: 32px;\n",
              "    }\n",
              "\n",
              "    .colab-df-convert:hover {\n",
              "      background-color: #E2EBFA;\n",
              "      box-shadow: 0px 1px 2px rgba(60, 64, 67, 0.3), 0px 1px 3px 1px rgba(60, 64, 67, 0.15);\n",
              "      fill: #174EA6;\n",
              "    }\n",
              "\n",
              "    [theme=dark] .colab-df-convert {\n",
              "      background-color: #3B4455;\n",
              "      fill: #D2E3FC;\n",
              "    }\n",
              "\n",
              "    [theme=dark] .colab-df-convert:hover {\n",
              "      background-color: #434B5C;\n",
              "      box-shadow: 0px 1px 3px 1px rgba(0, 0, 0, 0.15);\n",
              "      filter: drop-shadow(0px 1px 2px rgba(0, 0, 0, 0.3));\n",
              "      fill: #FFFFFF;\n",
              "    }\n",
              "  </style>\n",
              "\n",
              "      <script>\n",
              "        const buttonEl =\n",
              "          document.querySelector('#df-88ae9ffa-04bd-4630-b730-fb24a919aa78 button.colab-df-convert');\n",
              "        buttonEl.style.display =\n",
              "          google.colab.kernel.accessAllowed ? 'block' : 'none';\n",
              "\n",
              "        async function convertToInteractive(key) {\n",
              "          const element = document.querySelector('#df-88ae9ffa-04bd-4630-b730-fb24a919aa78');\n",
              "          const dataTable =\n",
              "            await google.colab.kernel.invokeFunction('convertToInteractive',\n",
              "                                                     [key], {});\n",
              "          if (!dataTable) return;\n",
              "\n",
              "          const docLinkHtml = 'Like what you see? Visit the ' +\n",
              "            '<a target=\"_blank\" href=https://colab.research.google.com/notebooks/data_table.ipynb>data table notebook</a>'\n",
              "            + ' to learn more about interactive tables.';\n",
              "          element.innerHTML = '';\n",
              "          dataTable['output_type'] = 'display_data';\n",
              "          await google.colab.output.renderOutput(dataTable, element);\n",
              "          const docLink = document.createElement('div');\n",
              "          docLink.innerHTML = docLinkHtml;\n",
              "          element.appendChild(docLink);\n",
              "        }\n",
              "      </script>\n",
              "    </div>\n",
              "  </div>\n",
              "  "
            ],
            "text/plain": [
              "              Vancouver     Portland  San Francisco      Seattle  Los Angeles  \\\n",
              "datetime                                                                        \n",
              "2012-10-01   931.627119  1022.644068    1010.881356  1031.271186  1011.627119   \n",
              "2012-10-02   931.627119  1022.644068    1010.881356  1031.271186  1011.627119   \n",
              "2012-10-03   931.627119  1022.644068    1010.881356  1031.271186  1011.627119   \n",
              "2012-10-04  1019.083333  1023.041667    1014.694444  1028.305556  1015.555556   \n",
              "2012-10-05  1019.083333  1023.041667    1014.694444  1028.305556  1015.555556   \n",
              "\n",
              "              San Diego    Las Vegas      Phoenix  Albuquerque       Denver  \\\n",
              "datetime                                                                      \n",
              "2012-10-01  1011.966102  1016.322034  1012.084746  1022.542373  1024.118644   \n",
              "2012-10-02  1011.966102  1016.322034  1012.084746  1022.542373  1024.118644   \n",
              "2012-10-03  1011.966102  1016.322034  1012.084746  1022.542373  1024.118644   \n",
              "2012-10-04  1016.277778  1013.194444  1014.097222  1019.972222  1020.666667   \n",
              "2012-10-05  1016.277778  1013.194444  1014.097222  1019.972222  1020.666667   \n",
              "\n",
              "            ...  Philadelphia     New York     Montreal       Boston  \\\n",
              "datetime    ...                                                        \n",
              "2012-10-01  ...   1014.152542  1013.423729   937.627119  1013.677966   \n",
              "2012-10-02  ...   1014.152542  1013.423729   937.627119  1013.677966   \n",
              "2012-10-03  ...   1014.152542  1013.423729   937.627119  1013.677966   \n",
              "2012-10-04  ...   1018.097222  1017.680556  1017.180556  1019.805556   \n",
              "2012-10-05  ...   1018.097222  1017.680556  1017.180556  1019.805556   \n",
              "\n",
              "             Beersheba  Tel Aviv District        Eilat   Haifa  Nahariyya  \\\n",
              "datetime                                                                    \n",
              "2012-10-01  985.050847        1012.949153  1011.796610  1013.0     1013.0   \n",
              "2012-10-02  985.050847        1012.949153  1011.796610  1013.0     1013.0   \n",
              "2012-10-03  985.050847        1012.949153  1011.796610  1013.0     1013.0   \n",
              "2012-10-04  984.930556        1013.083333  1012.611111  1013.0     1013.0   \n",
              "2012-10-05  984.930556        1013.083333  1012.611111  1013.0     1013.0   \n",
              "\n",
              "             Jerusalem  \n",
              "datetime                \n",
              "2012-10-01  990.525424  \n",
              "2012-10-02  990.525424  \n",
              "2012-10-03  990.525424  \n",
              "2012-10-04  990.083333  \n",
              "2012-10-05  990.083333  \n",
              "\n",
              "[5 rows x 36 columns]"
            ]
          },
          "metadata": {},
          "execution_count": 24
        }
      ]
    },
    {
      "cell_type": "code",
      "source": [
        "# Shape after resampling(upsampling)\n",
        "pressure.shape"
      ],
      "metadata": {
        "colab": {
          "base_uri": "https://localhost:8080/"
        },
        "id": "COJ4AU77FRjp",
        "outputId": "b4efb869-a9bc-4bda-bf7e-8c44423e0abc"
      },
      "execution_count": null,
      "outputs": [
        {
          "output_type": "execute_result",
          "data": {
            "text/plain": [
              "(1885, 36)"
            ]
          },
          "metadata": {},
          "execution_count": 25
        }
      ]
    },
    {
      "cell_type": "markdown",
      "source": [
        "Upsampling - Time series is resampled from low frequency to high frequency(Monthly to daily frequency). It involves filling or interpolating missing data\n",
        "\n",
        "Downsampling - Time series is resampled from high frequency to low frequency(Weekly to monthly frequency). It involves aggregation of existing data."
      ],
      "metadata": {
        "id": "OK7v76oqQq7-"
      }
    },
    {
      "cell_type": "markdown",
      "source": [
        "Autocorrelation - The autocorrelation function (ACF) measures how a series is correlated with itself at different lags.\n",
        "Partial Autocorrelation - The partial autocorrelation function can be interpreted as a regression of the series against its past lags. The terms can be interpreted the same way as a standard linear regression, that is the contribution of a change in that particular lag while holding others constant."
      ],
      "metadata": {
        "id": "QooS2dDlSHRl"
      }
    },
    {
      "cell_type": "code",
      "source": [
        "# Autocorrelation of humidity of San Diego\n",
        "plot_acf(humidity[\"San Diego\"],lags=25,title=\"San Diego\")\n",
        "plt.show()"
      ],
      "metadata": {
        "colab": {
          "base_uri": "https://localhost:8080/",
          "height": 279
        },
        "id": "3IPEZ943FokJ",
        "outputId": "73b13435-8959-41a8-ebb8-ea6458d705f5"
      },
      "execution_count": null,
      "outputs": [
        {
          "output_type": "display_data",
          "data": {
            "image/png": "[encoded data removed]",
            "text/plain": [
              "<Figure size 432x288 with 1 Axes>"
            ]
          },
          "metadata": {
            "needs_background": "light"
          }
        }
      ]
    },
    {
      "cell_type": "markdown",
      "source": [
        "As all lags are either close to 1 or at least greater than the confidence interval, they are statistically significant."
      ],
      "metadata": {
        "id": "kjTMfiUCSMHV"
      }
    },
    {
      "cell_type": "code",
      "source": [
        "# Partial Autocorrelation of humidity of San Diego\n",
        "plot_pacf(humidity[\"San Diego\"],lags=25)\n",
        "plt.show()"
      ],
      "metadata": {
        "colab": {
          "base_uri": "https://localhost:8080/",
          "height": 279
        },
        "id": "e4hBXy2HFroH",
        "outputId": "6e087810-83d0-4b47-d7ca-b7f70e0f1398"
      },
      "execution_count": null,
      "outputs": [
        {
          "output_type": "display_data",
          "data": {
            "image/png": "[encoded data removed]",
            "text/plain": [
              "<Figure size 432x288 with 1 Axes>"
            ]
          },
          "metadata": {
            "needs_background": "light"
          }
        }
      ]
    },
    {
      "cell_type": "markdown",
      "source": [
        "Though it is statistically signficant, partial autocorrelation after first 2 lags is very low"
      ],
      "metadata": {
        "id": "X07_sjfwSRnZ"
      }
    },
    {
      "cell_type": "code",
      "source": [
        "humidity[\"Vancouver\"].plot(figsize=(20,10))"
      ],
      "metadata": {
        "colab": {
          "base_uri": "https://localhost:8080/",
          "height": 465
        },
        "id": "x8SBZPieGGNA",
        "outputId": "824c82c8-f3a1-42c9-9f80-971eebf1c8fe"
      },
      "execution_count": null,
      "outputs": [
        {
          "output_type": "execute_result",
          "data": {
            "text/plain": [
              "<matplotlib.axes._subplots.AxesSubplot at 0x7ff009219e50>"
            ]
          },
          "metadata": {},
          "execution_count": 30
        },
        {
          "output_type": "display_data",
          "data": {
            "image/png": "[encoded data removed]",
            "text/plain": [
              "<Figure size 1440x720 with 1 Axes>"
            ]
          },
          "metadata": {
            "needs_background": "light"
          }
        }
      ]
    },
    {
      "cell_type": "markdown",
      "source": [
        "These are the components of a time series\n",
        "\n",
        "Trend - Consistent upwards or downwards slope of a time series\n",
        "Seasonality - Clear periodic pattern of a time series(like sine funtion)\n",
        "Noise - Outliers or missing values"
      ],
      "metadata": {
        "id": "2Vm383gBT8q1"
      }
    },
    {
      "cell_type": "code",
      "source": [
        "# Now, for decomposition...\n",
        "rcParams['figure.figsize'] = 11, 9\n",
        "decomposed_google_volume = sm.tsa.seasonal_decompose(humidity[\"Vancouver\"],freq=1000) # The frequncy is annual\n",
        "figure = decomposed_google_volume.plot()\n",
        "plt.show()"
      ],
      "metadata": {
        "colab": {
          "base_uri": "https://localhost:8080/",
          "height": 657
        },
        "id": "CjMLBvMMGaip",
        "outputId": "67f23811-b283-4cdf-debf-9ae1f2087c70"
      },
      "execution_count": null,
      "outputs": [
        {
          "output_type": "display_data",
          "data": {
            "image/png": "[encoded data removed]",
            "text/plain": [
              "<Figure size 792x648 with 4 Axes>"
            ]
          },
          "metadata": {
            "needs_background": "light"
          }
        }
      ]
    },
    {
      "cell_type": "markdown",
      "source": [
        "For vancuvar city we have split the time series data in seasonal,trend,and residual component. In sesonal we are able to see the humidity gradually increases every year , year season folloing a prticular trend."
      ],
      "metadata": {
        "id": "lVlhfnlBTRje"
      }
    },
    {
      "cell_type": "code",
      "source": [
        "# Plotting white noise\n",
        "rcParams['figure.figsize'] = 16, 6\n",
        "white_noise = np.random.normal(loc=0, scale=1, size=1000)\n",
        "# loc is mean, scale is variance\n",
        "plt.plot(white_noise)"
      ],
      "metadata": {
        "colab": {
          "base_uri": "https://localhost:8080/",
          "height": 357
        },
        "id": "6nJ0TFhNHIWZ",
        "outputId": "f8025d51-cb9e-44b7-86aa-00d63cc94631"
      },
      "execution_count": null,
      "outputs": [
        {
          "output_type": "execute_result",
          "data": {
            "text/plain": [
              "[<matplotlib.lines.Line2D at 0x7ff005858a90>]"
            ]
          },
          "metadata": {},
          "execution_count": 35
        },
        {
          "output_type": "display_data",
          "data": {
            "image/png": "[encoded data removed]",
            "text/plain": [
              "<Figure size 1152x432 with 1 Axes>"
            ]
          },
          "metadata": {
            "needs_background": "light"
          }
        }
      ]
    },
    {
      "cell_type": "markdown",
      "source": [
        "White noise has\n",
        "\n",
        "Constant mean\n",
        "\n",
        "Constant variance\n",
        "\n",
        "Zero auto-correlation at all lags"
      ],
      "metadata": {
        "id": "z9kmNUQqUT80"
      }
    },
    {
      "cell_type": "code",
      "source": [
        "# Plotting autocorrelation of white noise\n",
        "plot_acf(white_noise,lags=20)\n",
        "plt.show()"
      ],
      "metadata": {
        "colab": {
          "base_uri": "https://localhost:8080/",
          "height": 355
        },
        "id": "sKtRyTOgHLZQ",
        "outputId": "03719e95-5ceb-4197-9502-4bbcbd211e1e"
      },
      "execution_count": null,
      "outputs": [
        {
          "output_type": "display_data",
          "data": {
            "image/png": "[encoded data removed]",
            "text/plain": [
              "<Figure size 1152x432 with 1 Axes>"
            ]
          },
          "metadata": {
            "needs_background": "light"
          }
        }
      ]
    },
    {
      "cell_type": "markdown",
      "source": [
        "We see how all lags are statistically insigficant as they lie inside the confidence interval(shaded portion)."
      ],
      "metadata": {
        "id": "0oWYYtSmUj98"
      }
    },
    {
      "cell_type": "code",
      "source": [
        "# The original non-stationary plot\n",
        "decomposed_google_volume.trend.plot()"
      ],
      "metadata": {
        "colab": {
          "base_uri": "https://localhost:8080/",
          "height": 373
        },
        "id": "IlJuW3frHbiI",
        "outputId": "54f03352-cd5f-463f-c57b-eeb374f64c01"
      },
      "execution_count": null,
      "outputs": [
        {
          "output_type": "execute_result",
          "data": {
            "text/plain": [
              "<matplotlib.axes._subplots.AxesSubplot at 0x7ff00e0ba050>"
            ]
          },
          "metadata": {},
          "execution_count": 37
        },
        {
          "output_type": "display_data",
          "data": {
            "image/png": "[encoded data removed]",
            "text/plain": [
              "<Figure size 1152x432 with 1 Axes>"
            ]
          },
          "metadata": {
            "needs_background": "light"
          }
        }
      ]
    },
    {
      "cell_type": "code",
      "source": [
        "# The new stationary plot\n",
        "decomposed_google_volume.trend.diff().plot()"
      ],
      "metadata": {
        "colab": {
          "base_uri": "https://localhost:8080/",
          "height": 368
        },
        "id": "z0OgMogbHwhp",
        "outputId": "4ee3b706-50dc-4619-bf17-e3d00d4dd58e"
      },
      "execution_count": null,
      "outputs": [
        {
          "output_type": "execute_result",
          "data": {
            "text/plain": [
              "<matplotlib.axes._subplots.AxesSubplot at 0x7ff006376850>"
            ]
          },
          "metadata": {},
          "execution_count": 38
        },
        {
          "output_type": "display_data",
          "data": {
            "image/png": "[encoded data removed]",
            "text/plain": [
              "<Figure size 1152x432 with 1 Axes>"
            ]
          },
          "metadata": {
            "needs_background": "light"
          }
        }
      ]
    },
    {
      "cell_type": "code",
      "source": [
        "# Forecasting and predicting montreal humidity\n",
        "model = ARMA(humidity[\"Montreal\"].diff().iloc[1:].values, order=(0,3))\n",
        "result = model.fit()\n",
        "print(result.summary())\n",
        "print(\"μ={} ,θ={}\".format(result.params[0],result.params[1]))\n",
        "result.plot_predict(start=1000, end=1100)\n",
        "plt.show()"
      ],
      "metadata": {
        "colab": {
          "base_uri": "https://localhost:8080/",
          "height": 1000
        },
        "id": "4suJZcvAIjsg",
        "outputId": "65bb8ac5-a0fa-4d23-a728-1c825513cd05"
      },
      "execution_count": null,
      "outputs": [
        {
          "output_type": "stream",
          "name": "stdout",
          "text": [
            "                              ARMA Model Results                              \n",
            "==============================================================================\n",
            "Dep. Variable:                      y   No. Observations:                45251\n",
            "Model:                     ARMA(0, 3)   Log Likelihood             -153516.982\n",
            "Method:                       css-mle   S.D. of innovations              7.197\n",
            "Date:                Wed, 09 Mar 2022   AIC                         307043.965\n",
            "Time:                        06:43:15   BIC                         307087.564\n",
            "Sample:                             0   HQIC                        307057.686\n",
            "                                                                              \n",
            "==============================================================================\n",
            "                 coef    std err          z      P>|z|      [0.025      0.975]\n",
            "------------------------------------------------------------------------------\n",
            "const         -0.0008      0.031     -0.025      0.980      -0.061       0.060\n",
            "ma.L1.y       -0.1621      0.005    -34.507      0.000      -0.171      -0.153\n",
            "ma.L2.y        0.0386      0.005      8.316      0.000       0.030       0.048\n",
            "ma.L3.y        0.0357      0.005      7.446      0.000       0.026       0.045\n",
            "                                    Roots                                    \n",
            "=============================================================================\n",
            "                  Real          Imaginary           Modulus         Frequency\n",
            "-----------------------------------------------------------------------------\n",
            "MA.1            1.4520           -2.2191j            2.6519           -0.1578\n",
            "MA.2            1.4520           +2.2191j            2.6519            0.1578\n",
            "MA.3           -3.9866           -0.0000j            3.9866           -0.5000\n",
            "-----------------------------------------------------------------------------\n",
            "μ=-0.0007783230793615682 ,θ=-0.16209478029968982\n"
          ]
        },
        {
          "output_type": "display_data",
          "data": {
            "image/png": "[encoded data removed]",
            "text/plain": [
              "<Figure size 1152x864 with 1 Axes>"
            ]
          },
          "metadata": {
            "needs_background": "light"
          }
        }
      ]
    },
    {
      "cell_type": "markdown",
      "source": [
        "Autoregressive–moving-average (ARMA) models provide a parsimonious description of a (weakly) stationary stochastic process in terms of two polynomials, one for the autoregression and the second for the moving average. It's the fusion of AR and MA models.\n",
        "\n",
        "ARMA(1,1) model\n",
        "Rt = μ + ϕRt-1 + ϵt + θϵt-1\n",
        "Basically, Today's return = mean + Yesterday's value + noise + yesterday's noise."
      ],
      "metadata": {
        "id": "QlPliHP4TA-C"
      }
    },
    {
      "cell_type": "code",
      "source": [
        "rmse = math.sqrt(mean_squared_error(humidity[\"Montreal\"].diff().iloc[1000:1101].values, result.predict(start=1000,end=1100)))\n",
        "print(\"The root mean squared error is {}.\".format(rmse))"
      ],
      "metadata": {
        "colab": {
          "base_uri": "https://localhost:8080/"
        },
        "id": "T9-T0XDgInWw",
        "outputId": "1f9c34a8-0aa8-46e1-dbca-e6c3947456ff"
      },
      "execution_count": null,
      "outputs": [
        {
          "output_type": "stream",
          "name": "stdout",
          "text": [
            "The root mean squared error is 11.34512804398336.\n"
          ]
        }
      ]
    },
    {
      "cell_type": "markdown",
      "source": [
        "Conclusion:\n",
        "\n",
        "Through this experiement I understood about how to make predictions of value which are time dependent. And Autoregressive moving average work and implemented the same using python. I understood about the components of time series data i.e trend,seasonality,residual etc. and also about white noise that presence of white noise in dataset created difficulty in predicting certain value and absence of it helps in improving the predictive model"
      ],
      "metadata": {
        "id": "wXcqpmXQUojL"
      }
    }
  ]
}
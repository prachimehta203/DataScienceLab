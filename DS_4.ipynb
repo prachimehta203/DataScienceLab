{
  "nbformat": 4,
  "nbformat_minor": 0,
  "metadata": {
    "colab": {
      "name": "DS_4.ipynb",
      "provenance": [],
      "collapsed_sections": []
    },
    "kernelspec": {
      "name": "python3",
      "display_name": "Python 3"
    },
    "language_info": {
      "name": "python"
    }
  },
  "cells": [
    {
      "cell_type": "markdown",
      "source": [
        "DS EXP 4\n",
        "\n",
        "Name: Prachi Mehta\n",
        "\n",
        "UID: 2018130025"
      ],
      "metadata": {
        "id": "TxXbz6wvL0s-"
      }
    },
    {
      "cell_type": "markdown",
      "source": [
        "# Analyze statistical data using Python/R programming"
      ],
      "metadata": {
        "id": "p8aGjRkaL-2f"
      }
    },
    {
      "cell_type": "markdown",
      "source": [
        "Importing necessary python library"
      ],
      "metadata": {
        "id": "cKBq9HVfNYmZ"
      }
    },
    {
      "cell_type": "code",
      "execution_count": null,
      "metadata": {
        "id": "PQZWWwy2Luf4"
      },
      "outputs": [],
      "source": [
        "import pandas as pd\n",
        "import numpy as np\n",
        "from matplotlib import pyplot as plt\n",
        "import scipy.stats as stats\n",
        "import math"
      ]
    },
    {
      "cell_type": "markdown",
      "source": [
        "Loading Dataset using Pandas"
      ],
      "metadata": {
        "id": "CY6nO_95PZNQ"
      }
    },
    {
      "cell_type": "code",
      "source": [
        "df = pd.read_csv('/content/sample_data/cust_seg.csv')"
      ],
      "metadata": {
        "id": "Dhz0wLY5PmNF"
      },
      "execution_count": null,
      "outputs": []
    },
    {
      "cell_type": "code",
      "source": [
        "df.head()"
      ],
      "metadata": {
        "colab": {
          "base_uri": "https://localhost:8080/",
          "height": 206
        },
        "id": "Up3d7QmMPyFT",
        "outputId": "31062b3c-51f5-4b4b-ac58-d825b1b3fb6b"
      },
      "execution_count": null,
      "outputs": [
        {
          "output_type": "execute_result",
          "data": {
            "text/plain": [
              "   custid  sex  AqChannel  region  Marital_status  segment  pre_usage  \\\n",
              "0      70    0          4       1               1        1         57   \n",
              "1     121    1          4       2               1        3         68   \n",
              "2      86    0          4       3               1        1         44   \n",
              "3     141    0          4       3               1        3         63   \n",
              "4     172    0          4       2               1        2         47   \n",
              "\n",
              "   Post_usage_1month  Latest_mon_usage  post_usage_2ndmonth  \n",
              "0                 52              49.2                 57.2  \n",
              "1                 59              63.6                 64.9  \n",
              "2                 33              64.8                 36.3  \n",
              "3                 44              56.4                 48.4  \n",
              "4                 52              68.4                 57.2  "
            ],
            "text/html": [
              "\n",
              "  <div id=\"df-1ec7ca42-5771-48de-8392-3ede4abe2ed5\">\n",
              "    <div class=\"colab-df-container\">\n",
              "      <div>\n",
              "<style scoped>\n",
              "    .dataframe tbody tr th:only-of-type {\n",
              "        vertical-align: middle;\n",
              "    }\n",
              "\n",
              "    .dataframe tbody tr th {\n",
              "        vertical-align: top;\n",
              "    }\n",
              "\n",
              "    .dataframe thead th {\n",
              "        text-align: right;\n",
              "    }\n",
              "</style>\n",
              "<table border=\"1\" class=\"dataframe\">\n",
              "  <thead>\n",
              "    <tr style=\"text-align: right;\">\n",
              "      <th></th>\n",
              "      <th>custid</th>\n",
              "      <th>sex</th>\n",
              "      <th>AqChannel</th>\n",
              "      <th>region</th>\n",
              "      <th>Marital_status</th>\n",
              "      <th>segment</th>\n",
              "      <th>pre_usage</th>\n",
              "      <th>Post_usage_1month</th>\n",
              "      <th>Latest_mon_usage</th>\n",
              "      <th>post_usage_2ndmonth</th>\n",
              "    </tr>\n",
              "  </thead>\n",
              "  <tbody>\n",
              "    <tr>\n",
              "      <th>0</th>\n",
              "      <td>70</td>\n",
              "      <td>0</td>\n",
              "      <td>4</td>\n",
              "      <td>1</td>\n",
              "      <td>1</td>\n",
              "      <td>1</td>\n",
              "      <td>57</td>\n",
              "      <td>52</td>\n",
              "      <td>49.2</td>\n",
              "      <td>57.2</td>\n",
              "    </tr>\n",
              "    <tr>\n",
              "      <th>1</th>\n",
              "      <td>121</td>\n",
              "      <td>1</td>\n",
              "      <td>4</td>\n",
              "      <td>2</td>\n",
              "      <td>1</td>\n",
              "      <td>3</td>\n",
              "      <td>68</td>\n",
              "      <td>59</td>\n",
              "      <td>63.6</td>\n",
              "      <td>64.9</td>\n",
              "    </tr>\n",
              "    <tr>\n",
              "      <th>2</th>\n",
              "      <td>86</td>\n",
              "      <td>0</td>\n",
              "      <td>4</td>\n",
              "      <td>3</td>\n",
              "      <td>1</td>\n",
              "      <td>1</td>\n",
              "      <td>44</td>\n",
              "      <td>33</td>\n",
              "      <td>64.8</td>\n",
              "      <td>36.3</td>\n",
              "    </tr>\n",
              "    <tr>\n",
              "      <th>3</th>\n",
              "      <td>141</td>\n",
              "      <td>0</td>\n",
              "      <td>4</td>\n",
              "      <td>3</td>\n",
              "      <td>1</td>\n",
              "      <td>3</td>\n",
              "      <td>63</td>\n",
              "      <td>44</td>\n",
              "      <td>56.4</td>\n",
              "      <td>48.4</td>\n",
              "    </tr>\n",
              "    <tr>\n",
              "      <th>4</th>\n",
              "      <td>172</td>\n",
              "      <td>0</td>\n",
              "      <td>4</td>\n",
              "      <td>2</td>\n",
              "      <td>1</td>\n",
              "      <td>2</td>\n",
              "      <td>47</td>\n",
              "      <td>52</td>\n",
              "      <td>68.4</td>\n",
              "      <td>57.2</td>\n",
              "    </tr>\n",
              "  </tbody>\n",
              "</table>\n",
              "</div>\n",
              "      <button class=\"colab-df-convert\" onclick=\"convertToInteractive('df-1ec7ca42-5771-48de-8392-3ede4abe2ed5')\"\n",
              "              title=\"Convert this dataframe to an interactive table.\"\n",
              "              style=\"display:none;\">\n",
              "        \n",
              "  <svg xmlns=\"http://www.w3.org/2000/svg\" height=\"24px\"viewBox=\"0 0 24 24\"\n",
              "       width=\"24px\">\n",
              "    <path d=\"M0 0h24v24H0V0z\" fill=\"none\"/>\n",
              "    <path d=\"M18.56 5.44l.94 2.06.94-2.06 2.06-.94-2.06-.94-.94-2.06-.94 2.06-2.06.94zm-11 1L8.5 8.5l.94-2.06 2.06-.94-2.06-.94L8.5 2.5l-.94 2.06-2.06.94zm10 10l.94 2.06.94-2.06 2.06-.94-2.06-.94-.94-2.06-.94 2.06-2.06.94z\"/><path d=\"M17.41 7.96l-1.37-1.37c-.4-.4-.92-.59-1.43-.59-.52 0-1.04.2-1.43.59L10.3 9.45l-7.72 7.72c-.78.78-.78 2.05 0 2.83L4 21.41c.39.39.9.59 1.41.59.51 0 1.02-.2 1.41-.59l7.78-7.78 2.81-2.81c.8-.78.8-2.07 0-2.86zM5.41 20L4 18.59l7.72-7.72 1.47 1.35L5.41 20z\"/>\n",
              "  </svg>\n",
              "      </button>\n",
              "      \n",
              "  <style>\n",
              "    .colab-df-container {\n",
              "      display:flex;\n",
              "      flex-wrap:wrap;\n",
              "      gap: 12px;\n",
              "    }\n",
              "\n",
              "    .colab-df-convert {\n",
              "      background-color: #E8F0FE;\n",
              "      border: none;\n",
              "      border-radius: 50%;\n",
              "      cursor: pointer;\n",
              "      display: none;\n",
              "      fill: #1967D2;\n",
              "      height: 32px;\n",
              "      padding: 0 0 0 0;\n",
              "      width: 32px;\n",
              "    }\n",
              "\n",
              "    .colab-df-convert:hover {\n",
              "      background-color: #E2EBFA;\n",
              "      box-shadow: 0px 1px 2px rgba(60, 64, 67, 0.3), 0px 1px 3px 1px rgba(60, 64, 67, 0.15);\n",
              "      fill: #174EA6;\n",
              "    }\n",
              "\n",
              "    [theme=dark] .colab-df-convert {\n",
              "      background-color: #3B4455;\n",
              "      fill: #D2E3FC;\n",
              "    }\n",
              "\n",
              "    [theme=dark] .colab-df-convert:hover {\n",
              "      background-color: #434B5C;\n",
              "      box-shadow: 0px 1px 3px 1px rgba(0, 0, 0, 0.15);\n",
              "      filter: drop-shadow(0px 1px 2px rgba(0, 0, 0, 0.3));\n",
              "      fill: #FFFFFF;\n",
              "    }\n",
              "  </style>\n",
              "\n",
              "      <script>\n",
              "        const buttonEl =\n",
              "          document.querySelector('#df-1ec7ca42-5771-48de-8392-3ede4abe2ed5 button.colab-df-convert');\n",
              "        buttonEl.style.display =\n",
              "          google.colab.kernel.accessAllowed ? 'block' : 'none';\n",
              "\n",
              "        async function convertToInteractive(key) {\n",
              "          const element = document.querySelector('#df-1ec7ca42-5771-48de-8392-3ede4abe2ed5');\n",
              "          const dataTable =\n",
              "            await google.colab.kernel.invokeFunction('convertToInteractive',\n",
              "                                                     [key], {});\n",
              "          if (!dataTable) return;\n",
              "\n",
              "          const docLinkHtml = 'Like what you see? Visit the ' +\n",
              "            '<a target=\"_blank\" href=https://colab.research.google.com/notebooks/data_table.ipynb>data table notebook</a>'\n",
              "            + ' to learn more about interactive tables.';\n",
              "          element.innerHTML = '';\n",
              "          dataTable['output_type'] = 'display_data';\n",
              "          await google.colab.output.renderOutput(dataTable, element);\n",
              "          const docLink = document.createElement('div');\n",
              "          docLink.innerHTML = docLinkHtml;\n",
              "          element.appendChild(docLink);\n",
              "        }\n",
              "      </script>\n",
              "    </div>\n",
              "  </div>\n",
              "  "
            ]
          },
          "metadata": {},
          "execution_count": 3
        }
      ]
    },
    {
      "cell_type": "code",
      "source": [
        "df.info()"
      ],
      "metadata": {
        "colab": {
          "base_uri": "https://localhost:8080/"
        },
        "id": "BTHP6bYiP6RU",
        "outputId": "93bdc12e-497b-4325-aa33-dddf9ababed0"
      },
      "execution_count": null,
      "outputs": [
        {
          "output_type": "stream",
          "name": "stdout",
          "text": [
            "<class 'pandas.core.frame.DataFrame'>\n",
            "RangeIndex: 200 entries, 0 to 199\n",
            "Data columns (total 10 columns):\n",
            " #   Column               Non-Null Count  Dtype  \n",
            "---  ------               --------------  -----  \n",
            " 0   custid               200 non-null    int64  \n",
            " 1   sex                  200 non-null    int64  \n",
            " 2   AqChannel            200 non-null    int64  \n",
            " 3   region               200 non-null    int64  \n",
            " 4   Marital_status       200 non-null    int64  \n",
            " 5   segment              200 non-null    int64  \n",
            " 6   pre_usage            200 non-null    int64  \n",
            " 7   Post_usage_1month    200 non-null    int64  \n",
            " 8   Latest_mon_usage     200 non-null    float64\n",
            " 9   post_usage_2ndmonth  200 non-null    float64\n",
            "dtypes: float64(2), int64(8)\n",
            "memory usage: 15.8 KB\n"
          ]
        }
      ]
    },
    {
      "cell_type": "markdown",
      "source": [
        "Handling NA values"
      ],
      "metadata": {
        "id": "UlKHELvpP_WA"
      }
    },
    {
      "cell_type": "code",
      "source": [
        "df.isnull().sum()"
      ],
      "metadata": {
        "colab": {
          "base_uri": "https://localhost:8080/"
        },
        "id": "CHQG9LR4P6a7",
        "outputId": "4261e444-b067-4d27-ce2d-d12f0f335cb4"
      },
      "execution_count": null,
      "outputs": [
        {
          "output_type": "execute_result",
          "data": {
            "text/plain": [
              "custid                 0\n",
              "sex                    0\n",
              "AqChannel              0\n",
              "region                 0\n",
              "Marital_status         0\n",
              "segment                0\n",
              "pre_usage              0\n",
              "Post_usage_1month      0\n",
              "Latest_mon_usage       0\n",
              "post_usage_2ndmonth    0\n",
              "dtype: int64"
            ]
          },
          "metadata": {},
          "execution_count": 5
        }
      ]
    },
    {
      "cell_type": "markdown",
      "source": [
        "#Descriptive Statistics"
      ],
      "metadata": {
        "id": "86msn_odQPdR"
      }
    },
    {
      "cell_type": "code",
      "source": [
        "df.mean()"
      ],
      "metadata": {
        "colab": {
          "base_uri": "https://localhost:8080/"
        },
        "id": "MstbNFMEQTDI",
        "outputId": "1f0bfd1e-da67-4ec4-be9b-06342e9846d1"
      },
      "execution_count": null,
      "outputs": [
        {
          "output_type": "execute_result",
          "data": {
            "text/plain": [
              "custid                 100.5000\n",
              "sex                      0.5450\n",
              "AqChannel                3.4300\n",
              "region                   2.0550\n",
              "Marital_status           1.1600\n",
              "segment                  2.0250\n",
              "pre_usage               52.2300\n",
              "Post_usage_1month       52.7750\n",
              "Latest_mon_usage        63.1740\n",
              "post_usage_2ndmonth     58.0525\n",
              "dtype: float64"
            ]
          },
          "metadata": {},
          "execution_count": 6
        }
      ]
    },
    {
      "cell_type": "code",
      "source": [
        "df.count()"
      ],
      "metadata": {
        "colab": {
          "base_uri": "https://localhost:8080/"
        },
        "id": "UWc4iCxoQZUg",
        "outputId": "b89f1140-5f8d-42c0-cd18-07df89812001"
      },
      "execution_count": null,
      "outputs": [
        {
          "output_type": "execute_result",
          "data": {
            "text/plain": [
              "custid                 200\n",
              "sex                    200\n",
              "AqChannel              200\n",
              "region                 200\n",
              "Marital_status         200\n",
              "segment                200\n",
              "pre_usage              200\n",
              "Post_usage_1month      200\n",
              "Latest_mon_usage       200\n",
              "post_usage_2ndmonth    200\n",
              "dtype: int64"
            ]
          },
          "metadata": {},
          "execution_count": 7
        }
      ]
    },
    {
      "cell_type": "code",
      "source": [
        "df.median()"
      ],
      "metadata": {
        "colab": {
          "base_uri": "https://localhost:8080/"
        },
        "id": "4H67C7CaQbH3",
        "outputId": "be3d087f-07ca-448c-8a6d-4e383df60946"
      },
      "execution_count": null,
      "outputs": [
        {
          "output_type": "execute_result",
          "data": {
            "text/plain": [
              "custid                 100.5\n",
              "sex                      1.0\n",
              "AqChannel                4.0\n",
              "region                   2.0\n",
              "Marital_status           1.0\n",
              "segment                  2.0\n",
              "pre_usage               50.0\n",
              "Post_usage_1month       54.0\n",
              "Latest_mon_usage        62.4\n",
              "post_usage_2ndmonth     59.4\n",
              "dtype: float64"
            ]
          },
          "metadata": {},
          "execution_count": 8
        }
      ]
    },
    {
      "cell_type": "code",
      "source": [
        "df.mode()"
      ],
      "metadata": {
        "colab": {
          "base_uri": "https://localhost:8080/",
          "height": 423
        },
        "id": "4bG3xD87QeSy",
        "outputId": "01d54e17-992c-41cc-9dd6-2e4b83b01426"
      },
      "execution_count": null,
      "outputs": [
        {
          "output_type": "execute_result",
          "data": {
            "text/plain": [
              "     custid  sex  AqChannel  region  Marital_status  segment  pre_usage  \\\n",
              "0         1  1.0        4.0     2.0             1.0      2.0       47.0   \n",
              "1         2  NaN        NaN     NaN             NaN      NaN        NaN   \n",
              "2         3  NaN        NaN     NaN             NaN      NaN        NaN   \n",
              "3         4  NaN        NaN     NaN             NaN      NaN        NaN   \n",
              "4         5  NaN        NaN     NaN             NaN      NaN        NaN   \n",
              "..      ...  ...        ...     ...             ...      ...        ...   \n",
              "195     196  NaN        NaN     NaN             NaN      NaN        NaN   \n",
              "196     197  NaN        NaN     NaN             NaN      NaN        NaN   \n",
              "197     198  NaN        NaN     NaN             NaN      NaN        NaN   \n",
              "198     199  NaN        NaN     NaN             NaN      NaN        NaN   \n",
              "199     200  NaN        NaN     NaN             NaN      NaN        NaN   \n",
              "\n",
              "     Post_usage_1month  Latest_mon_usage  post_usage_2ndmonth  \n",
              "0                 59.0              68.4                 64.9  \n",
              "1                  NaN               NaN                  NaN  \n",
              "2                  NaN               NaN                  NaN  \n",
              "3                  NaN               NaN                  NaN  \n",
              "4                  NaN               NaN                  NaN  \n",
              "..                 ...               ...                  ...  \n",
              "195                NaN               NaN                  NaN  \n",
              "196                NaN               NaN                  NaN  \n",
              "197                NaN               NaN                  NaN  \n",
              "198                NaN               NaN                  NaN  \n",
              "199                NaN               NaN                  NaN  \n",
              "\n",
              "[200 rows x 10 columns]"
            ],
            "text/html": [
              "\n",
              "  <div id=\"df-2d0b746c-d99e-4386-bdc7-dc448832dadc\">\n",
              "    <div class=\"colab-df-container\">\n",
              "      <div>\n",
              "<style scoped>\n",
              "    .dataframe tbody tr th:only-of-type {\n",
              "        vertical-align: middle;\n",
              "    }\n",
              "\n",
              "    .dataframe tbody tr th {\n",
              "        vertical-align: top;\n",
              "    }\n",
              "\n",
              "    .dataframe thead th {\n",
              "        text-align: right;\n",
              "    }\n",
              "</style>\n",
              "<table border=\"1\" class=\"dataframe\">\n",
              "  <thead>\n",
              "    <tr style=\"text-align: right;\">\n",
              "      <th></th>\n",
              "      <th>custid</th>\n",
              "      <th>sex</th>\n",
              "      <th>AqChannel</th>\n",
              "      <th>region</th>\n",
              "      <th>Marital_status</th>\n",
              "      <th>segment</th>\n",
              "      <th>pre_usage</th>\n",
              "      <th>Post_usage_1month</th>\n",
              "      <th>Latest_mon_usage</th>\n",
              "      <th>post_usage_2ndmonth</th>\n",
              "    </tr>\n",
              "  </thead>\n",
              "  <tbody>\n",
              "    <tr>\n",
              "      <th>0</th>\n",
              "      <td>1</td>\n",
              "      <td>1.0</td>\n",
              "      <td>4.0</td>\n",
              "      <td>2.0</td>\n",
              "      <td>1.0</td>\n",
              "      <td>2.0</td>\n",
              "      <td>47.0</td>\n",
              "      <td>59.0</td>\n",
              "      <td>68.4</td>\n",
              "      <td>64.9</td>\n",
              "    </tr>\n",
              "    <tr>\n",
              "      <th>1</th>\n",
              "      <td>2</td>\n",
              "      <td>NaN</td>\n",
              "      <td>NaN</td>\n",
              "      <td>NaN</td>\n",
              "      <td>NaN</td>\n",
              "      <td>NaN</td>\n",
              "      <td>NaN</td>\n",
              "      <td>NaN</td>\n",
              "      <td>NaN</td>\n",
              "      <td>NaN</td>\n",
              "    </tr>\n",
              "    <tr>\n",
              "      <th>2</th>\n",
              "      <td>3</td>\n",
              "      <td>NaN</td>\n",
              "      <td>NaN</td>\n",
              "      <td>NaN</td>\n",
              "      <td>NaN</td>\n",
              "      <td>NaN</td>\n",
              "      <td>NaN</td>\n",
              "      <td>NaN</td>\n",
              "      <td>NaN</td>\n",
              "      <td>NaN</td>\n",
              "    </tr>\n",
              "    <tr>\n",
              "      <th>3</th>\n",
              "      <td>4</td>\n",
              "      <td>NaN</td>\n",
              "      <td>NaN</td>\n",
              "      <td>NaN</td>\n",
              "      <td>NaN</td>\n",
              "      <td>NaN</td>\n",
              "      <td>NaN</td>\n",
              "      <td>NaN</td>\n",
              "      <td>NaN</td>\n",
              "      <td>NaN</td>\n",
              "    </tr>\n",
              "    <tr>\n",
              "      <th>4</th>\n",
              "      <td>5</td>\n",
              "      <td>NaN</td>\n",
              "      <td>NaN</td>\n",
              "      <td>NaN</td>\n",
              "      <td>NaN</td>\n",
              "      <td>NaN</td>\n",
              "      <td>NaN</td>\n",
              "      <td>NaN</td>\n",
              "      <td>NaN</td>\n",
              "      <td>NaN</td>\n",
              "    </tr>\n",
              "    <tr>\n",
              "      <th>...</th>\n",
              "      <td>...</td>\n",
              "      <td>...</td>\n",
              "      <td>...</td>\n",
              "      <td>...</td>\n",
              "      <td>...</td>\n",
              "      <td>...</td>\n",
              "      <td>...</td>\n",
              "      <td>...</td>\n",
              "      <td>...</td>\n",
              "      <td>...</td>\n",
              "    </tr>\n",
              "    <tr>\n",
              "      <th>195</th>\n",
              "      <td>196</td>\n",
              "      <td>NaN</td>\n",
              "      <td>NaN</td>\n",
              "      <td>NaN</td>\n",
              "      <td>NaN</td>\n",
              "      <td>NaN</td>\n",
              "      <td>NaN</td>\n",
              "      <td>NaN</td>\n",
              "      <td>NaN</td>\n",
              "      <td>NaN</td>\n",
              "    </tr>\n",
              "    <tr>\n",
              "      <th>196</th>\n",
              "      <td>197</td>\n",
              "      <td>NaN</td>\n",
              "      <td>NaN</td>\n",
              "      <td>NaN</td>\n",
              "      <td>NaN</td>\n",
              "      <td>NaN</td>\n",
              "      <td>NaN</td>\n",
              "      <td>NaN</td>\n",
              "      <td>NaN</td>\n",
              "      <td>NaN</td>\n",
              "    </tr>\n",
              "    <tr>\n",
              "      <th>197</th>\n",
              "      <td>198</td>\n",
              "      <td>NaN</td>\n",
              "      <td>NaN</td>\n",
              "      <td>NaN</td>\n",
              "      <td>NaN</td>\n",
              "      <td>NaN</td>\n",
              "      <td>NaN</td>\n",
              "      <td>NaN</td>\n",
              "      <td>NaN</td>\n",
              "      <td>NaN</td>\n",
              "    </tr>\n",
              "    <tr>\n",
              "      <th>198</th>\n",
              "      <td>199</td>\n",
              "      <td>NaN</td>\n",
              "      <td>NaN</td>\n",
              "      <td>NaN</td>\n",
              "      <td>NaN</td>\n",
              "      <td>NaN</td>\n",
              "      <td>NaN</td>\n",
              "      <td>NaN</td>\n",
              "      <td>NaN</td>\n",
              "      <td>NaN</td>\n",
              "    </tr>\n",
              "    <tr>\n",
              "      <th>199</th>\n",
              "      <td>200</td>\n",
              "      <td>NaN</td>\n",
              "      <td>NaN</td>\n",
              "      <td>NaN</td>\n",
              "      <td>NaN</td>\n",
              "      <td>NaN</td>\n",
              "      <td>NaN</td>\n",
              "      <td>NaN</td>\n",
              "      <td>NaN</td>\n",
              "      <td>NaN</td>\n",
              "    </tr>\n",
              "  </tbody>\n",
              "</table>\n",
              "<p>200 rows × 10 columns</p>\n",
              "</div>\n",
              "      <button class=\"colab-df-convert\" onclick=\"convertToInteractive('df-2d0b746c-d99e-4386-bdc7-dc448832dadc')\"\n",
              "              title=\"Convert this dataframe to an interactive table.\"\n",
              "              style=\"display:none;\">\n",
              "        \n",
              "  <svg xmlns=\"http://www.w3.org/2000/svg\" height=\"24px\"viewBox=\"0 0 24 24\"\n",
              "       width=\"24px\">\n",
              "    <path d=\"M0 0h24v24H0V0z\" fill=\"none\"/>\n",
              "    <path d=\"M18.56 5.44l.94 2.06.94-2.06 2.06-.94-2.06-.94-.94-2.06-.94 2.06-2.06.94zm-11 1L8.5 8.5l.94-2.06 2.06-.94-2.06-.94L8.5 2.5l-.94 2.06-2.06.94zm10 10l.94 2.06.94-2.06 2.06-.94-2.06-.94-.94-2.06-.94 2.06-2.06.94z\"/><path d=\"M17.41 7.96l-1.37-1.37c-.4-.4-.92-.59-1.43-.59-.52 0-1.04.2-1.43.59L10.3 9.45l-7.72 7.72c-.78.78-.78 2.05 0 2.83L4 21.41c.39.39.9.59 1.41.59.51 0 1.02-.2 1.41-.59l7.78-7.78 2.81-2.81c.8-.78.8-2.07 0-2.86zM5.41 20L4 18.59l7.72-7.72 1.47 1.35L5.41 20z\"/>\n",
              "  </svg>\n",
              "      </button>\n",
              "      \n",
              "  <style>\n",
              "    .colab-df-container {\n",
              "      display:flex;\n",
              "      flex-wrap:wrap;\n",
              "      gap: 12px;\n",
              "    }\n",
              "\n",
              "    .colab-df-convert {\n",
              "      background-color: #E8F0FE;\n",
              "      border: none;\n",
              "      border-radius: 50%;\n",
              "      cursor: pointer;\n",
              "      display: none;\n",
              "      fill: #1967D2;\n",
              "      height: 32px;\n",
              "      padding: 0 0 0 0;\n",
              "      width: 32px;\n",
              "    }\n",
              "\n",
              "    .colab-df-convert:hover {\n",
              "      background-color: #E2EBFA;\n",
              "      box-shadow: 0px 1px 2px rgba(60, 64, 67, 0.3), 0px 1px 3px 1px rgba(60, 64, 67, 0.15);\n",
              "      fill: #174EA6;\n",
              "    }\n",
              "\n",
              "    [theme=dark] .colab-df-convert {\n",
              "      background-color: #3B4455;\n",
              "      fill: #D2E3FC;\n",
              "    }\n",
              "\n",
              "    [theme=dark] .colab-df-convert:hover {\n",
              "      background-color: #434B5C;\n",
              "      box-shadow: 0px 1px 3px 1px rgba(0, 0, 0, 0.15);\n",
              "      filter: drop-shadow(0px 1px 2px rgba(0, 0, 0, 0.3));\n",
              "      fill: #FFFFFF;\n",
              "    }\n",
              "  </style>\n",
              "\n",
              "      <script>\n",
              "        const buttonEl =\n",
              "          document.querySelector('#df-2d0b746c-d99e-4386-bdc7-dc448832dadc button.colab-df-convert');\n",
              "        buttonEl.style.display =\n",
              "          google.colab.kernel.accessAllowed ? 'block' : 'none';\n",
              "\n",
              "        async function convertToInteractive(key) {\n",
              "          const element = document.querySelector('#df-2d0b746c-d99e-4386-bdc7-dc448832dadc');\n",
              "          const dataTable =\n",
              "            await google.colab.kernel.invokeFunction('convertToInteractive',\n",
              "                                                     [key], {});\n",
              "          if (!dataTable) return;\n",
              "\n",
              "          const docLinkHtml = 'Like what you see? Visit the ' +\n",
              "            '<a target=\"_blank\" href=https://colab.research.google.com/notebooks/data_table.ipynb>data table notebook</a>'\n",
              "            + ' to learn more about interactive tables.';\n",
              "          element.innerHTML = '';\n",
              "          dataTable['output_type'] = 'display_data';\n",
              "          await google.colab.output.renderOutput(dataTable, element);\n",
              "          const docLink = document.createElement('div');\n",
              "          docLink.innerHTML = docLinkHtml;\n",
              "          element.appendChild(docLink);\n",
              "        }\n",
              "      </script>\n",
              "    </div>\n",
              "  </div>\n",
              "  "
            ]
          },
          "metadata": {},
          "execution_count": 9
        }
      ]
    },
    {
      "cell_type": "code",
      "source": [
        "df.sum()"
      ],
      "metadata": {
        "colab": {
          "base_uri": "https://localhost:8080/"
        },
        "id": "1mLMTjNvQfT2",
        "outputId": "606ff105-f21e-4f1c-a85a-0a1816983631"
      },
      "execution_count": null,
      "outputs": [
        {
          "output_type": "execute_result",
          "data": {
            "text/plain": [
              "custid                 20100.0\n",
              "sex                      109.0\n",
              "AqChannel                686.0\n",
              "region                   411.0\n",
              "Marital_status           232.0\n",
              "segment                  405.0\n",
              "pre_usage              10446.0\n",
              "Post_usage_1month      10555.0\n",
              "Latest_mon_usage       12634.8\n",
              "post_usage_2ndmonth    11610.5\n",
              "dtype: float64"
            ]
          },
          "metadata": {},
          "execution_count": 10
        }
      ]
    },
    {
      "cell_type": "markdown",
      "source": [
        "#Dispersion Statistics"
      ],
      "metadata": {
        "id": "-S2ssV7dQus9"
      }
    },
    {
      "cell_type": "code",
      "source": [
        "df.std()"
      ],
      "metadata": {
        "colab": {
          "base_uri": "https://localhost:8080/"
        },
        "id": "yrYqumGEQx8c",
        "outputId": "5eaa1928-dc68-4aff-92ab-9cfd416c95b4"
      },
      "execution_count": null,
      "outputs": [
        {
          "output_type": "execute_result",
          "data": {
            "text/plain": [
              "custid                 57.879185\n",
              "sex                     0.499220\n",
              "AqChannel               1.039472\n",
              "region                  0.724291\n",
              "Marital_status          0.367526\n",
              "segment                 0.690477\n",
              "pre_usage              10.252937\n",
              "Post_usage_1month       9.478586\n",
              "Latest_mon_usage       11.242137\n",
              "post_usage_2ndmonth    10.426445\n",
              "dtype: float64"
            ]
          },
          "metadata": {},
          "execution_count": 11
        }
      ]
    },
    {
      "cell_type": "code",
      "source": [
        "df.var()"
      ],
      "metadata": {
        "colab": {
          "base_uri": "https://localhost:8080/"
        },
        "id": "Pie106twQ70m",
        "outputId": "142a000d-27f1-4a5e-9f90-ad29675f3634"
      },
      "execution_count": null,
      "outputs": [
        {
          "output_type": "execute_result",
          "data": {
            "text/plain": [
              "custid                 3350.000000\n",
              "sex                       0.249221\n",
              "AqChannel                 1.080503\n",
              "region                    0.524598\n",
              "Marital_status            0.135075\n",
              "segment                   0.476759\n",
              "pre_usage               105.122714\n",
              "Post_usage_1month        89.843593\n",
              "Latest_mon_usage        126.385652\n",
              "post_usage_2ndmonth     108.710747\n",
              "dtype: float64"
            ]
          },
          "metadata": {},
          "execution_count": 12
        }
      ]
    },
    {
      "cell_type": "code",
      "source": [
        "df.skew()"
      ],
      "metadata": {
        "colab": {
          "base_uri": "https://localhost:8080/"
        },
        "id": "e20w_xF7Q9nk",
        "outputId": "493a5ed4-fef6-4b2b-d1b0-d11576450375"
      },
      "execution_count": null,
      "outputs": [
        {
          "output_type": "execute_result",
          "data": {
            "text/plain": [
              "custid                 0.000000\n",
              "sex                   -0.182102\n",
              "AqChannel             -1.587534\n",
              "region                -0.083606\n",
              "Marital_status         1.868898\n",
              "segment               -0.032670\n",
              "pre_usage              0.196313\n",
              "Post_usage_1month     -0.482039\n",
              "Latest_mon_usage       0.286565\n",
              "post_usage_2ndmonth   -0.482039\n",
              "dtype: float64"
            ]
          },
          "metadata": {},
          "execution_count": 13
        }
      ]
    },
    {
      "cell_type": "code",
      "source": [
        "df.quantile()"
      ],
      "metadata": {
        "colab": {
          "base_uri": "https://localhost:8080/"
        },
        "id": "2k_sSb_3RCCB",
        "outputId": "9a6214a7-f488-4d8d-ee7d-ddf2bfb5d3c6"
      },
      "execution_count": null,
      "outputs": [
        {
          "output_type": "execute_result",
          "data": {
            "text/plain": [
              "custid                 100.5\n",
              "sex                      1.0\n",
              "AqChannel                4.0\n",
              "region                   2.0\n",
              "Marital_status           1.0\n",
              "segment                  2.0\n",
              "pre_usage               50.0\n",
              "Post_usage_1month       54.0\n",
              "Latest_mon_usage        62.4\n",
              "post_usage_2ndmonth     59.4\n",
              "Name: 0.5, dtype: float64"
            ]
          },
          "metadata": {},
          "execution_count": 15
        }
      ]
    },
    {
      "cell_type": "markdown",
      "source": [
        "#Describing the Dataset"
      ],
      "metadata": {
        "id": "Yf4AhVhPRMrb"
      }
    },
    {
      "cell_type": "code",
      "source": [
        "df.describe()"
      ],
      "metadata": {
        "colab": {
          "base_uri": "https://localhost:8080/",
          "height": 364
        },
        "id": "0ED5YSroRPAc",
        "outputId": "575a4f60-d66e-412a-d12d-1d82e3f49c69"
      },
      "execution_count": null,
      "outputs": [
        {
          "output_type": "execute_result",
          "data": {
            "text/plain": [
              "           custid        sex   AqChannel      region  Marital_status  \\\n",
              "count  200.000000  200.00000  200.000000  200.000000      200.000000   \n",
              "mean   100.500000    0.54500    3.430000    2.055000        1.160000   \n",
              "std     57.879185    0.49922    1.039472    0.724291        0.367526   \n",
              "min      1.000000    0.00000    1.000000    1.000000        1.000000   \n",
              "25%     50.750000    0.00000    3.000000    2.000000        1.000000   \n",
              "50%    100.500000    1.00000    4.000000    2.000000        1.000000   \n",
              "75%    150.250000    1.00000    4.000000    3.000000        1.000000   \n",
              "max    200.000000    1.00000    4.000000    3.000000        2.000000   \n",
              "\n",
              "          segment   pre_usage  Post_usage_1month  Latest_mon_usage  \\\n",
              "count  200.000000  200.000000         200.000000        200.000000   \n",
              "mean     2.025000   52.230000          52.775000         63.174000   \n",
              "std      0.690477   10.252937           9.478586         11.242137   \n",
              "min      1.000000   28.000000          31.000000         39.600000   \n",
              "25%      2.000000   44.000000          45.750000         54.000000   \n",
              "50%      2.000000   50.000000          54.000000         62.400000   \n",
              "75%      2.250000   60.000000          60.000000         70.800000   \n",
              "max      3.000000   76.000000          67.000000         90.000000   \n",
              "\n",
              "       post_usage_2ndmonth  \n",
              "count           200.000000  \n",
              "mean             58.052500  \n",
              "std              10.426445  \n",
              "min              34.100000  \n",
              "25%              50.325000  \n",
              "50%              59.400000  \n",
              "75%              66.000000  \n",
              "max              73.700000  "
            ],
            "text/html": [
              "\n",
              "  <div id=\"df-4ee6728b-db0c-471a-8aca-59adff2eb865\">\n",
              "    <div class=\"colab-df-container\">\n",
              "      <div>\n",
              "<style scoped>\n",
              "    .dataframe tbody tr th:only-of-type {\n",
              "        vertical-align: middle;\n",
              "    }\n",
              "\n",
              "    .dataframe tbody tr th {\n",
              "        vertical-align: top;\n",
              "    }\n",
              "\n",
              "    .dataframe thead th {\n",
              "        text-align: right;\n",
              "    }\n",
              "</style>\n",
              "<table border=\"1\" class=\"dataframe\">\n",
              "  <thead>\n",
              "    <tr style=\"text-align: right;\">\n",
              "      <th></th>\n",
              "      <th>custid</th>\n",
              "      <th>sex</th>\n",
              "      <th>AqChannel</th>\n",
              "      <th>region</th>\n",
              "      <th>Marital_status</th>\n",
              "      <th>segment</th>\n",
              "      <th>pre_usage</th>\n",
              "      <th>Post_usage_1month</th>\n",
              "      <th>Latest_mon_usage</th>\n",
              "      <th>post_usage_2ndmonth</th>\n",
              "    </tr>\n",
              "  </thead>\n",
              "  <tbody>\n",
              "    <tr>\n",
              "      <th>count</th>\n",
              "      <td>200.000000</td>\n",
              "      <td>200.00000</td>\n",
              "      <td>200.000000</td>\n",
              "      <td>200.000000</td>\n",
              "      <td>200.000000</td>\n",
              "      <td>200.000000</td>\n",
              "      <td>200.000000</td>\n",
              "      <td>200.000000</td>\n",
              "      <td>200.000000</td>\n",
              "      <td>200.000000</td>\n",
              "    </tr>\n",
              "    <tr>\n",
              "      <th>mean</th>\n",
              "      <td>100.500000</td>\n",
              "      <td>0.54500</td>\n",
              "      <td>3.430000</td>\n",
              "      <td>2.055000</td>\n",
              "      <td>1.160000</td>\n",
              "      <td>2.025000</td>\n",
              "      <td>52.230000</td>\n",
              "      <td>52.775000</td>\n",
              "      <td>63.174000</td>\n",
              "      <td>58.052500</td>\n",
              "    </tr>\n",
              "    <tr>\n",
              "      <th>std</th>\n",
              "      <td>57.879185</td>\n",
              "      <td>0.49922</td>\n",
              "      <td>1.039472</td>\n",
              "      <td>0.724291</td>\n",
              "      <td>0.367526</td>\n",
              "      <td>0.690477</td>\n",
              "      <td>10.252937</td>\n",
              "      <td>9.478586</td>\n",
              "      <td>11.242137</td>\n",
              "      <td>10.426445</td>\n",
              "    </tr>\n",
              "    <tr>\n",
              "      <th>min</th>\n",
              "      <td>1.000000</td>\n",
              "      <td>0.00000</td>\n",
              "      <td>1.000000</td>\n",
              "      <td>1.000000</td>\n",
              "      <td>1.000000</td>\n",
              "      <td>1.000000</td>\n",
              "      <td>28.000000</td>\n",
              "      <td>31.000000</td>\n",
              "      <td>39.600000</td>\n",
              "      <td>34.100000</td>\n",
              "    </tr>\n",
              "    <tr>\n",
              "      <th>25%</th>\n",
              "      <td>50.750000</td>\n",
              "      <td>0.00000</td>\n",
              "      <td>3.000000</td>\n",
              "      <td>2.000000</td>\n",
              "      <td>1.000000</td>\n",
              "      <td>2.000000</td>\n",
              "      <td>44.000000</td>\n",
              "      <td>45.750000</td>\n",
              "      <td>54.000000</td>\n",
              "      <td>50.325000</td>\n",
              "    </tr>\n",
              "    <tr>\n",
              "      <th>50%</th>\n",
              "      <td>100.500000</td>\n",
              "      <td>1.00000</td>\n",
              "      <td>4.000000</td>\n",
              "      <td>2.000000</td>\n",
              "      <td>1.000000</td>\n",
              "      <td>2.000000</td>\n",
              "      <td>50.000000</td>\n",
              "      <td>54.000000</td>\n",
              "      <td>62.400000</td>\n",
              "      <td>59.400000</td>\n",
              "    </tr>\n",
              "    <tr>\n",
              "      <th>75%</th>\n",
              "      <td>150.250000</td>\n",
              "      <td>1.00000</td>\n",
              "      <td>4.000000</td>\n",
              "      <td>3.000000</td>\n",
              "      <td>1.000000</td>\n",
              "      <td>2.250000</td>\n",
              "      <td>60.000000</td>\n",
              "      <td>60.000000</td>\n",
              "      <td>70.800000</td>\n",
              "      <td>66.000000</td>\n",
              "    </tr>\n",
              "    <tr>\n",
              "      <th>max</th>\n",
              "      <td>200.000000</td>\n",
              "      <td>1.00000</td>\n",
              "      <td>4.000000</td>\n",
              "      <td>3.000000</td>\n",
              "      <td>2.000000</td>\n",
              "      <td>3.000000</td>\n",
              "      <td>76.000000</td>\n",
              "      <td>67.000000</td>\n",
              "      <td>90.000000</td>\n",
              "      <td>73.700000</td>\n",
              "    </tr>\n",
              "  </tbody>\n",
              "</table>\n",
              "</div>\n",
              "      <button class=\"colab-df-convert\" onclick=\"convertToInteractive('df-4ee6728b-db0c-471a-8aca-59adff2eb865')\"\n",
              "              title=\"Convert this dataframe to an interactive table.\"\n",
              "              style=\"display:none;\">\n",
              "        \n",
              "  <svg xmlns=\"http://www.w3.org/2000/svg\" height=\"24px\"viewBox=\"0 0 24 24\"\n",
              "       width=\"24px\">\n",
              "    <path d=\"M0 0h24v24H0V0z\" fill=\"none\"/>\n",
              "    <path d=\"M18.56 5.44l.94 2.06.94-2.06 2.06-.94-2.06-.94-.94-2.06-.94 2.06-2.06.94zm-11 1L8.5 8.5l.94-2.06 2.06-.94-2.06-.94L8.5 2.5l-.94 2.06-2.06.94zm10 10l.94 2.06.94-2.06 2.06-.94-2.06-.94-.94-2.06-.94 2.06-2.06.94z\"/><path d=\"M17.41 7.96l-1.37-1.37c-.4-.4-.92-.59-1.43-.59-.52 0-1.04.2-1.43.59L10.3 9.45l-7.72 7.72c-.78.78-.78 2.05 0 2.83L4 21.41c.39.39.9.59 1.41.59.51 0 1.02-.2 1.41-.59l7.78-7.78 2.81-2.81c.8-.78.8-2.07 0-2.86zM5.41 20L4 18.59l7.72-7.72 1.47 1.35L5.41 20z\"/>\n",
              "  </svg>\n",
              "      </button>\n",
              "      \n",
              "  <style>\n",
              "    .colab-df-container {\n",
              "      display:flex;\n",
              "      flex-wrap:wrap;\n",
              "      gap: 12px;\n",
              "    }\n",
              "\n",
              "    .colab-df-convert {\n",
              "      background-color: #E8F0FE;\n",
              "      border: none;\n",
              "      border-radius: 50%;\n",
              "      cursor: pointer;\n",
              "      display: none;\n",
              "      fill: #1967D2;\n",
              "      height: 32px;\n",
              "      padding: 0 0 0 0;\n",
              "      width: 32px;\n",
              "    }\n",
              "\n",
              "    .colab-df-convert:hover {\n",
              "      background-color: #E2EBFA;\n",
              "      box-shadow: 0px 1px 2px rgba(60, 64, 67, 0.3), 0px 1px 3px 1px rgba(60, 64, 67, 0.15);\n",
              "      fill: #174EA6;\n",
              "    }\n",
              "\n",
              "    [theme=dark] .colab-df-convert {\n",
              "      background-color: #3B4455;\n",
              "      fill: #D2E3FC;\n",
              "    }\n",
              "\n",
              "    [theme=dark] .colab-df-convert:hover {\n",
              "      background-color: #434B5C;\n",
              "      box-shadow: 0px 1px 3px 1px rgba(0, 0, 0, 0.15);\n",
              "      filter: drop-shadow(0px 1px 2px rgba(0, 0, 0, 0.3));\n",
              "      fill: #FFFFFF;\n",
              "    }\n",
              "  </style>\n",
              "\n",
              "      <script>\n",
              "        const buttonEl =\n",
              "          document.querySelector('#df-4ee6728b-db0c-471a-8aca-59adff2eb865 button.colab-df-convert');\n",
              "        buttonEl.style.display =\n",
              "          google.colab.kernel.accessAllowed ? 'block' : 'none';\n",
              "\n",
              "        async function convertToInteractive(key) {\n",
              "          const element = document.querySelector('#df-4ee6728b-db0c-471a-8aca-59adff2eb865');\n",
              "          const dataTable =\n",
              "            await google.colab.kernel.invokeFunction('convertToInteractive',\n",
              "                                                     [key], {});\n",
              "          if (!dataTable) return;\n",
              "\n",
              "          const docLinkHtml = 'Like what you see? Visit the ' +\n",
              "            '<a target=\"_blank\" href=https://colab.research.google.com/notebooks/data_table.ipynb>data table notebook</a>'\n",
              "            + ' to learn more about interactive tables.';\n",
              "          element.innerHTML = '';\n",
              "          dataTable['output_type'] = 'display_data';\n",
              "          await google.colab.output.renderOutput(dataTable, element);\n",
              "          const docLink = document.createElement('div');\n",
              "          docLink.innerHTML = docLinkHtml;\n",
              "          element.appendChild(docLink);\n",
              "        }\n",
              "      </script>\n",
              "    </div>\n",
              "  </div>\n",
              "  "
            ]
          },
          "metadata": {},
          "execution_count": 16
        }
      ]
    },
    {
      "cell_type": "markdown",
      "source": [
        "#Hypothesis Testing"
      ],
      "metadata": {
        "id": "xkueNOuESKow"
      }
    },
    {
      "cell_type": "markdown",
      "source": [
        "**Card usage has been improved from last year usage which was 50**\n",
        "\n",
        "One sample t-test\n",
        "\n",
        "H0 (Null hypothesis) Sample_avg = 50\n",
        "\n",
        "Ha (ALT hypothesis) Sample_avg > 50\n",
        "\n",
        "If this is P < 0.05 and Sample_avg > 50 satisfied we can reject the NULL hypothesis. else we fail to reject the NULL hypothesis."
      ],
      "metadata": {
        "id": "yl8IoV2xTj-p"
      }
    },
    {
      "cell_type": "markdown",
      "source": [
        "The single sample t method tests a null hypothesis that the population mean is equal to a specified value. If this value is zero \n",
        "\n",
        " \n",
        "\n",
        "The test statistic is calculated as:\n",
        "\n",
        "![image.png](data:image/png;base64,iVBORw0KGgoAAAANSUhEUgAAAFMAAAApCAYAAABJCxWnAAAD8UlEQVRoge2avXLTQBCAPyVpqCJ3dCQVBQV2KqjilFSxeQFiGkocXoD4BcDMUEM8zFA7TxBDRwNmKJg0YGhIh+kyzIAp9g6dHel0tiJZsvPNaCxL1v2s93b3duWRX7yI66NMRzEFUQOeN1eB1yHXPwEPMx7LQlACto3vFcDPoN/yrA/mVTMbyKRGQBV4o853gR1gkFK/FeA9sEJgTrrAR+Bx3MNrKQ0qCRuIRu6p7yNkQr/UvTSpAd+M7x7yZ3ZcHs6jMH3gQJ1X1OcR8BU4Jlor94H1mLaHQNtyf5tgFYAIch3ox7QL5FOY5sCriKb0kQnaJtVD7KyNn5Z7HiLMuxP9fyc9s5I6PrLcQJb3kXGvdv7nF8YO8oeZpqSHLPENRLBWVtIZVyIO1eEjDkdrY5lg2aeBFpZ2ymVEU3tA3aWBPHrzPXUMgWeIF+0jwt2zPJeUHqKBA+AD4vB84Jo6n7rvMtnEcnF4E+dp/+kessTrF9XXBkFct2xoexnnwKyYNlMLsZekwYJSRQJzm7ePZRVZ1reAe8AZcILYq7OEAywSQ8TpDZM0sgrcAW4DD4B3wBXgVB1heI5HkTgloSAhmPQm8AXYQjxZFDvqcOEFBQ52Z0ELswE8RQxwFvnCKvAog36y4A8qDtXbSTMzE4frEra1dQI8d2wn7/yf5xrBnlRnRupIUiFsH7yP+5Zul2g79EMdC8kIsYU+4tUumQG9ZNvI7mcANLkAz5YBK8D1eQ8C+KxPihbCmLxCoo/fcx7HFspu5jGf6UIJ+AvccPitD9xEHOwlIbSQ2DiOGkEWaoBbsazl+LuFoMR4wthGjyB11kaSzTa8Kdo+RxGXeRN7HcekTbALc3GqVZYo0VMiXrvC8JHYOW75dnAzHwtBC3tuICrJokO/OOJi7CImcUKxaaWv7rUQgZglBlOQttJDQx0m2s6+RHaGXQLTkYeKxMzYtLJLsM09JLB7ewT19mPsmtdhPNNeVn3WkTjSTMzoEscYeXJAFaLTfx5SVjmOuF9FCl/riMC00+kzrm1RKUFtJ81Mu49oZBPJwj8xrkOOd4kNZCKTy0xzH7ut1NXMkWpn2tdo9oku5/YRDdU0VF+5tJ11ZDIDwjXPw757aRLYxDIy0WnLskeEC0fnd80iY5fAXOS2+NhABj75okGYY9DoimrTuDZgOs2sIPX5MLS91ILWJeGaupdmHT8RHqJVnYlrb7EvqS7yosKBOp92gm2iY8sW5yOIPmJLXTcOc6PFeP3appUmJWZ7dSZu++gTHgIVYu++iQizhZtWJkXb64WlQ+DZXbQyaV+J3uLIOzrZOiD98GMpSjRvSF8rl4a0311PhX9I1Mq0JebRGQAAAABJRU5ErkJggg==)\n",
        "\n",
        "\n",
        "- where x bar is the sample mean, s² is the sample variance, n is the sample size, µ is the specified population mean and t is a Student t quantile with n-1 degrees of freedom."
      ],
      "metadata": {
        "id": "UtytIWVmUwC3"
      }
    },
    {
      "cell_type": "code",
      "source": [
        "stats.ttest_1samp(a = df.Latest_mon_usage, popmean = 50) # pop mean is the hypothetical value"
      ],
      "metadata": {
        "colab": {
          "base_uri": "https://localhost:8080/"
        },
        "id": "V6S9sgztSNUL",
        "outputId": "5c78564d-ea5c-4256-e329-da50b1411501"
      },
      "execution_count": null,
      "outputs": [
        {
          "output_type": "execute_result",
          "data": {
            "text/plain": [
              "Ttest_1sampResult(statistic=16.57233752433133, pvalue=2.4963719280931583e-39)"
            ]
          },
          "metadata": {},
          "execution_count": 17
        }
      ]
    },
    {
      "cell_type": "code",
      "source": [
        "df.Latest_mon_usage.mean()"
      ],
      "metadata": {
        "colab": {
          "base_uri": "https://localhost:8080/"
        },
        "id": "j79d_0RpVUPO",
        "outputId": "1de44711-5a84-4a7e-b10e-ac7c2f5e0259"
      },
      "execution_count": null,
      "outputs": [
        {
          "output_type": "execute_result",
          "data": {
            "text/plain": [
              "63.17400000000001"
            ]
          },
          "metadata": {},
          "execution_count": 18
        }
      ]
    },
    {
      "cell_type": "markdown",
      "source": [
        "Since the p value is very small we reject the NULL hypothesis.\n",
        "\n",
        "Hence we fail and reject the NULL hypotheiss and accept the ALT hypothesis"
      ],
      "metadata": {
        "id": "OJ_yC0ymVcaA"
      }
    },
    {
      "cell_type": "markdown",
      "source": [
        "**The last campaign was successful in terms of credit card.**\n",
        "\n",
        "We can compare pre_usage and post_usage of the credit card - Paired sample t-test(dependent sample t-test)\n",
        "\n",
        "H0 (NULL hypothesis) Pre_avg = post_avg Ha (ALT hypothesis) pre_avg < post_avg\n",
        "\n",
        "if p < 0.05 and pre_avg < post_avg, we will reject null"
      ],
      "metadata": {
        "id": "8tojv0MmZX4x"
      }
    },
    {
      "cell_type": "code",
      "source": [
        "print(df.pre_usage.mean())\n",
        "print(df.Post_usage_1month.mean())\n",
        "print(df.post_usage_2ndmonth.mean())"
      ],
      "metadata": {
        "colab": {
          "base_uri": "https://localhost:8080/"
        },
        "id": "L-cUs5W5Zgl4",
        "outputId": "399e6e2a-fa77-4230-fe8a-56f9d50f6547"
      },
      "execution_count": null,
      "outputs": [
        {
          "output_type": "stream",
          "name": "stdout",
          "text": [
            "52.23\n",
            "52.775\n",
            "58.05250000000003\n"
          ]
        }
      ]
    },
    {
      "cell_type": "code",
      "source": [
        "stats.ttest_rel(a = df.pre_usage, b = df.Post_usage_1month)"
      ],
      "metadata": {
        "colab": {
          "base_uri": "https://localhost:8080/"
        },
        "id": "3pAa7d60ZmKs",
        "outputId": "8632331c-eaee-44b8-9121-fd07f88aca8c"
      },
      "execution_count": null,
      "outputs": [
        {
          "output_type": "execute_result",
          "data": {
            "text/plain": [
              "Ttest_relResult(statistic=-0.8673065458794775, pvalue=0.3868186820914985)"
            ]
          },
          "metadata": {},
          "execution_count": 20
        }
      ]
    },
    {
      "cell_type": "markdown",
      "source": [
        "Since the pvalue is not less than 0.05 we fail to reject the Null Hypothesis. Hence the campaign was successful"
      ],
      "metadata": {
        "id": "St5Lk5sIZsOu"
      }
    },
    {
      "cell_type": "markdown",
      "source": [
        "**Is there any differce in credit card spend usage between males and females?**\n",
        "\n",
        "Comparing two sample averages (both are independent samples)\n",
        "\n",
        "H0: males_avg = females_avg\n",
        "\n",
        "Ha: males_avg <> females_avg\n",
        "\n",
        "if p<0.05 then we reject NULL \n",
        "\n",
        "else, we fail to reject the NULL "
      ],
      "metadata": {
        "id": "7VlCvyb3Z0mw"
      }
    },
    {
      "cell_type": "code",
      "source": [
        "Males_spend = df.Post_usage_1month[df.sex == 0]\n",
        "Females_spend = df.Post_usage_1month[df.sex == 1]"
      ],
      "metadata": {
        "id": "5hFm6Yu6aAbG"
      },
      "execution_count": null,
      "outputs": []
    },
    {
      "cell_type": "code",
      "source": [
        "print(Males_spend.head())\n",
        "print(Females_spend.head())"
      ],
      "metadata": {
        "colab": {
          "base_uri": "https://localhost:8080/"
        },
        "id": "ilkkYDVyaHcb",
        "outputId": "bc8d3247-9019-4a51-9d9a-75d03d026874"
      },
      "execution_count": null,
      "outputs": [
        {
          "output_type": "stream",
          "name": "stdout",
          "text": [
            "0    52\n",
            "2    33\n",
            "3    44\n",
            "4    52\n",
            "5    52\n",
            "Name: Post_usage_1month, dtype: int64\n",
            "1     59\n",
            "92    62\n",
            "93    44\n",
            "94    44\n",
            "95    62\n",
            "Name: Post_usage_1month, dtype: int64\n"
          ]
        }
      ]
    },
    {
      "cell_type": "code",
      "source": [
        "print(Males_spend.mean())\n",
        "print(Females_spend.mean())"
      ],
      "metadata": {
        "colab": {
          "base_uri": "https://localhost:8080/"
        },
        "id": "6QCEHznjaLMG",
        "outputId": "1858a6fa-be0d-47b9-8af6-e0a382bcb26f"
      },
      "execution_count": null,
      "outputs": [
        {
          "output_type": "stream",
          "name": "stdout",
          "text": [
            "50.120879120879124\n",
            "54.99082568807339\n"
          ]
        }
      ]
    },
    {
      "cell_type": "code",
      "source": [
        "print(Males_spend.std())\n",
        "print(Females_spend.std())"
      ],
      "metadata": {
        "colab": {
          "base_uri": "https://localhost:8080/"
        },
        "id": "LDUef85caU_C",
        "outputId": "6b37a8e4-a309-4710-b79d-4f273957f550"
      },
      "execution_count": null,
      "outputs": [
        {
          "output_type": "stream",
          "name": "stdout",
          "text": [
            "10.305160697259263\n",
            "8.13371516959346\n"
          ]
        }
      ]
    },
    {
      "cell_type": "code",
      "source": [
        "stats.ttest_ind(a = Males_spend, b = Females_spend, equal_var = False)\n",
        "# equal_var Assume samples have equal variance?"
      ],
      "metadata": {
        "colab": {
          "base_uri": "https://localhost:8080/"
        },
        "id": "Cr2S8bNfaTnS",
        "outputId": "d25c4538-d429-423f-a09e-c41d228c3779"
      },
      "execution_count": null,
      "outputs": [
        {
          "output_type": "execute_result",
          "data": {
            "text/plain": [
              "Ttest_indResult(statistic=-3.6564080478875276, pvalue=0.00034088493594266187)"
            ]
          },
          "metadata": {},
          "execution_count": 25
        }
      ]
    },
    {
      "cell_type": "markdown",
      "source": [
        "Since pvalue is less than 0.05 we reject the NULL hypothesis. Hence, we conclude there is a difference between male spend and female spend"
      ],
      "metadata": {
        "id": "ouZufvvTaeCG"
      }
    },
    {
      "cell_type": "markdown",
      "source": [
        "**Is there any difference in credit card spend between segments?**\n",
        "\n",
        "ANOVA- Ftest\n",
        "\n",
        "H0 : S1_avg = S2_avg = S3_avg\n",
        "\n",
        "Ha: One of the segment avg is different from others.\n",
        "\n",
        "if p < 0.05, then we reject NULL , if p<0.05, there is relationship between segment and spend.\n",
        "\n",
        "else, we can not reject NULL."
      ],
      "metadata": {
        "id": "AYSI_U65cPpy"
      }
    },
    {
      "cell_type": "code",
      "source": [
        "df.segment.value_counts()"
      ],
      "metadata": {
        "colab": {
          "base_uri": "https://localhost:8080/"
        },
        "id": "YCkpW5tKcWB1",
        "outputId": "5b5b3f82-4009-44b8-9bac-525dca4a9493"
      },
      "execution_count": null,
      "outputs": [
        {
          "output_type": "execute_result",
          "data": {
            "text/plain": [
              "2    105\n",
              "3     50\n",
              "1     45\n",
              "Name: segment, dtype: int64"
            ]
          },
          "metadata": {},
          "execution_count": 26
        }
      ]
    },
    {
      "cell_type": "code",
      "source": [
        "s1 = df.Latest_mon_usage[df.segment == 1]\n",
        "s2 = df.Latest_mon_usage[df.segment == 2]\n",
        "s3 = df.Latest_mon_usage[df.segment == 3]\n",
        "\n",
        "# perform ANOVA test\n",
        "stats.f_oneway(s1, s2, s3)"
      ],
      "metadata": {
        "colab": {
          "base_uri": "https://localhost:8080/"
        },
        "id": "G3vLgUrZco5Z",
        "outputId": "0ba88987-4ae4-4375-dbd7-f5111a5e30a5"
      },
      "execution_count": null,
      "outputs": [
        {
          "output_type": "execute_result",
          "data": {
            "text/plain": [
              "F_onewayResult(statistic=29.279283801321778, pvalue=7.36401083352674e-12)"
            ]
          },
          "metadata": {},
          "execution_count": 27
        }
      ]
    },
    {
      "cell_type": "markdown",
      "source": [
        "Pvalue is less than 0.05. Hence, we can reject the NULL hypothesis which means there is a significant difference between the average of the segments.\n"
      ],
      "metadata": {
        "id": "y15KDcUGc2do"
      }
    },
    {
      "cell_type": "markdown",
      "source": [
        "**Is there any relationship between region and segment?**\n",
        "\n",
        "Chi Square test\n",
        "\n",
        "H0 : There is no relationship\n",
        "\n",
        "Ha : There is relationship\n",
        "\n",
        "if p < 0.05 , then we reject NULL,\n",
        "\n",
        "else, we fail to reject NULL Hypothesis."
      ],
      "metadata": {
        "id": "iXwXU8LZc9oW"
      }
    },
    {
      "cell_type": "code",
      "source": [
        "t = pd.crosstab(df.segment, df.region, margins = True)\n",
        "t\n",
        "# actual distribution between segment and region"
      ],
      "metadata": {
        "colab": {
          "base_uri": "https://localhost:8080/",
          "height": 206
        },
        "id": "ObShuAQIc6bW",
        "outputId": "24c74fea-afa4-4174-8a7b-01e74f71a981"
      },
      "execution_count": null,
      "outputs": [
        {
          "output_type": "execute_result",
          "data": {
            "text/plain": [
              "region    1   2   3  All\n",
              "segment                 \n",
              "1        16  20   9   45\n",
              "2        19  44  42  105\n",
              "3        12  31   7   50\n",
              "All      47  95  58  200"
            ],
            "text/html": [
              "\n",
              "  <div id=\"df-51b9c319-3e17-415f-96d9-5369442d66cb\">\n",
              "    <div class=\"colab-df-container\">\n",
              "      <div>\n",
              "<style scoped>\n",
              "    .dataframe tbody tr th:only-of-type {\n",
              "        vertical-align: middle;\n",
              "    }\n",
              "\n",
              "    .dataframe tbody tr th {\n",
              "        vertical-align: top;\n",
              "    }\n",
              "\n",
              "    .dataframe thead th {\n",
              "        text-align: right;\n",
              "    }\n",
              "</style>\n",
              "<table border=\"1\" class=\"dataframe\">\n",
              "  <thead>\n",
              "    <tr style=\"text-align: right;\">\n",
              "      <th>region</th>\n",
              "      <th>1</th>\n",
              "      <th>2</th>\n",
              "      <th>3</th>\n",
              "      <th>All</th>\n",
              "    </tr>\n",
              "    <tr>\n",
              "      <th>segment</th>\n",
              "      <th></th>\n",
              "      <th></th>\n",
              "      <th></th>\n",
              "      <th></th>\n",
              "    </tr>\n",
              "  </thead>\n",
              "  <tbody>\n",
              "    <tr>\n",
              "      <th>1</th>\n",
              "      <td>16</td>\n",
              "      <td>20</td>\n",
              "      <td>9</td>\n",
              "      <td>45</td>\n",
              "    </tr>\n",
              "    <tr>\n",
              "      <th>2</th>\n",
              "      <td>19</td>\n",
              "      <td>44</td>\n",
              "      <td>42</td>\n",
              "      <td>105</td>\n",
              "    </tr>\n",
              "    <tr>\n",
              "      <th>3</th>\n",
              "      <td>12</td>\n",
              "      <td>31</td>\n",
              "      <td>7</td>\n",
              "      <td>50</td>\n",
              "    </tr>\n",
              "    <tr>\n",
              "      <th>All</th>\n",
              "      <td>47</td>\n",
              "      <td>95</td>\n",
              "      <td>58</td>\n",
              "      <td>200</td>\n",
              "    </tr>\n",
              "  </tbody>\n",
              "</table>\n",
              "</div>\n",
              "      <button class=\"colab-df-convert\" onclick=\"convertToInteractive('df-51b9c319-3e17-415f-96d9-5369442d66cb')\"\n",
              "              title=\"Convert this dataframe to an interactive table.\"\n",
              "              style=\"display:none;\">\n",
              "        \n",
              "  <svg xmlns=\"http://www.w3.org/2000/svg\" height=\"24px\"viewBox=\"0 0 24 24\"\n",
              "       width=\"24px\">\n",
              "    <path d=\"M0 0h24v24H0V0z\" fill=\"none\"/>\n",
              "    <path d=\"M18.56 5.44l.94 2.06.94-2.06 2.06-.94-2.06-.94-.94-2.06-.94 2.06-2.06.94zm-11 1L8.5 8.5l.94-2.06 2.06-.94-2.06-.94L8.5 2.5l-.94 2.06-2.06.94zm10 10l.94 2.06.94-2.06 2.06-.94-2.06-.94-.94-2.06-.94 2.06-2.06.94z\"/><path d=\"M17.41 7.96l-1.37-1.37c-.4-.4-.92-.59-1.43-.59-.52 0-1.04.2-1.43.59L10.3 9.45l-7.72 7.72c-.78.78-.78 2.05 0 2.83L4 21.41c.39.39.9.59 1.41.59.51 0 1.02-.2 1.41-.59l7.78-7.78 2.81-2.81c.8-.78.8-2.07 0-2.86zM5.41 20L4 18.59l7.72-7.72 1.47 1.35L5.41 20z\"/>\n",
              "  </svg>\n",
              "      </button>\n",
              "      \n",
              "  <style>\n",
              "    .colab-df-container {\n",
              "      display:flex;\n",
              "      flex-wrap:wrap;\n",
              "      gap: 12px;\n",
              "    }\n",
              "\n",
              "    .colab-df-convert {\n",
              "      background-color: #E8F0FE;\n",
              "      border: none;\n",
              "      border-radius: 50%;\n",
              "      cursor: pointer;\n",
              "      display: none;\n",
              "      fill: #1967D2;\n",
              "      height: 32px;\n",
              "      padding: 0 0 0 0;\n",
              "      width: 32px;\n",
              "    }\n",
              "\n",
              "    .colab-df-convert:hover {\n",
              "      background-color: #E2EBFA;\n",
              "      box-shadow: 0px 1px 2px rgba(60, 64, 67, 0.3), 0px 1px 3px 1px rgba(60, 64, 67, 0.15);\n",
              "      fill: #174EA6;\n",
              "    }\n",
              "\n",
              "    [theme=dark] .colab-df-convert {\n",
              "      background-color: #3B4455;\n",
              "      fill: #D2E3FC;\n",
              "    }\n",
              "\n",
              "    [theme=dark] .colab-df-convert:hover {\n",
              "      background-color: #434B5C;\n",
              "      box-shadow: 0px 1px 3px 1px rgba(0, 0, 0, 0.15);\n",
              "      filter: drop-shadow(0px 1px 2px rgba(0, 0, 0, 0.3));\n",
              "      fill: #FFFFFF;\n",
              "    }\n",
              "  </style>\n",
              "\n",
              "      <script>\n",
              "        const buttonEl =\n",
              "          document.querySelector('#df-51b9c319-3e17-415f-96d9-5369442d66cb button.colab-df-convert');\n",
              "        buttonEl.style.display =\n",
              "          google.colab.kernel.accessAllowed ? 'block' : 'none';\n",
              "\n",
              "        async function convertToInteractive(key) {\n",
              "          const element = document.querySelector('#df-51b9c319-3e17-415f-96d9-5369442d66cb');\n",
              "          const dataTable =\n",
              "            await google.colab.kernel.invokeFunction('convertToInteractive',\n",
              "                                                     [key], {});\n",
              "          if (!dataTable) return;\n",
              "\n",
              "          const docLinkHtml = 'Like what you see? Visit the ' +\n",
              "            '<a target=\"_blank\" href=https://colab.research.google.com/notebooks/data_table.ipynb>data table notebook</a>'\n",
              "            + ' to learn more about interactive tables.';\n",
              "          element.innerHTML = '';\n",
              "          dataTable['output_type'] = 'display_data';\n",
              "          await google.colab.output.renderOutput(dataTable, element);\n",
              "          const docLink = document.createElement('div');\n",
              "          docLink.innerHTML = docLinkHtml;\n",
              "          element.appendChild(docLink);\n",
              "        }\n",
              "      </script>\n",
              "    </div>\n",
              "  </div>\n",
              "  "
            ]
          },
          "metadata": {},
          "execution_count": 28
        }
      ]
    },
    {
      "cell_type": "code",
      "source": [
        "stats.chi2_contingency(observed = t)"
      ],
      "metadata": {
        "colab": {
          "base_uri": "https://localhost:8080/"
        },
        "id": "kTqtmHCxdPbn",
        "outputId": "aa22e5d2-b486-42d9-d86a-e246b894db13"
      },
      "execution_count": null,
      "outputs": [
        {
          "output_type": "execute_result",
          "data": {
            "text/plain": [
              "(16.60444164948934,\n",
              " 0.055282939487992365,\n",
              " 9,\n",
              " array([[ 10.575,  21.375,  13.05 ,  45.   ],\n",
              "        [ 24.675,  49.875,  30.45 , 105.   ],\n",
              "        [ 11.75 ,  23.75 ,  14.5  ,  50.   ],\n",
              "        [ 47.   ,  95.   ,  58.   , 200.   ]]))"
            ]
          },
          "metadata": {},
          "execution_count": 29
        }
      ]
    },
    {
      "cell_type": "markdown",
      "source": [
        "Based on the p value we can say there is a relationship between region and segment."
      ],
      "metadata": {
        "id": "uSKy_xcUdOGg"
      }
    },
    {
      "cell_type": "markdown",
      "source": [
        "**Is there any relationship between card_usage_before and latest_month_usage.**\n",
        "\n",
        "Correlation\n",
        "\n",
        "H0 : There is no relationship\n",
        "\n",
        "Ha : There is relationship\n",
        "\n",
        "if p < 0.05 , then we reject NULL, There is relationship between latest month spend and pre usage\n",
        "\n",
        "else, we fail to reject NULL Hypothesis."
      ],
      "metadata": {
        "id": "fZL8z-fDdbQU"
      }
    },
    {
      "cell_type": "code",
      "source": [
        "print(np.corrcoef(df.Latest_mon_usage, df.Post_usage_1month))"
      ],
      "metadata": {
        "colab": {
          "base_uri": "https://localhost:8080/"
        },
        "id": "8EWnCN1kdiS_",
        "outputId": "50085603-aec7-449c-9ac8-99af45a6f2bd"
      },
      "execution_count": null,
      "outputs": [
        {
          "output_type": "stream",
          "name": "stdout",
          "text": [
            "[[1.         0.61744926]\n",
            " [0.61744926 1.        ]]\n"
          ]
        }
      ]
    },
    {
      "cell_type": "code",
      "source": [
        "print(stats.stats.pearsonr(df.Latest_mon_usage, df.Post_usage_1month))"
      ],
      "metadata": {
        "colab": {
          "base_uri": "https://localhost:8080/"
        },
        "id": "x3kP26QLdYI6",
        "outputId": "72324a2c-fad5-4407-d152-fd7f4307291d"
      },
      "execution_count": null,
      "outputs": [
        {
          "output_type": "stream",
          "name": "stdout",
          "text": [
            "(0.6174492644854919, 2.0866647416871924e-22)\n"
          ]
        }
      ]
    },
    {
      "cell_type": "markdown",
      "source": [
        "Since pval is less than 0.05 we reject the NULL hypothesis. Hence, there is a relationship. Moreover, Correlation talks about the linear relationship between the variables. That means if one is changing the other is also changing."
      ],
      "metadata": {
        "id": "Q_sXnSbUdbGs"
      }
    },
    {
      "cell_type": "markdown",
      "source": [
        "Conclusion:\n",
        "\n",
        "Through this experiment I performed statistical analysis on credit card usage dataset and also found out descriptive analysis like mean,variance,mode,standard deviation and so on.Hpothesis testing was performed on this dataset using One Sample t-test,Paired sample t-test,Independent sample t-test,ANOVA,chisquare test,Correlation test and based on p values those hypothesis we concluded whether or they are accepted or rejected"
      ],
      "metadata": {
        "id": "B3SuGqsNSeR2"
      }
    }
  ]
}